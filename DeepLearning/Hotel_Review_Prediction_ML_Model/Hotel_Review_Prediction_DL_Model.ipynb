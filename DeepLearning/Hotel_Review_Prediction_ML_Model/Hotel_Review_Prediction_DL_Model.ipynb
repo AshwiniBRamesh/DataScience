{
 "cells": [
  {
   "cell_type": "markdown",
   "metadata": {
    "id": "b2twxWwIUD2k"
   },
   "source": [
    "**Assignment 1 Set 6**\n",
    "\n",
    "# **Deep Learning (S1-21_DSECLZG524) - DL Group 168 - SEC-3**\n",
    "\n",
    "Group members: \n",
    "\n",
    "\n",
    "*   Ashwini BR - 2020fc04180@wilp.bits-pilani.ac.in\n",
    "*   Ashutosh Kumar - 2020fc04341@wilp.bits-pilani.ac.in\n",
    "*   Rahul Paul -2020fc04350@wilp.bits-pilani.ac.in\n",
    "\n",
    "\n",
    "\n"
   ]
  },
  {
   "cell_type": "markdown",
   "metadata": {
    "id": "eRIrAW--YrbH"
   },
   "source": [
    "**Question No.1.** NLP Dataset: Dataset consisting of 20k reviews crawled from Tripadvisor. Please find your dataset from the link - https://www.kaggle.com/andrewmvd/trip-advisor-hotel-reviews (Links to an external site.)    (6 marks)"
   ]
  },
  {
   "cell_type": "markdown",
   "metadata": {
    "id": "X1p-_1CcY4wK"
   },
   "source": [
    "**1. Import Libraries/Dataset (0 mark)** \n",
    "\n",
    ">1. Import the required libraries and the dataset (use Google Drive if required).\n",
    ">2. Check the GPU available (recommended- use free GPU provided by Google Colab)."
   ]
  },
  {
   "cell_type": "code",
   "execution_count": 23,
   "metadata": {
    "colab": {
     "base_uri": "https://localhost:8080/"
    },
    "id": "RpHhUVw3TtD-",
    "outputId": "42fb9c5a-35f9-44fc-a55f-8f4301220f93"
   },
   "outputs": [
    {
     "name": "stdout",
     "output_type": "stream",
     "text": [
      "Drive already mounted at /content/drive; to attempt to forcibly remount, call drive.mount(\"/content/drive\", force_remount=True).\n"
     ]
    }
   ],
   "source": [
    "#Required Libraries and the Dataset\n",
    "from google.colab import drive\n",
    "drive.mount('/content/drive')\n",
    "file_path = \"/content/drive/MyDrive/Colab Notebooks/Data/tripadvisor_hotel_reviews.csv\"\n",
    "\n",
    "import pandas as pd\n",
    "import re\n",
    "import nltk\n",
    "import spacy\n",
    "import string\n",
    "from nltk.corpus import stopwords\n",
    "from nltk.corpus import wordnet\n",
    "from nltk.stem import WordNetLemmatizer\n",
    "from keras.layers import Dropout\n",
    "import shutil\n",
    "import numpy as np\n",
    "import matplotlib.pyplot as plt\n",
    "import tensorflow as tf\n",
    "import tensorflow_hub as hub\n",
    "from tensorflow.keras import layers\n",
    "import tensorflow_datasets as tfds\n",
    "import keras\n",
    "from keras import models\n",
    "from tensorflow.keras.optimizers import RMSprop, SGD, Adam\n",
    "import tensorflow_hub as hub\n",
    "from keras.layers import Activation, Dense \n",
    "#import keras_tuner as ktt\n",
    "from sklearn.model_selection import train_test_split\n",
    "from keras.utils import np_utils\n",
    "from imblearn.over_sampling import SMOTE\n",
    "#mport livelossplot\n",
    "import seaborn as sns\n",
    "from time import time\n",
    "from sklearn.metrics import classification_report, confusion_matrix, accuracy_score\n",
    "import warnings\n",
    "warnings.filterwarnings('ignore')\n",
    "#!pip install livelossplot\n",
    "#!pip install -q -U keras-tuner"
   ]
  },
  {
   "cell_type": "code",
   "execution_count": null,
   "metadata": {
    "cellView": "form",
    "id": "CuqXralzoPbs"
   },
   "outputs": [],
   "source": [
    "#@title\n",
    "#!pip install livelossplot\n",
    "#!pip install -q -U keras-tuner"
   ]
  },
  {
   "cell_type": "code",
   "execution_count": 3,
   "metadata": {
    "colab": {
     "base_uri": "https://localhost:8080/",
     "height": 35
    },
    "id": "bHYwnwRZTs-3",
    "outputId": "c03b774f-1aaa-4988-f4bc-e69bcfb557f8"
   },
   "outputs": [
    {
     "data": {
      "application/vnd.google.colaboratory.intrinsic+json": {
       "type": "string"
      },
      "text/plain": [
       "'/device:GPU:0'"
      ]
     },
     "execution_count": 3,
     "metadata": {},
     "output_type": "execute_result"
    }
   ],
   "source": [
    "#Checking GPU availability\n",
    "tf.test.gpu_device_name()"
   ]
  },
  {
   "cell_type": "markdown",
   "metadata": {
    "id": "qZZtwhakY4AJ"
   },
   "source": [
    "**2. Data Visualization (0.75 mark)**\n",
    "\n",
    ">1. Print at least two records from each class of the dataset, for a sanity check that labels match the text.\n",
    ">2. Plot a bar graph of class distribution in the dataset. Each bar depicts the number of records belonging to a particular class in the dataset. (recommended - matplotlib/seaborn libraries)\n",
    ">3. Any other visualizations that seem appropriate for this problem are encouraged but not necessary, for the points.\n",
    ">4. Print the shapes of train and test data."
   ]
  },
  {
   "cell_type": "code",
   "execution_count": 4,
   "metadata": {
    "colab": {
     "base_uri": "https://localhost:8080/"
    },
    "id": "4wcTS_isTtBs",
    "outputId": "12cae93d-a36f-4778-9c2b-e89e3ea04d6a"
   },
   "outputs": [
    {
     "name": "stdout",
     "output_type": "stream",
     "text": [
      "<class 'pandas.core.frame.DataFrame'>\n",
      "RangeIndex: 20491 entries, 0 to 20490\n",
      "Data columns (total 2 columns):\n",
      " #   Column  Non-Null Count  Dtype \n",
      "---  ------  --------------  ----- \n",
      " 0   Review  20491 non-null  object\n",
      " 1   Rating  20491 non-null  int64 \n",
      "dtypes: int64(1), object(1)\n",
      "memory usage: 320.3+ KB\n"
     ]
    }
   ],
   "source": [
    "data = pd.read_csv(file_path)\n",
    "data.info()"
   ]
  },
  {
   "cell_type": "code",
   "execution_count": 5,
   "metadata": {
    "colab": {
     "base_uri": "https://localhost:8080/",
     "height": 394
    },
    "id": "R6P16llbr81o",
    "outputId": "320635ce-d49a-4ab2-9b7a-3b2ac89c95ac"
   },
   "outputs": [
    {
     "data": {
      "text/html": [
       "\n",
       "  <div id=\"df-410f2754-1982-426a-9ca1-e4065ebf9ced\">\n",
       "    <div class=\"colab-df-container\">\n",
       "      <div>\n",
       "<style scoped>\n",
       "    .dataframe tbody tr th:only-of-type {\n",
       "        vertical-align: middle;\n",
       "    }\n",
       "\n",
       "    .dataframe tbody tr th {\n",
       "        vertical-align: top;\n",
       "    }\n",
       "\n",
       "    .dataframe thead th {\n",
       "        text-align: right;\n",
       "    }\n",
       "</style>\n",
       "<table border=\"1\" class=\"dataframe\">\n",
       "  <thead>\n",
       "    <tr style=\"text-align: right;\">\n",
       "      <th></th>\n",
       "      <th>Review</th>\n",
       "      <th>Rating</th>\n",
       "    </tr>\n",
       "  </thead>\n",
       "  <tbody>\n",
       "    <tr>\n",
       "      <th>count</th>\n",
       "      <td>20491</td>\n",
       "      <td>20491.000000</td>\n",
       "    </tr>\n",
       "    <tr>\n",
       "      <th>unique</th>\n",
       "      <td>20491</td>\n",
       "      <td>NaN</td>\n",
       "    </tr>\n",
       "    <tr>\n",
       "      <th>top</th>\n",
       "      <td>hotel consistent latest revies used 1000 starp...</td>\n",
       "      <td>NaN</td>\n",
       "    </tr>\n",
       "    <tr>\n",
       "      <th>freq</th>\n",
       "      <td>1</td>\n",
       "      <td>NaN</td>\n",
       "    </tr>\n",
       "    <tr>\n",
       "      <th>mean</th>\n",
       "      <td>NaN</td>\n",
       "      <td>3.952223</td>\n",
       "    </tr>\n",
       "    <tr>\n",
       "      <th>std</th>\n",
       "      <td>NaN</td>\n",
       "      <td>1.233030</td>\n",
       "    </tr>\n",
       "    <tr>\n",
       "      <th>min</th>\n",
       "      <td>NaN</td>\n",
       "      <td>1.000000</td>\n",
       "    </tr>\n",
       "    <tr>\n",
       "      <th>25%</th>\n",
       "      <td>NaN</td>\n",
       "      <td>3.000000</td>\n",
       "    </tr>\n",
       "    <tr>\n",
       "      <th>50%</th>\n",
       "      <td>NaN</td>\n",
       "      <td>4.000000</td>\n",
       "    </tr>\n",
       "    <tr>\n",
       "      <th>75%</th>\n",
       "      <td>NaN</td>\n",
       "      <td>5.000000</td>\n",
       "    </tr>\n",
       "    <tr>\n",
       "      <th>max</th>\n",
       "      <td>NaN</td>\n",
       "      <td>5.000000</td>\n",
       "    </tr>\n",
       "  </tbody>\n",
       "</table>\n",
       "</div>\n",
       "      <button class=\"colab-df-convert\" onclick=\"convertToInteractive('df-410f2754-1982-426a-9ca1-e4065ebf9ced')\"\n",
       "              title=\"Convert this dataframe to an interactive table.\"\n",
       "              style=\"display:none;\">\n",
       "        \n",
       "  <svg xmlns=\"http://www.w3.org/2000/svg\" height=\"24px\"viewBox=\"0 0 24 24\"\n",
       "       width=\"24px\">\n",
       "    <path d=\"M0 0h24v24H0V0z\" fill=\"none\"/>\n",
       "    <path d=\"M18.56 5.44l.94 2.06.94-2.06 2.06-.94-2.06-.94-.94-2.06-.94 2.06-2.06.94zm-11 1L8.5 8.5l.94-2.06 2.06-.94-2.06-.94L8.5 2.5l-.94 2.06-2.06.94zm10 10l.94 2.06.94-2.06 2.06-.94-2.06-.94-.94-2.06-.94 2.06-2.06.94z\"/><path d=\"M17.41 7.96l-1.37-1.37c-.4-.4-.92-.59-1.43-.59-.52 0-1.04.2-1.43.59L10.3 9.45l-7.72 7.72c-.78.78-.78 2.05 0 2.83L4 21.41c.39.39.9.59 1.41.59.51 0 1.02-.2 1.41-.59l7.78-7.78 2.81-2.81c.8-.78.8-2.07 0-2.86zM5.41 20L4 18.59l7.72-7.72 1.47 1.35L5.41 20z\"/>\n",
       "  </svg>\n",
       "      </button>\n",
       "      \n",
       "  <style>\n",
       "    .colab-df-container {\n",
       "      display:flex;\n",
       "      flex-wrap:wrap;\n",
       "      gap: 12px;\n",
       "    }\n",
       "\n",
       "    .colab-df-convert {\n",
       "      background-color: #E8F0FE;\n",
       "      border: none;\n",
       "      border-radius: 50%;\n",
       "      cursor: pointer;\n",
       "      display: none;\n",
       "      fill: #1967D2;\n",
       "      height: 32px;\n",
       "      padding: 0 0 0 0;\n",
       "      width: 32px;\n",
       "    }\n",
       "\n",
       "    .colab-df-convert:hover {\n",
       "      background-color: #E2EBFA;\n",
       "      box-shadow: 0px 1px 2px rgba(60, 64, 67, 0.3), 0px 1px 3px 1px rgba(60, 64, 67, 0.15);\n",
       "      fill: #174EA6;\n",
       "    }\n",
       "\n",
       "    [theme=dark] .colab-df-convert {\n",
       "      background-color: #3B4455;\n",
       "      fill: #D2E3FC;\n",
       "    }\n",
       "\n",
       "    [theme=dark] .colab-df-convert:hover {\n",
       "      background-color: #434B5C;\n",
       "      box-shadow: 0px 1px 3px 1px rgba(0, 0, 0, 0.15);\n",
       "      filter: drop-shadow(0px 1px 2px rgba(0, 0, 0, 0.3));\n",
       "      fill: #FFFFFF;\n",
       "    }\n",
       "  </style>\n",
       "\n",
       "      <script>\n",
       "        const buttonEl =\n",
       "          document.querySelector('#df-410f2754-1982-426a-9ca1-e4065ebf9ced button.colab-df-convert');\n",
       "        buttonEl.style.display =\n",
       "          google.colab.kernel.accessAllowed ? 'block' : 'none';\n",
       "\n",
       "        async function convertToInteractive(key) {\n",
       "          const element = document.querySelector('#df-410f2754-1982-426a-9ca1-e4065ebf9ced');\n",
       "          const dataTable =\n",
       "            await google.colab.kernel.invokeFunction('convertToInteractive',\n",
       "                                                     [key], {});\n",
       "          if (!dataTable) return;\n",
       "\n",
       "          const docLinkHtml = 'Like what you see? Visit the ' +\n",
       "            '<a target=\"_blank\" href=https://colab.research.google.com/notebooks/data_table.ipynb>data table notebook</a>'\n",
       "            + ' to learn more about interactive tables.';\n",
       "          element.innerHTML = '';\n",
       "          dataTable['output_type'] = 'display_data';\n",
       "          await google.colab.output.renderOutput(dataTable, element);\n",
       "          const docLink = document.createElement('div');\n",
       "          docLink.innerHTML = docLinkHtml;\n",
       "          element.appendChild(docLink);\n",
       "        }\n",
       "      </script>\n",
       "    </div>\n",
       "  </div>\n",
       "  "
      ],
      "text/plain": [
       "                                                   Review        Rating\n",
       "count                                               20491  20491.000000\n",
       "unique                                              20491           NaN\n",
       "top     hotel consistent latest revies used 1000 starp...           NaN\n",
       "freq                                                    1           NaN\n",
       "mean                                                  NaN      3.952223\n",
       "std                                                   NaN      1.233030\n",
       "min                                                   NaN      1.000000\n",
       "25%                                                   NaN      3.000000\n",
       "50%                                                   NaN      4.000000\n",
       "75%                                                   NaN      5.000000\n",
       "max                                                   NaN      5.000000"
      ]
     },
     "execution_count": 5,
     "metadata": {},
     "output_type": "execute_result"
    }
   ],
   "source": [
    "include =['object', 'float', 'int']\n",
    "data.describe(include = include)"
   ]
  },
  {
   "cell_type": "code",
   "execution_count": 6,
   "metadata": {
    "colab": {
     "base_uri": "https://localhost:8080/",
     "height": 884
    },
    "id": "Thqh6E5lzodz",
    "outputId": "bb7a5b4f-567d-4ec6-be85-2b84fa4ff849"
   },
   "outputs": [
    {
     "data": {
      "text/html": [
       "\n",
       "  <div id=\"df-ee412f6e-b385-4516-aadc-635e9457b084\">\n",
       "    <div class=\"colab-df-container\">\n",
       "      <div>\n",
       "<style scoped>\n",
       "    .dataframe tbody tr th:only-of-type {\n",
       "        vertical-align: middle;\n",
       "    }\n",
       "\n",
       "    .dataframe tbody tr th {\n",
       "        vertical-align: top;\n",
       "    }\n",
       "\n",
       "    .dataframe thead th {\n",
       "        text-align: right;\n",
       "    }\n",
       "</style>\n",
       "<table border=\"1\" class=\"dataframe\">\n",
       "  <thead>\n",
       "    <tr style=\"text-align: right;\">\n",
       "      <th></th>\n",
       "      <th>Review</th>\n",
       "    </tr>\n",
       "    <tr>\n",
       "      <th>Rating</th>\n",
       "      <th></th>\n",
       "    </tr>\n",
       "  </thead>\n",
       "  <tbody>\n",
       "    <tr>\n",
       "      <th>1</th>\n",
       "      <td>horrible customer service hotel stay february ...</td>\n",
       "    </tr>\n",
       "    <tr>\n",
       "      <th>1</th>\n",
       "      <td>noise airconditioner-a standard, arranged stay...</td>\n",
       "    </tr>\n",
       "    <tr>\n",
       "      <th>2</th>\n",
       "      <td>ok nothing special charge diamond member hilto...</td>\n",
       "    </tr>\n",
       "    <tr>\n",
       "      <th>2</th>\n",
       "      <td>poor value stayed monaco seattle july, nice ho...</td>\n",
       "    </tr>\n",
       "    <tr>\n",
       "      <th>3</th>\n",
       "      <td>nice rooms not 4* experience hotel monaco seat...</td>\n",
       "    </tr>\n",
       "    <tr>\n",
       "      <th>3</th>\n",
       "      <td>nice hotel not nice staff hotel lovely staff q...</td>\n",
       "    </tr>\n",
       "    <tr>\n",
       "      <th>4</th>\n",
       "      <td>nice hotel expensive parking got good deal sta...</td>\n",
       "    </tr>\n",
       "    <tr>\n",
       "      <th>4</th>\n",
       "      <td>excellent staff, housekeeping quality hotel ch...</td>\n",
       "    </tr>\n",
       "    <tr>\n",
       "      <th>5</th>\n",
       "      <td>unique, great stay, wonderful time hotel monac...</td>\n",
       "    </tr>\n",
       "    <tr>\n",
       "      <th>5</th>\n",
       "      <td>great stay great stay, went seahawk game aweso...</td>\n",
       "    </tr>\n",
       "  </tbody>\n",
       "</table>\n",
       "</div>\n",
       "      <button class=\"colab-df-convert\" onclick=\"convertToInteractive('df-ee412f6e-b385-4516-aadc-635e9457b084')\"\n",
       "              title=\"Convert this dataframe to an interactive table.\"\n",
       "              style=\"display:none;\">\n",
       "        \n",
       "  <svg xmlns=\"http://www.w3.org/2000/svg\" height=\"24px\"viewBox=\"0 0 24 24\"\n",
       "       width=\"24px\">\n",
       "    <path d=\"M0 0h24v24H0V0z\" fill=\"none\"/>\n",
       "    <path d=\"M18.56 5.44l.94 2.06.94-2.06 2.06-.94-2.06-.94-.94-2.06-.94 2.06-2.06.94zm-11 1L8.5 8.5l.94-2.06 2.06-.94-2.06-.94L8.5 2.5l-.94 2.06-2.06.94zm10 10l.94 2.06.94-2.06 2.06-.94-2.06-.94-.94-2.06-.94 2.06-2.06.94z\"/><path d=\"M17.41 7.96l-1.37-1.37c-.4-.4-.92-.59-1.43-.59-.52 0-1.04.2-1.43.59L10.3 9.45l-7.72 7.72c-.78.78-.78 2.05 0 2.83L4 21.41c.39.39.9.59 1.41.59.51 0 1.02-.2 1.41-.59l7.78-7.78 2.81-2.81c.8-.78.8-2.07 0-2.86zM5.41 20L4 18.59l7.72-7.72 1.47 1.35L5.41 20z\"/>\n",
       "  </svg>\n",
       "      </button>\n",
       "      \n",
       "  <style>\n",
       "    .colab-df-container {\n",
       "      display:flex;\n",
       "      flex-wrap:wrap;\n",
       "      gap: 12px;\n",
       "    }\n",
       "\n",
       "    .colab-df-convert {\n",
       "      background-color: #E8F0FE;\n",
       "      border: none;\n",
       "      border-radius: 50%;\n",
       "      cursor: pointer;\n",
       "      display: none;\n",
       "      fill: #1967D2;\n",
       "      height: 32px;\n",
       "      padding: 0 0 0 0;\n",
       "      width: 32px;\n",
       "    }\n",
       "\n",
       "    .colab-df-convert:hover {\n",
       "      background-color: #E2EBFA;\n",
       "      box-shadow: 0px 1px 2px rgba(60, 64, 67, 0.3), 0px 1px 3px 1px rgba(60, 64, 67, 0.15);\n",
       "      fill: #174EA6;\n",
       "    }\n",
       "\n",
       "    [theme=dark] .colab-df-convert {\n",
       "      background-color: #3B4455;\n",
       "      fill: #D2E3FC;\n",
       "    }\n",
       "\n",
       "    [theme=dark] .colab-df-convert:hover {\n",
       "      background-color: #434B5C;\n",
       "      box-shadow: 0px 1px 3px 1px rgba(0, 0, 0, 0.15);\n",
       "      filter: drop-shadow(0px 1px 2px rgba(0, 0, 0, 0.3));\n",
       "      fill: #FFFFFF;\n",
       "    }\n",
       "  </style>\n",
       "\n",
       "      <script>\n",
       "        const buttonEl =\n",
       "          document.querySelector('#df-ee412f6e-b385-4516-aadc-635e9457b084 button.colab-df-convert');\n",
       "        buttonEl.style.display =\n",
       "          google.colab.kernel.accessAllowed ? 'block' : 'none';\n",
       "\n",
       "        async function convertToInteractive(key) {\n",
       "          const element = document.querySelector('#df-ee412f6e-b385-4516-aadc-635e9457b084');\n",
       "          const dataTable =\n",
       "            await google.colab.kernel.invokeFunction('convertToInteractive',\n",
       "                                                     [key], {});\n",
       "          if (!dataTable) return;\n",
       "\n",
       "          const docLinkHtml = 'Like what you see? Visit the ' +\n",
       "            '<a target=\"_blank\" href=https://colab.research.google.com/notebooks/data_table.ipynb>data table notebook</a>'\n",
       "            + ' to learn more about interactive tables.';\n",
       "          element.innerHTML = '';\n",
       "          dataTable['output_type'] = 'display_data';\n",
       "          await google.colab.output.renderOutput(dataTable, element);\n",
       "          const docLink = document.createElement('div');\n",
       "          docLink.innerHTML = docLinkHtml;\n",
       "          element.appendChild(docLink);\n",
       "        }\n",
       "      </script>\n",
       "    </div>\n",
       "  </div>\n",
       "  "
      ],
      "text/plain": [
       "                                                   Review\n",
       "Rating                                                   \n",
       "1       horrible customer service hotel stay february ...\n",
       "1       noise airconditioner-a standard, arranged stay...\n",
       "2       ok nothing special charge diamond member hilto...\n",
       "2       poor value stayed monaco seattle july, nice ho...\n",
       "3       nice rooms not 4* experience hotel monaco seat...\n",
       "3       nice hotel not nice staff hotel lovely staff q...\n",
       "4       nice hotel expensive parking got good deal sta...\n",
       "4       excellent staff, housekeeping quality hotel ch...\n",
       "5       unique, great stay, wonderful time hotel monac...\n",
       "5       great stay great stay, went seahawk game aweso..."
      ]
     },
     "execution_count": 6,
     "metadata": {},
     "output_type": "execute_result"
    }
   ],
   "source": [
    "# Two records from each class of the dataset\n",
    "gk = data.groupby('Rating')\n",
    "gk1 = pd.concat([gk.nth(0), gk.nth(1)], axis=0)\n",
    "gk1.sort_values(by=['Rating'], inplace=True)\n",
    "gk1"
   ]
  },
  {
   "cell_type": "code",
   "execution_count": null,
   "metadata": {
    "cellView": "form",
    "id": "JsZC37Ez9-VC"
   },
   "outputs": [],
   "source": [
    "#@title\n",
    "nltk.download('stopwords')\n",
    "nltk.download('wordnet')\n",
    "nltk.download('averaged_perceptron_tagger')\n",
    "stop_words = stopwords.words('english')\n",
    "stop_word = set(stopwords.words('english'))\n",
    "\n",
    "\n",
    "def  clean_text(text):\n",
    "    text = text.str.lower()\n",
    "    text = text.apply(lambda T: re.sub(r\"(@[A-Za-z0-9]+)|([^0-9A-Za-z \\t])|(\\w+:\\/\\/\\S+)|^rt|http.+?\", \"\", T))          \n",
    "    return text\n",
    "\n",
    "data['Review']= clean_text(data['Review'])\n",
    "data['Review'] = data['Review'].str.replace('#','')\n",
    "data['Review'] = data['Review'].str.lower()\n",
    "\n",
    "punk_Remove = string.punctuation\n",
    "\n",
    "def del_punk(text):\n",
    "    return text.translate(str.maketrans('','',punk_Remove))\n",
    "\n",
    "data['Review'] = data['Review'].apply(lambda T: del_punk(T))\n",
    "def del_stopwords(text):\n",
    "    return \" \".join([word for word in str(text).split() if word not in stop_word])\n",
    "\n",
    "data['Review'] = data['Review'].apply(lambda T: del_stopwords(T))\n",
    "lemmatizer = WordNetLemmatizer()\n",
    "wordnet_m = {\"N\":wordnet.NOUN, \"V\":wordnet.VERB, \"J\":wordnet.ADJ, \"R\":wordnet.ADV}\n",
    "\n",
    "\n",
    "def lemmat_pos_word(text):\n",
    "    \n",
    "    pos_tagger_text = nltk.pos_tag(text.split())\n",
    "    \n",
    "    return \" \".join([lemmatizer.lemmatize(word, wordnet_m.get(pos[0],wordnet.NOUN)) for word,pos in pos_tagger_text])\n",
    "\n",
    "data['Review'] = data['Review'].apply(lambda T : lemmat_pos_word(T))"
   ]
  },
  {
   "cell_type": "code",
   "execution_count": 7,
   "metadata": {
    "colab": {
     "base_uri": "https://localhost:8080/",
     "height": 373
    },
    "id": "wUGLmTXu-Syk",
    "outputId": "febb31ce-4c06-4e41-855e-c760e81eb0b7"
   },
   "outputs": [
    {
     "data": {
      "text/plain": [
       "(0.0, 9959.400000000001)"
      ]
     },
     "execution_count": 7,
     "metadata": {},
     "output_type": "execute_result"
    },
    {
     "data": {
      "image/png": "[encoded data removed]",
      "text/plain": [
       "<Figure size 720x360 with 1 Axes>"
      ]
     },
     "metadata": {
      "needs_background": "light"
     },
     "output_type": "display_data"
    }
   ],
   "source": [
    "#Plot a bar graph of class distribution in the dataset. \n",
    "#Each bar depicts the number of records belonging to a particular class in the dataset.\n",
    "total = len(data)\n",
    "ax1 = plt.figure(figsize=(10,5))\n",
    "\n",
    "g = sns.countplot(x='Rating', data=data)\n",
    "g.set_title(\"Class Distribution in Dataset\", fontsize=14)\n",
    "g.set_xlabel(\"Rating\", fontsize=14)\n",
    "g.set_ylabel(\"Number of Occurrences\", fontsize=14)\n",
    "sizes = []\n",
    "for p in g.patches:\n",
    "    height = p.get_height()\n",
    "    sizes.append(height)\n",
    "    g.text(p.get_x()+p.get_width()/2.,\n",
    "            height + 3,\n",
    "#            '{:1.2f}%'.format(height/total*100),\n",
    "            '{:1.0f}'.format(height),\n",
    "            ha=\"center\", fontsize=10) \n",
    "g.set_ylim(0, max(sizes) * 1.1)"
   ]
  },
  {
   "cell_type": "code",
   "execution_count": 70,
   "metadata": {
    "colab": {
     "base_uri": "https://localhost:8080/"
    },
    "id": "HnGrp5R5FyxG",
    "outputId": "6464956b-a102-4542-f5b8-5a5db38f8741"
   },
   "outputs": [
    {
     "name": "stdout",
     "output_type": "stream",
     "text": [
      "Total Size of data is  (20491, 2)\n",
      "Shape of train data of Feature is  (16392, 128)\n",
      "Shape of test data Feature is  (4099, 128)\n",
      "Shape of train data Target is  (16392,)\n",
      "Shape of test data Target is  (4099,)\n"
     ]
    }
   ],
   "source": [
    "#Print the shapes of train and test data.\n",
    "X = data['Review'].copy()\n",
    "y = data['Rating'].copy()\n",
    "X_train1, X_test1, ytrain, ytest = train_test_split(X, y, test_size=0.2, random_state=42)\n",
    "print(\"Total Size of data is \",data.shape)\n",
    "print(\"Shape of train data of Feature is \",X_train.shape)\n",
    "print(\"Shape of test data Feature is \",X_test.shape)\n",
    "print(\"Shape of train data Target is \",ytrain.shape)\n",
    "print(\"Shape of test data Target is \",ytest.shape)"
   ]
  },
  {
   "cell_type": "markdown",
   "metadata": {
    "id": "268syCJKptEh"
   },
   "source": [
    "**3. Data Pre-processing (0.25 mark)**\n",
    ">1. Need for this Step- Since the models we use cannot accept string inputs or cannot be of the string format. We have to come up with a way of handling this step. The discussion of different ways of handling this step is out of the scope of this assignment.\n",
    ">2. Please usethis pre-trained embedding layer  (Links to an external site.)from TensorFlow hub for this assignment. This link also has a code snippet on how to convert a sentence to a vector. Refer to that for further clarity on this subject.\n",
    ">3. Bring the train and test data in the required format."
   ]
  },
  {
   "cell_type": "code",
   "execution_count": 71,
   "metadata": {
    "id": "vGJ-kIRtM94d"
   },
   "outputs": [],
   "source": [
    "#Mapping from text to 128-dimensional embedding vectors.\n",
    "embed = hub.load(\"https://tfhub.dev/google/nnlm-en-dim128/2\")\n",
    "X_train = embed(X_train1)\n",
    "X_test = embed(X_test1)\n",
    "ytrain = tf.keras.utils.to_categorical(ytrain, num_classes = 6)\n",
    "ytest = tf.keras.utils.to_categorical(ytest, num_classes = 6)"
   ]
  },
  {
   "cell_type": "code",
   "execution_count": 10,
   "metadata": {
    "colab": {
     "base_uri": "https://localhost:8080/"
    },
    "id": "QAiUsIqMMyuP",
    "outputId": "d5419aa8-13c2-4a53-fff8-796d73a16c1c"
   },
   "outputs": [
    {
     "name": "stdout",
     "output_type": "stream",
     "text": [
      "Total Size of data is  (20491, 2)\n",
      "Shape of train data of Feature is  (16392, 128)\n",
      "Shape of test data Feature is  (4099, 128)\n",
      "Shape of train data Target is  (16392, 6)\n",
      "Shape of test data Target is  (4099, 6)\n"
     ]
    }
   ],
   "source": [
    "print(\"Total Size of data is \",data.shape)\n",
    "print(\"Shape of train data of Feature is \",X_train.shape)\n",
    "print(\"Shape of test data Feature is \",X_test.shape)\n",
    "print(\"Shape of train data Target is \",ytrain.shape)\n",
    "print(\"Shape of test data Target is \",ytest.shape)"
   ]
  },
  {
   "cell_type": "markdown",
   "metadata": {
    "id": "QeN_dU5psSiO"
   },
   "source": [
    "**4. Model Building (0.2*5 = 1 mark)**\n",
    ">1. Sequential Model layers- Use AT LEAST 3 hidden layers with appropriate input for each. Choose the best number for hidden units and give reasons.\n",
    ">2. Add L2 regularization to all the layers.\n",
    ">3. Add one layer of dropout at the appropriate position and give reasons.\n",
    ">4. Choose the appropriate activation function for all the layers.\n",
    ">5. Print the model summary."
   ]
  },
  {
   "cell_type": "markdown",
   "metadata": {
    "id": "bX8QVDs8HNlT"
   },
   "source": [
    "**Model with L2 Regularization and One layer of Dropout**"
   ]
  },
  {
   "cell_type": "code",
   "execution_count": 11,
   "metadata": {
    "colab": {
     "base_uri": "https://localhost:8080/"
    },
    "id": "V2YBAgiSgfjE",
    "outputId": "e7eff9ca-9502-48a7-fb9a-1166b9668942"
   },
   "outputs": [
    {
     "name": "stdout",
     "output_type": "stream",
     "text": [
      "Model: \"sequential\"\n",
      "_________________________________________________________________\n",
      " Layer (type)                Output Shape              Param #   \n",
      "=================================================================\n",
      " layer_1 (Dense)             (None, 128)               16512     \n",
      "                                                                 \n",
      " layer_2 (Dense)             (None, 96)                12384     \n",
      "                                                                 \n",
      " dropout (Dropout)           (None, 96)                0         \n",
      "                                                                 \n",
      " layer_3 (Dense)             (None, 64)                6208      \n",
      "                                                                 \n",
      " layer_4 (Dense)             (None, 32)                2080      \n",
      "                                                                 \n",
      " output (Dense)              (None, 6)                 198       \n",
      "                                                                 \n",
      "=================================================================\n",
      "Total params: 37,382\n",
      "Trainable params: 37,382\n",
      "Non-trainable params: 0\n",
      "_________________________________________________________________\n"
     ]
    }
   ],
   "source": [
    "model_l2 = models.Sequential()\n",
    "model_l2.add(keras.layers.Dense(128, activation='relu', kernel_regularizer='l2',name ='layer_1',input_shape=(128,)))\n",
    "model_l2.add(keras.layers.Dense(96, activation='relu',kernel_regularizer='l2', name = 'layer_2'))\n",
    "model_l2.add(Dropout(0.2))\n",
    "model_l2.add(keras.layers.Dense(64, activation='relu',kernel_regularizer='l2', name = 'layer_3'))\n",
    "model_l2.add(keras.layers.Dense(32, activation='relu',kernel_regularizer='l2', name = 'layer_4'))\n",
    "model_l2.add(keras.layers.Dense(6, activation='softmax', kernel_regularizer='l2',name='output'))\n",
    "model_l2.summary()"
   ]
  },
  {
   "cell_type": "markdown",
   "metadata": {
    "id": "fSBBfpYt4IYW"
   },
   "source": [
    "**Reason:**\n",
    "1. As a Rule of Thumb, Number of neurons in hidden layer should be between the size of the input layer and the size of the output layer to avoid Over-Fitting.\n",
    "\n",
    "2. Determining Dropout position is challenging but keeping in center of the hidden layers results best. (Studies performed in Hyperparameter Tuning)\n",
    "\n",
    "3. Activation Relu is used for all hidden layer and Softmax is used for final layer as it is a multi-classification (multivariate) output."
   ]
  },
  {
   "cell_type": "markdown",
   "metadata": {
    "id": "X8jRwBTB7sE4"
   },
   "source": [
    "**5. Model Compilation (0.25 mark)**\n",
    ">1. Compile the model with the appropriate loss function.\n",
    ">2. Use an appropriate optimizer. Give reasons for the choice of learning rate and its value.\n",
    ">3. Use accuracy as a metric."
   ]
  },
  {
   "cell_type": "code",
   "execution_count": 25,
   "metadata": {
    "id": "ADXyt6DW8Bgj"
   },
   "outputs": [],
   "source": [
    "model_l2.compile(optimizer=Adam(lr=0.001),loss='categorical_crossentropy' ,\n",
    "              metrics=['accuracy'] )"
   ]
  },
  {
   "cell_type": "markdown",
   "metadata": {
    "id": "-piHoZ_68vx0"
   },
   "source": [
    "**Reason:**\n",
    ">Adam optimizer utilizes the concept of momentum by adding fractions of previous gradients to the current one, also it uses the most popular algorithm i.e. gradient descent thus it is choosen with lower leraning rate and higher momentum."
   ]
  },
  {
   "cell_type": "markdown",
   "metadata": {
    "id": "mW7x9dOOFmDb"
   },
   "source": [
    "**6. Model Training (0.5 + 0.25 = 0.75 mark)**\n",
    ">1. Train the model for an appropriate number of epochs. Print the train and validation accuracy and loss for each epoch. Use the appropriate batch size.\n",
    ">2. Plot the loss and accuracy history graphs for both train and validation set. Print the total time taken for training."
   ]
  },
  {
   "cell_type": "code",
   "execution_count": 14,
   "metadata": {
    "colab": {
     "base_uri": "https://localhost:8080/"
    },
    "id": "zX6wx_Kb2_sc",
    "outputId": "fc382e63-7f92-43e8-ea23-d6e6fd2c7964"
   },
   "outputs": [
    {
     "name": "stdout",
     "output_type": "stream",
     "text": [
      "Epoch 1/100\n",
      "513/513 [==============================] - 4s 8ms/step - loss: 1.1936 - accuracy: 0.5215 - val_loss: 1.1709 - val_accuracy: 0.5245\n",
      "Epoch 2/100\n",
      "513/513 [==============================] - 4s 8ms/step - loss: 1.1903 - accuracy: 0.5226 - val_loss: 1.1648 - val_accuracy: 0.5253\n",
      "Epoch 3/100\n",
      "513/513 [==============================] - 4s 8ms/step - loss: 1.1883 - accuracy: 0.5237 - val_loss: 1.1719 - val_accuracy: 0.5226\n",
      "Epoch 4/100\n",
      "513/513 [==============================] - 4s 8ms/step - loss: 1.1875 - accuracy: 0.5217 - val_loss: 1.1619 - val_accuracy: 0.5240\n",
      "Epoch 5/100\n",
      "513/513 [==============================] - 3s 6ms/step - loss: 1.1917 - accuracy: 0.5193 - val_loss: 1.1602 - val_accuracy: 0.5196\n",
      "Epoch 6/100\n",
      "513/513 [==============================] - 3s 5ms/step - loss: 1.1853 - accuracy: 0.5213 - val_loss: 1.1709 - val_accuracy: 0.5170\n",
      "Epoch 7/100\n",
      "513/513 [==============================] - 3s 5ms/step - loss: 1.1880 - accuracy: 0.5222 - val_loss: 1.1692 - val_accuracy: 0.5250\n",
      "Epoch 8/100\n",
      "513/513 [==============================] - 2s 5ms/step - loss: 1.1843 - accuracy: 0.5231 - val_loss: 1.1632 - val_accuracy: 0.5240\n",
      "Epoch 9/100\n",
      "513/513 [==============================] - 2s 5ms/step - loss: 1.1867 - accuracy: 0.5222 - val_loss: 1.1649 - val_accuracy: 0.5240\n",
      "Epoch 10/100\n",
      "513/513 [==============================] - 3s 5ms/step - loss: 1.1846 - accuracy: 0.5220 - val_loss: 1.1603 - val_accuracy: 0.5265\n",
      "Epoch 11/100\n",
      "513/513 [==============================] - 2s 5ms/step - loss: 1.1854 - accuracy: 0.5224 - val_loss: 1.1630 - val_accuracy: 0.5248\n",
      "Epoch 12/100\n",
      "513/513 [==============================] - 3s 5ms/step - loss: 1.1829 - accuracy: 0.5237 - val_loss: 1.1620 - val_accuracy: 0.5174\n",
      "Epoch 13/100\n",
      "513/513 [==============================] - 3s 5ms/step - loss: 1.1833 - accuracy: 0.5245 - val_loss: 1.1588 - val_accuracy: 0.5218\n",
      "Epoch 14/100\n",
      "513/513 [==============================] - 2s 5ms/step - loss: 1.1815 - accuracy: 0.5278 - val_loss: 1.1561 - val_accuracy: 0.5209\n",
      "Epoch 15/100\n",
      "513/513 [==============================] - 2s 5ms/step - loss: 1.1826 - accuracy: 0.5246 - val_loss: 1.1572 - val_accuracy: 0.5231\n",
      "Epoch 16/100\n",
      "513/513 [==============================] - 3s 5ms/step - loss: 1.1817 - accuracy: 0.5239 - val_loss: 1.1565 - val_accuracy: 0.5250\n",
      "Epoch 17/100\n",
      "513/513 [==============================] - 2s 5ms/step - loss: 1.1822 - accuracy: 0.5249 - val_loss: 1.1579 - val_accuracy: 0.5184\n",
      "Epoch 18/100\n",
      "513/513 [==============================] - 3s 5ms/step - loss: 1.1798 - accuracy: 0.5256 - val_loss: 1.1577 - val_accuracy: 0.5174\n",
      "Epoch 19/100\n",
      "513/513 [==============================] - 2s 5ms/step - loss: 1.1813 - accuracy: 0.5215 - val_loss: 1.1545 - val_accuracy: 0.5265\n",
      "Epoch 20/100\n",
      "513/513 [==============================] - 3s 5ms/step - loss: 1.1813 - accuracy: 0.5265 - val_loss: 1.1552 - val_accuracy: 0.5223\n",
      "Epoch 21/100\n",
      "513/513 [==============================] - 2s 5ms/step - loss: 1.1773 - accuracy: 0.5275 - val_loss: 1.1636 - val_accuracy: 0.5226\n",
      "Epoch 22/100\n",
      "513/513 [==============================] - 3s 5ms/step - loss: 1.1791 - accuracy: 0.5259 - val_loss: 1.1542 - val_accuracy: 0.5255\n",
      "Epoch 23/100\n",
      "513/513 [==============================] - 4s 8ms/step - loss: 1.1781 - accuracy: 0.5266 - val_loss: 1.1552 - val_accuracy: 0.5223\n",
      "Epoch 24/100\n",
      "513/513 [==============================] - 3s 6ms/step - loss: 1.1803 - accuracy: 0.5257 - val_loss: 1.1731 - val_accuracy: 0.5257\n",
      "Epoch 25/100\n",
      "513/513 [==============================] - 3s 5ms/step - loss: 1.1792 - accuracy: 0.5259 - val_loss: 1.1558 - val_accuracy: 0.5240\n",
      "Epoch 26/100\n",
      "513/513 [==============================] - 2s 5ms/step - loss: 1.1802 - accuracy: 0.5266 - val_loss: 1.1562 - val_accuracy: 0.5274\n",
      "Epoch 27/100\n",
      "513/513 [==============================] - 2s 5ms/step - loss: 1.1802 - accuracy: 0.5266 - val_loss: 1.1530 - val_accuracy: 0.5313\n",
      "Epoch 28/100\n",
      "513/513 [==============================] - 3s 5ms/step - loss: 1.1788 - accuracy: 0.5231 - val_loss: 1.1567 - val_accuracy: 0.5240\n",
      "Epoch 29/100\n",
      "513/513 [==============================] - 3s 5ms/step - loss: 1.1847 - accuracy: 0.5248 - val_loss: 1.1635 - val_accuracy: 0.5287\n",
      "Epoch 30/100\n",
      "513/513 [==============================] - 2s 5ms/step - loss: 1.1812 - accuracy: 0.5220 - val_loss: 1.1619 - val_accuracy: 0.5287\n",
      "Epoch 31/100\n",
      "513/513 [==============================] - 3s 5ms/step - loss: 1.1786 - accuracy: 0.5257 - val_loss: 1.1585 - val_accuracy: 0.5231\n",
      "Epoch 32/100\n",
      "513/513 [==============================] - 2s 5ms/step - loss: 1.1805 - accuracy: 0.5249 - val_loss: 1.2108 - val_accuracy: 0.4994\n",
      "Epoch 33/100\n",
      "513/513 [==============================] - 3s 5ms/step - loss: 1.1780 - accuracy: 0.5277 - val_loss: 1.1557 - val_accuracy: 0.5253\n",
      "Epoch 34/100\n",
      "513/513 [==============================] - 2s 5ms/step - loss: 1.1780 - accuracy: 0.5260 - val_loss: 1.1557 - val_accuracy: 0.5296\n",
      "Epoch 35/100\n",
      "513/513 [==============================] - 3s 5ms/step - loss: 1.1761 - accuracy: 0.5256 - val_loss: 1.1691 - val_accuracy: 0.5182\n",
      "Epoch 36/100\n",
      "513/513 [==============================] - 3s 5ms/step - loss: 1.1801 - accuracy: 0.5254 - val_loss: 1.1655 - val_accuracy: 0.5172\n",
      "Epoch 37/100\n",
      "513/513 [==============================] - 2s 5ms/step - loss: 1.1780 - accuracy: 0.5248 - val_loss: 1.1921 - val_accuracy: 0.5277\n",
      "Epoch 38/100\n",
      "513/513 [==============================] - 2s 5ms/step - loss: 1.1783 - accuracy: 0.5279 - val_loss: 1.1600 - val_accuracy: 0.5189\n",
      "Epoch 39/100\n",
      "513/513 [==============================] - 3s 5ms/step - loss: 1.1795 - accuracy: 0.5273 - val_loss: 1.1657 - val_accuracy: 0.5265\n",
      "Epoch 40/100\n",
      "513/513 [==============================] - 2s 5ms/step - loss: 1.1773 - accuracy: 0.5271 - val_loss: 1.1523 - val_accuracy: 0.5279\n",
      "Epoch 41/100\n",
      "513/513 [==============================] - 3s 5ms/step - loss: 1.1757 - accuracy: 0.5279 - val_loss: 1.1536 - val_accuracy: 0.5267\n",
      "Epoch 42/100\n",
      "513/513 [==============================] - 2s 5ms/step - loss: 1.1776 - accuracy: 0.5278 - val_loss: 1.1559 - val_accuracy: 0.5211\n",
      "Epoch 43/100\n",
      "513/513 [==============================] - 3s 5ms/step - loss: 1.1768 - accuracy: 0.5248 - val_loss: 1.1583 - val_accuracy: 0.5313\n",
      "Epoch 44/100\n",
      "513/513 [==============================] - 3s 5ms/step - loss: 1.1772 - accuracy: 0.5248 - val_loss: 1.1691 - val_accuracy: 0.5182\n",
      "Epoch 45/100\n",
      "513/513 [==============================] - 2s 5ms/step - loss: 1.1780 - accuracy: 0.5284 - val_loss: 1.1606 - val_accuracy: 0.5301\n",
      "Epoch 46/100\n",
      "513/513 [==============================] - 2s 5ms/step - loss: 1.1769 - accuracy: 0.5262 - val_loss: 1.1611 - val_accuracy: 0.5235\n",
      "Epoch 47/100\n",
      "513/513 [==============================] - 2s 5ms/step - loss: 1.1781 - accuracy: 0.5291 - val_loss: 1.1699 - val_accuracy: 0.5152\n",
      "Epoch 48/100\n",
      "513/513 [==============================] - 3s 5ms/step - loss: 1.1780 - accuracy: 0.5264 - val_loss: 1.1541 - val_accuracy: 0.5260\n",
      "Epoch 49/100\n",
      "513/513 [==============================] - 3s 5ms/step - loss: 1.1766 - accuracy: 0.5286 - val_loss: 1.1522 - val_accuracy: 0.5228\n",
      "Epoch 50/100\n",
      "513/513 [==============================] - 2s 5ms/step - loss: 1.1758 - accuracy: 0.5244 - val_loss: 1.1573 - val_accuracy: 0.5231\n",
      "Epoch 51/100\n",
      "513/513 [==============================] - 3s 5ms/step - loss: 1.1778 - accuracy: 0.5270 - val_loss: 1.1568 - val_accuracy: 0.5187\n",
      "Epoch 52/100\n",
      "513/513 [==============================] - 2s 5ms/step - loss: 1.1771 - accuracy: 0.5248 - val_loss: 1.1581 - val_accuracy: 0.5262\n",
      "Epoch 53/100\n",
      "513/513 [==============================] - 3s 5ms/step - loss: 1.1781 - accuracy: 0.5256 - val_loss: 1.1589 - val_accuracy: 0.5284\n",
      "Epoch 54/100\n",
      "513/513 [==============================] - 2s 5ms/step - loss: 1.1765 - accuracy: 0.5270 - val_loss: 1.1777 - val_accuracy: 0.5138\n",
      "Epoch 55/100\n",
      "513/513 [==============================] - 3s 5ms/step - loss: 1.1780 - accuracy: 0.5251 - val_loss: 1.1540 - val_accuracy: 0.5255\n",
      "Epoch 56/100\n",
      "513/513 [==============================] - 3s 5ms/step - loss: 1.1772 - accuracy: 0.5245 - val_loss: 1.1509 - val_accuracy: 0.5292\n",
      "Epoch 57/100\n",
      "513/513 [==============================] - 2s 5ms/step - loss: 1.1780 - accuracy: 0.5304 - val_loss: 1.1702 - val_accuracy: 0.5289\n",
      "Epoch 58/100\n",
      "513/513 [==============================] - 2s 5ms/step - loss: 1.1763 - accuracy: 0.5276 - val_loss: 1.1533 - val_accuracy: 0.5318\n",
      "Epoch 59/100\n",
      "513/513 [==============================] - 2s 5ms/step - loss: 1.1750 - accuracy: 0.5284 - val_loss: 1.1523 - val_accuracy: 0.5267\n",
      "Epoch 60/100\n",
      "513/513 [==============================] - 2s 5ms/step - loss: 1.1753 - accuracy: 0.5298 - val_loss: 1.1565 - val_accuracy: 0.5323\n",
      "Epoch 61/100\n",
      "513/513 [==============================] - 3s 5ms/step - loss: 1.1761 - accuracy: 0.5268 - val_loss: 1.1548 - val_accuracy: 0.5301\n",
      "Epoch 62/100\n",
      "513/513 [==============================] - 3s 5ms/step - loss: 1.1771 - accuracy: 0.5257 - val_loss: 1.1578 - val_accuracy: 0.5192\n",
      "Epoch 63/100\n",
      "513/513 [==============================] - 3s 5ms/step - loss: 1.1773 - accuracy: 0.5248 - val_loss: 1.1571 - val_accuracy: 0.5284\n",
      "Epoch 64/100\n",
      "513/513 [==============================] - 3s 5ms/step - loss: 1.1768 - accuracy: 0.5253 - val_loss: 1.1581 - val_accuracy: 0.5179\n",
      "Epoch 65/100\n",
      "513/513 [==============================] - 2s 5ms/step - loss: 1.1760 - accuracy: 0.5286 - val_loss: 1.1564 - val_accuracy: 0.5294\n",
      "Epoch 66/100\n",
      "513/513 [==============================] - 2s 5ms/step - loss: 1.1756 - accuracy: 0.5243 - val_loss: 1.1557 - val_accuracy: 0.5270\n",
      "Epoch 67/100\n",
      "513/513 [==============================] - 3s 5ms/step - loss: 1.1746 - accuracy: 0.5299 - val_loss: 1.1599 - val_accuracy: 0.5274\n",
      "Epoch 68/100\n",
      "513/513 [==============================] - 3s 5ms/step - loss: 1.1766 - accuracy: 0.5250 - val_loss: 1.1550 - val_accuracy: 0.5243\n",
      "Epoch 69/100\n",
      "513/513 [==============================] - 2s 5ms/step - loss: 1.1756 - accuracy: 0.5298 - val_loss: 1.1534 - val_accuracy: 0.5196\n",
      "Epoch 70/100\n",
      "513/513 [==============================] - 2s 5ms/step - loss: 1.1781 - accuracy: 0.5250 - val_loss: 1.1533 - val_accuracy: 0.5221\n",
      "Epoch 71/100\n",
      "513/513 [==============================] - 3s 5ms/step - loss: 1.1777 - accuracy: 0.5242 - val_loss: 1.1523 - val_accuracy: 0.5221\n",
      "Epoch 72/100\n",
      "513/513 [==============================] - 3s 5ms/step - loss: 1.1763 - accuracy: 0.5273 - val_loss: 1.1553 - val_accuracy: 0.5257\n",
      "Epoch 73/100\n",
      "513/513 [==============================] - 3s 5ms/step - loss: 1.1766 - accuracy: 0.5286 - val_loss: 1.1586 - val_accuracy: 0.5221\n",
      "Epoch 74/100\n",
      "513/513 [==============================] - 3s 5ms/step - loss: 1.1766 - accuracy: 0.5255 - val_loss: 1.1504 - val_accuracy: 0.5231\n",
      "Epoch 75/100\n",
      "513/513 [==============================] - 3s 5ms/step - loss: 1.1753 - accuracy: 0.5309 - val_loss: 1.1548 - val_accuracy: 0.5145\n",
      "Epoch 76/100\n",
      "513/513 [==============================] - 2s 5ms/step - loss: 1.1762 - accuracy: 0.5263 - val_loss: 1.1567 - val_accuracy: 0.5296\n",
      "Epoch 77/100\n",
      "513/513 [==============================] - 2s 5ms/step - loss: 1.1770 - accuracy: 0.5252 - val_loss: 1.1550 - val_accuracy: 0.5296\n",
      "Epoch 78/100\n",
      "513/513 [==============================] - 3s 5ms/step - loss: 1.1767 - accuracy: 0.5251 - val_loss: 1.1540 - val_accuracy: 0.5248\n",
      "Epoch 79/100\n",
      "513/513 [==============================] - 2s 5ms/step - loss: 1.1765 - accuracy: 0.5273 - val_loss: 1.1674 - val_accuracy: 0.5182\n",
      "Epoch 80/100\n",
      "513/513 [==============================] - 2s 5ms/step - loss: 1.1764 - accuracy: 0.5271 - val_loss: 1.1550 - val_accuracy: 0.5235\n",
      "Epoch 81/100\n",
      "513/513 [==============================] - 2s 5ms/step - loss: 1.1757 - accuracy: 0.5278 - val_loss: 1.1700 - val_accuracy: 0.5165\n",
      "Epoch 82/100\n",
      "513/513 [==============================] - 2s 5ms/step - loss: 1.1776 - accuracy: 0.5249 - val_loss: 1.1578 - val_accuracy: 0.5277\n",
      "Epoch 83/100\n",
      "513/513 [==============================] - 3s 5ms/step - loss: 1.1789 - accuracy: 0.5265 - val_loss: 1.1545 - val_accuracy: 0.5213\n",
      "Epoch 84/100\n",
      "513/513 [==============================] - 3s 5ms/step - loss: 1.1759 - accuracy: 0.5284 - val_loss: 1.1538 - val_accuracy: 0.5316\n",
      "Epoch 85/100\n",
      "513/513 [==============================] - 3s 5ms/step - loss: 1.1752 - accuracy: 0.5278 - val_loss: 1.1527 - val_accuracy: 0.5257\n",
      "Epoch 86/100\n",
      "513/513 [==============================] - 3s 5ms/step - loss: 1.1751 - accuracy: 0.5299 - val_loss: 1.1525 - val_accuracy: 0.5233\n",
      "Epoch 87/100\n",
      "513/513 [==============================] - 2s 5ms/step - loss: 1.1754 - accuracy: 0.5300 - val_loss: 1.1566 - val_accuracy: 0.5211\n",
      "Epoch 88/100\n",
      "513/513 [==============================] - 2s 5ms/step - loss: 1.1777 - accuracy: 0.5268 - val_loss: 1.1702 - val_accuracy: 0.5353\n",
      "Epoch 89/100\n",
      "513/513 [==============================] - 3s 5ms/step - loss: 1.1758 - accuracy: 0.5269 - val_loss: 1.1541 - val_accuracy: 0.5245\n",
      "Epoch 90/100\n",
      "513/513 [==============================] - 2s 5ms/step - loss: 1.1779 - accuracy: 0.5253 - val_loss: 1.1583 - val_accuracy: 0.5289\n",
      "Epoch 91/100\n",
      "513/513 [==============================] - 3s 5ms/step - loss: 1.1747 - accuracy: 0.5257 - val_loss: 1.1536 - val_accuracy: 0.5272\n",
      "Epoch 92/100\n",
      "513/513 [==============================] - 3s 5ms/step - loss: 1.1754 - accuracy: 0.5275 - val_loss: 1.1543 - val_accuracy: 0.5231\n",
      "Epoch 93/100\n",
      "513/513 [==============================] - 3s 5ms/step - loss: 1.1736 - accuracy: 0.5298 - val_loss: 1.1566 - val_accuracy: 0.5272\n",
      "Epoch 94/100\n",
      "513/513 [==============================] - 3s 5ms/step - loss: 1.1757 - accuracy: 0.5290 - val_loss: 1.1578 - val_accuracy: 0.5274\n",
      "Epoch 95/100\n",
      "513/513 [==============================] - 3s 5ms/step - loss: 1.1754 - accuracy: 0.5276 - val_loss: 1.1525 - val_accuracy: 0.5299\n",
      "Epoch 96/100\n",
      "513/513 [==============================] - 3s 5ms/step - loss: 1.1743 - accuracy: 0.5278 - val_loss: 1.1515 - val_accuracy: 0.5265\n",
      "Epoch 97/100\n",
      "513/513 [==============================] - 2s 5ms/step - loss: 1.1763 - accuracy: 0.5248 - val_loss: 1.1575 - val_accuracy: 0.5267\n",
      "Epoch 98/100\n",
      "513/513 [==============================] - 3s 6ms/step - loss: 1.1751 - accuracy: 0.5289 - val_loss: 1.1561 - val_accuracy: 0.5313\n",
      "Epoch 99/100\n",
      "513/513 [==============================] - 3s 5ms/step - loss: 1.1751 - accuracy: 0.5279 - val_loss: 1.1524 - val_accuracy: 0.5253\n",
      "Epoch 100/100\n",
      "513/513 [==============================] - 3s 5ms/step - loss: 1.1741 - accuracy: 0.5271 - val_loss: 1.1520 - val_accuracy: 0.5267\n"
     ]
    }
   ],
   "source": [
    "start = time()\n",
    "NN_model = model_l2.fit(X_train, ytrain, epochs=100, \n",
    "                     validation_data=(X_test,ytest),batch_size=32, \n",
    "                     verbose=1)\n",
    "end=time()\n",
    "a=end-start"
   ]
  },
  {
   "cell_type": "code",
   "execution_count": 16,
   "metadata": {
    "colab": {
     "base_uri": "https://localhost:8080/",
     "height": 350
    },
    "id": "0-wwbl62CPkR",
    "outputId": "59d2b864-c423-4345-fb6d-62287198767d"
   },
   "outputs": [
    {
     "data": {
      "image/png": "[encoded data removed]",
      "text/plain": [
       "<Figure size 1080x360 with 2 Axes>"
      ]
     },
     "metadata": {
      "needs_background": "light"
     },
     "output_type": "display_data"
    }
   ],
   "source": [
    "plt.rcParams[\"figure.figsize\"] = (15,5)\n",
    "plt.subplot(1, 2, 1)\n",
    "plt.plot(NN_model.history['accuracy'], label='train')\n",
    "plt.plot(NN_model.history['val_accuracy'], label='test')\n",
    "plt.legend(loc=\"lower right\")\n",
    "#plt.ylim(0.51, 0.54)\n",
    "plt.xlabel(\"Epoch\")\n",
    "plt.ylabel(\"Accuracy\")\n",
    "plt.title(\"Accuracy History\")\n",
    "\n",
    "plt.subplot(1, 2, 2)\n",
    "plt.plot(NN_model.history['loss'], label='train')\n",
    "plt.plot(NN_model.history['val_loss'], label='test')\n",
    "#plt.ylim(1.14, 1.18)\n",
    "plt.xlabel(\"Epoch\")\n",
    "plt.ylabel(\"Loss\")\n",
    "plt.title(\"Loss History\")\n",
    "plt.legend(loc=\"lower right\")\n",
    "\n",
    "plt.show()"
   ]
  },
  {
   "cell_type": "code",
   "execution_count": 17,
   "metadata": {
    "colab": {
     "base_uri": "https://localhost:8080/"
    },
    "id": "qRSVGs5BA9sB",
    "outputId": "d534e6a7-5a6c-4279-f77c-fb81e7b69572"
   },
   "outputs": [
    {
     "name": "stdout",
     "output_type": "stream",
     "text": [
      "Total time taken for training is : 322.16 sec\n"
     ]
    }
   ],
   "source": [
    "print (\"Total time taken for training is : \",end=\"\")\n",
    "print ('%.2f sec'%a)"
   ]
  },
  {
   "cell_type": "code",
   "execution_count": null,
   "metadata": {
    "id": "scfid2kXAGyz"
   },
   "outputs": [],
   "source": []
  },
  {
   "cell_type": "markdown",
   "metadata": {
    "id": "R11isGapH29l"
   },
   "source": [
    "**7. Model Evaluation (0.5 + 0.5 = 1 mark)**\n",
    ">1. Print the final train and validation loss and accuracy. Print confusion matrix and classification report for the validation dataset. Analyse and report the best and worst performing class.\n",
    ">2. Print the two most incorrectly classified records for each class in the test dataset."
   ]
  },
  {
   "cell_type": "code",
   "execution_count": 72,
   "metadata": {
    "colab": {
     "base_uri": "https://localhost:8080/"
    },
    "id": "Iw3_v90XAGpI",
    "outputId": "46f8e064-10de-421b-cbd1-f69ce9a3862e"
   },
   "outputs": [
    {
     "name": "stdout",
     "output_type": "stream",
     "text": [
      "=============================================================\n",
      "================== Classification Report ====================\n",
      "=============================================================\n",
      "              precision    recall  f1-score   support\n",
      "\n",
      "           1       0.62      0.39      0.48       292\n",
      "           2       0.34      0.39      0.36       333\n",
      "           3       0.00      0.00      0.00       432\n",
      "           4       0.36      0.27      0.31      1252\n",
      "           5       0.61      0.88      0.72      1790\n",
      "\n",
      "    accuracy                           0.53      4099\n",
      "   macro avg       0.38      0.39      0.37      4099\n",
      "weighted avg       0.45      0.53      0.47      4099\n",
      "\n"
     ]
    }
   ],
   "source": [
    "predictions = model_l2.predict(X_test)\n",
    "test_argmax = np.argmax(ytest, axis=1)\n",
    "pred_argmax = np.argmax(predictions, axis=1)\n",
    "print(\"=============================================================\")\n",
    "print(\"================== Classification Report ====================\")\n",
    "print(\"=============================================================\")\n",
    "print( classification_report(test_argmax,pred_argmax))\n"
   ]
  },
  {
   "cell_type": "code",
   "execution_count": 73,
   "metadata": {
    "colab": {
     "base_uri": "https://localhost:8080/",
     "height": 376
    },
    "id": "IXLgEQlPIvQa",
    "outputId": "a1cdf222-39cc-417d-a45e-bddd3b492d55"
   },
   "outputs": [
    {
     "data": {
      "image/png": "[encoded data removed]",
      "text/plain": [
       "<Figure size 576x360 with 2 Axes>"
      ]
     },
     "metadata": {
      "needs_background": "light"
     },
     "output_type": "display_data"
    }
   ],
   "source": [
    "plt.rcParams[\"figure.figsize\"] = (8,5)\n",
    "cnf = confusion_matrix(ytest.argmax(axis=1), predictions.argmax(axis=1))\n",
    "ax = sns.heatmap(cnf[0:5]/np.sum(cnf[0:5]), fmt='.2%',annot=True, cmap='Blues')\n",
    "\n",
    "ax.set_title('Confusion Matrix with labels\\n');\n",
    "ax.set_xlabel('\\nPredicted Ratings')\n",
    "ax.set_ylabel('Test Ratings ');\n",
    "ax.xaxis.set_ticklabels(['1','2', '3','4', '5'])\n",
    "ax.yaxis.set_ticklabels(['1','2', '3','4', '5'])\n",
    "plt.show()"
   ]
  },
  {
   "cell_type": "markdown",
   "metadata": {
    "id": "ueWfrArL3d3_"
   },
   "source": [
    "**Summary:**\n",
    "> Best Performing class is 5 and worst is 3 due to imbalance in dataset distribution."
   ]
  },
  {
   "cell_type": "markdown",
   "metadata": {
    "id": "U1nMpsHCVprz"
   },
   "source": [
    "##### 2. Print the two most incorrectly classified records for each class in the test dataset."
   ]
  },
  {
   "cell_type": "code",
   "execution_count": 74,
   "metadata": {
    "id": "r4mJuyGbNVFx"
   },
   "outputs": [],
   "source": [
    "yt = ytest.argmax(axis=1)\n",
    "prd = predictions.argmax(axis=1)"
   ]
  },
  {
   "cell_type": "code",
   "execution_count": 75,
   "metadata": {
    "id": "tL7YN3TumQss"
   },
   "outputs": [],
   "source": [
    "ps15 = []\n",
    "ps51 = []\n",
    "ps25 = []\n",
    "ps52 = []\n",
    "ps14 = []\n",
    "ps41 = []\n",
    "ps31 = []\n",
    "ps35 = []\n",
    "ps24 = []\n",
    "ps42 = []\n",
    "def apd(a,b,c):\n",
    "  ab = []\n",
    "  ab.append(a)\n",
    "  ab.append(b)\n",
    "  ab.append(c)\n",
    "  return ab\n",
    "for i in range(0,len(yt)):\n",
    "    if (yt[i]==1 and prd[i]==5):\n",
    "      ps15.append(apd(i,yt[i],prd[i]))\n",
    "    if (yt[i]==5 and prd[i]==1):\n",
    "      ps51.append(apd(i,yt[i],prd[i]))\n",
    "    if (yt[i]==2 and prd[i]==5):\n",
    "      ps25.append(apd(i,yt[i],prd[i]))\n",
    "    if (yt[i]==5 and prd[i]==2):\n",
    "      ps52.append(apd(i,yt[i],prd[i]))\n",
    "    if (yt[i]==1 and prd[i]==4):\n",
    "      ps14.append(apd(i,yt[i],prd[i]))\n",
    "    if (yt[i]==4 and prd[i]==1):\n",
    "      ps41.append(apd(i,yt[i],prd[i]))\n",
    "    if (yt[i]==3 and prd[i]==1):\n",
    "      ps31.append(apd(i,yt[i],prd[i]))\n",
    "    if (yt[i]==3 and prd[i]==5):\n",
    "      ps35.append(apd(i,yt[i],prd[i]))\n",
    "    if (yt[i]==2 and prd[i]==4):\n",
    "      ps24.append(apd(i,yt[i],prd[i]))\n",
    "    if (yt[i]==4 and prd[i]==2):\n",
    "      ps42.append(apd(i,yt[i],prd[i]))\n"
   ]
  },
  {
   "cell_type": "code",
   "execution_count": null,
   "metadata": {
    "id": "qlgI27Qn2ExD"
   },
   "outputs": [],
   "source": [
    "X_test2 = X_test1.tolist()"
   ]
  },
  {
   "cell_type": "code",
   "execution_count": 100,
   "metadata": {
    "id": "06Rr8_YSvcv8"
   },
   "outputs": [],
   "source": [
    "inc15 =[ps15[0][1],ps15[0][2],X_test2[ps15[0][0]]]\n",
    "inc14 =[ps14[0][1],ps14[0][2],X_test2[ps14[0][0]]]\n",
    "inc25 =[ps25[0][1],ps25[0][2],X_test2[ps25[0][0]]]\n",
    "inc24 =[ps24[0][1],ps24[0][2],X_test2[ps24[0][0]]]\n",
    "inc31 =[ps31[0][1],ps31[0][2],X_test2[ps31[0][0]]]\n",
    "inc35 =[ps35[0][1],ps35[0][2],X_test2[ps35[0][0]]]\n",
    "inc41 =[ps41[0][1],ps41[0][2],X_test2[ps41[0][0]]]\n",
    "inc42 =[ps42[0][1],ps42[0][2],X_test2[ps42[0][0]]]\n",
    "#inc51 =[ps51[0][1],ps51[0][2],X_test2[ps51[0][0]]]\n",
    "inc52 =[ps52[0][1],ps52[0][2],X_test2[ps52[0][0]]]\n",
    "inc522 =[ps52[1][1],ps52[1][2],X_test2[ps52[1][0]]]"
   ]
  },
  {
   "cell_type": "code",
   "execution_count": 101,
   "metadata": {
    "colab": {
     "base_uri": "https://localhost:8080/",
     "height": 1082
    },
    "id": "CyJ_drngxKgw",
    "outputId": "789113b3-f461-4fb1-d2d4-7d4b9c9c5947"
   },
   "outputs": [
    {
     "data": {
      "text/html": [
       "\n",
       "  <div id=\"df-a4ef567b-613a-4333-9f10-2f0ab657c2a1\">\n",
       "    <div class=\"colab-df-container\">\n",
       "      <div>\n",
       "<style scoped>\n",
       "    .dataframe tbody tr th:only-of-type {\n",
       "        vertical-align: middle;\n",
       "    }\n",
       "\n",
       "    .dataframe tbody tr th {\n",
       "        vertical-align: top;\n",
       "    }\n",
       "\n",
       "    .dataframe thead th {\n",
       "        text-align: right;\n",
       "    }\n",
       "</style>\n",
       "<table border=\"1\" class=\"dataframe\">\n",
       "  <thead>\n",
       "    <tr style=\"text-align: right;\">\n",
       "      <th></th>\n",
       "      <th>Test Rating</th>\n",
       "      <th>Predicted Rating</th>\n",
       "      <th>Review</th>\n",
       "    </tr>\n",
       "  </thead>\n",
       "  <tbody>\n",
       "    <tr>\n",
       "      <th>0</th>\n",
       "      <td>1</td>\n",
       "      <td>5</td>\n",
       "      <td>terrible loved infinity pool family took trip ...</td>\n",
       "    </tr>\n",
       "    <tr>\n",
       "      <th>1</th>\n",
       "      <td>1</td>\n",
       "      <td>4</td>\n",
       "      <td>nice grounds pathetic service standards perspe...</td>\n",
       "    </tr>\n",
       "    <tr>\n",
       "      <th>2</th>\n",
       "      <td>2</td>\n",
       "      <td>5</td>\n",
       "      <td>great hotel 21 w hotel pretentious geared 20 y...</td>\n",
       "    </tr>\n",
       "    <tr>\n",
       "      <th>3</th>\n",
       "      <td>2</td>\n",
       "      <td>4</td>\n",
       "      <td>overpriced not trendy research thought hip tre...</td>\n",
       "    </tr>\n",
       "    <tr>\n",
       "      <th>4</th>\n",
       "      <td>3</td>\n",
       "      <td>1</td>\n",
       "      <td>no tipping, stay 4 nights hotel 5 star tipping...</td>\n",
       "    </tr>\n",
       "    <tr>\n",
       "      <th>5</th>\n",
       "      <td>3</td>\n",
       "      <td>5</td>\n",
       "      <td>ok hotel good location stayed night way beijin...</td>\n",
       "    </tr>\n",
       "    <tr>\n",
       "      <th>6</th>\n",
       "      <td>4</td>\n",
       "      <td>1</td>\n",
       "      <td>loved beach loved beach sand fleas bite, recom...</td>\n",
       "    </tr>\n",
       "    <tr>\n",
       "      <th>7</th>\n",
       "      <td>4</td>\n",
       "      <td>2</td>\n",
       "      <td>good flaw stayed hotel boyfriend 4 nights augu...</td>\n",
       "    </tr>\n",
       "    <tr>\n",
       "      <th>8</th>\n",
       "      <td>5</td>\n",
       "      <td>2</td>\n",
       "      <td>great service little expensive beautifull hote...</td>\n",
       "    </tr>\n",
       "    <tr>\n",
       "      <th>9</th>\n",
       "      <td>5</td>\n",
       "      <td>2</td>\n",
       "      <td>enjoyable convenient stayed 3 nights fiance la...</td>\n",
       "    </tr>\n",
       "  </tbody>\n",
       "</table>\n",
       "</div>\n",
       "      <button class=\"colab-df-convert\" onclick=\"convertToInteractive('df-a4ef567b-613a-4333-9f10-2f0ab657c2a1')\"\n",
       "              title=\"Convert this dataframe to an interactive table.\"\n",
       "              style=\"display:none;\">\n",
       "        \n",
       "  <svg xmlns=\"http://www.w3.org/2000/svg\" height=\"24px\"viewBox=\"0 0 24 24\"\n",
       "       width=\"24px\">\n",
       "    <path d=\"M0 0h24v24H0V0z\" fill=\"none\"/>\n",
       "    <path d=\"M18.56 5.44l.94 2.06.94-2.06 2.06-.94-2.06-.94-.94-2.06-.94 2.06-2.06.94zm-11 1L8.5 8.5l.94-2.06 2.06-.94-2.06-.94L8.5 2.5l-.94 2.06-2.06.94zm10 10l.94 2.06.94-2.06 2.06-.94-2.06-.94-.94-2.06-.94 2.06-2.06.94z\"/><path d=\"M17.41 7.96l-1.37-1.37c-.4-.4-.92-.59-1.43-.59-.52 0-1.04.2-1.43.59L10.3 9.45l-7.72 7.72c-.78.78-.78 2.05 0 2.83L4 21.41c.39.39.9.59 1.41.59.51 0 1.02-.2 1.41-.59l7.78-7.78 2.81-2.81c.8-.78.8-2.07 0-2.86zM5.41 20L4 18.59l7.72-7.72 1.47 1.35L5.41 20z\"/>\n",
       "  </svg>\n",
       "      </button>\n",
       "      \n",
       "  <style>\n",
       "    .colab-df-container {\n",
       "      display:flex;\n",
       "      flex-wrap:wrap;\n",
       "      gap: 12px;\n",
       "    }\n",
       "\n",
       "    .colab-df-convert {\n",
       "      background-color: #E8F0FE;\n",
       "      border: none;\n",
       "      border-radius: 50%;\n",
       "      cursor: pointer;\n",
       "      display: none;\n",
       "      fill: #1967D2;\n",
       "      height: 32px;\n",
       "      padding: 0 0 0 0;\n",
       "      width: 32px;\n",
       "    }\n",
       "\n",
       "    .colab-df-convert:hover {\n",
       "      background-color: #E2EBFA;\n",
       "      box-shadow: 0px 1px 2px rgba(60, 64, 67, 0.3), 0px 1px 3px 1px rgba(60, 64, 67, 0.15);\n",
       "      fill: #174EA6;\n",
       "    }\n",
       "\n",
       "    [theme=dark] .colab-df-convert {\n",
       "      background-color: #3B4455;\n",
       "      fill: #D2E3FC;\n",
       "    }\n",
       "\n",
       "    [theme=dark] .colab-df-convert:hover {\n",
       "      background-color: #434B5C;\n",
       "      box-shadow: 0px 1px 3px 1px rgba(0, 0, 0, 0.15);\n",
       "      filter: drop-shadow(0px 1px 2px rgba(0, 0, 0, 0.3));\n",
       "      fill: #FFFFFF;\n",
       "    }\n",
       "  </style>\n",
       "\n",
       "      <script>\n",
       "        const buttonEl =\n",
       "          document.querySelector('#df-a4ef567b-613a-4333-9f10-2f0ab657c2a1 button.colab-df-convert');\n",
       "        buttonEl.style.display =\n",
       "          google.colab.kernel.accessAllowed ? 'block' : 'none';\n",
       "\n",
       "        async function convertToInteractive(key) {\n",
       "          const element = document.querySelector('#df-a4ef567b-613a-4333-9f10-2f0ab657c2a1');\n",
       "          const dataTable =\n",
       "            await google.colab.kernel.invokeFunction('convertToInteractive',\n",
       "                                                     [key], {});\n",
       "          if (!dataTable) return;\n",
       "\n",
       "          const docLinkHtml = 'Like what you see? Visit the ' +\n",
       "            '<a target=\"_blank\" href=https://colab.research.google.com/notebooks/data_table.ipynb>data table notebook</a>'\n",
       "            + ' to learn more about interactive tables.';\n",
       "          element.innerHTML = '';\n",
       "          dataTable['output_type'] = 'display_data';\n",
       "          await google.colab.output.renderOutput(dataTable, element);\n",
       "          const docLink = document.createElement('div');\n",
       "          docLink.innerHTML = docLinkHtml;\n",
       "          element.appendChild(docLink);\n",
       "        }\n",
       "      </script>\n",
       "    </div>\n",
       "  </div>\n",
       "  "
      ],
      "text/plain": [
       "   Test Rating  ...                                             Review\n",
       "0            1  ...  terrible loved infinity pool family took trip ...\n",
       "1            1  ...  nice grounds pathetic service standards perspe...\n",
       "2            2  ...  great hotel 21 w hotel pretentious geared 20 y...\n",
       "3            2  ...  overpriced not trendy research thought hip tre...\n",
       "4            3  ...  no tipping, stay 4 nights hotel 5 star tipping...\n",
       "5            3  ...  ok hotel good location stayed night way beijin...\n",
       "6            4  ...  loved beach loved beach sand fleas bite, recom...\n",
       "7            4  ...  good flaw stayed hotel boyfriend 4 nights augu...\n",
       "8            5  ...  great service little expensive beautifull hote...\n",
       "9            5  ...  enjoyable convenient stayed 3 nights fiance la...\n",
       "\n",
       "[10 rows x 3 columns]"
      ]
     },
     "execution_count": 101,
     "metadata": {},
     "output_type": "execute_result"
    }
   ],
   "source": [
    "lstinc = [inc15,inc14,inc25,inc24,inc31,inc35,inc41,inc42,inc52,inc522]\n",
    "    \n",
    "dfinc = pd.DataFrame(lstinc, columns =['Test Rating', 'Predicted Rating', 'Review'])\n",
    "dfinc"
   ]
  },
  {
   "cell_type": "code",
   "execution_count": null,
   "metadata": {
    "id": "9oQU0g3KxKkW"
   },
   "outputs": [],
   "source": []
  },
  {
   "cell_type": "markdown",
   "metadata": {
    "id": "3q1Klek1YTK9"
   },
   "source": [
    "**Hyperparameter Tuning-** Build two more models by changing the following hyperparameters one at a time. Write the code for Model Building, Model Compilation, Model Training and Model Evaluation as given in the instructions above for each additional model. (1 + 1 = 2 marks)\n",
    "\n",
    ">1. Regularization: Train a model without regularization\n",
    ">2. Dropout:Change the position and value of dropout layer"
   ]
  },
  {
   "cell_type": "markdown",
   "metadata": {
    "id": "UcA7kiSOGsch"
   },
   "source": [
    "**Model without regularization**"
   ]
  },
  {
   "cell_type": "code",
   "execution_count": null,
   "metadata": {
    "colab": {
     "base_uri": "https://localhost:8080/"
    },
    "id": "olh7wD21OVLQ",
    "outputId": "bcf984d9-b48d-4ad2-d0dd-ce131826cd36"
   },
   "outputs": [
    {
     "name": "stdout",
     "output_type": "stream",
     "text": [
      "Model: \"sequential_27\"\n",
      "_________________________________________________________________\n",
      " Layer (type)                Output Shape              Param #   \n",
      "=================================================================\n",
      " layer_1 (Dense)             (None, 128)               16512     \n",
      "                                                                 \n",
      " layer_2 (Dense)             (None, 96)                12384     \n",
      "                                                                 \n",
      " dropout_16 (Dropout)        (None, 96)                0         \n",
      "                                                                 \n",
      " layer_3 (Dense)             (None, 64)                6208      \n",
      "                                                                 \n",
      " layer_4 (Dense)             (None, 32)                2080      \n",
      "                                                                 \n",
      " output (Dense)              (None, 6)                 198       \n",
      "                                                                 \n",
      "=================================================================\n",
      "Total params: 37,382\n",
      "Trainable params: 37,382\n",
      "Non-trainable params: 0\n",
      "_________________________________________________________________\n"
     ]
    }
   ],
   "source": [
    "model_nl2 = models.Sequential()\n",
    "model_nl2.add(keras.layers.Dense(128, activation='relu',name ='layer_1',input_shape=(128,)))\n",
    "model_nl2.add(keras.layers.Dense(96, activation='relu', name = 'layer_2'))\n",
    "model_nl2.add(Dropout(0.2))\n",
    "model_nl2.add(keras.layers.Dense(64, activation='relu', name = 'layer_3'))\n",
    "model_nl2.add(keras.layers.Dense(32, activation='relu', name = 'layer_4'))\n",
    "model_nl2.add(keras.layers.Dense(6, activation='softmax',name='output'))\n",
    "model_nl2.summary()"
   ]
  },
  {
   "cell_type": "code",
   "execution_count": null,
   "metadata": {
    "colab": {
     "base_uri": "https://localhost:8080/"
    },
    "collapsed": true,
    "id": "nhb_eia4ZTi9",
    "outputId": "5e8015f9-b102-490e-fc0b-57b0b39ed19f"
   },
   "outputs": [
    {
     "name": "stdout",
     "output_type": "stream",
     "text": [
      "Epoch 1/100\n",
      "513/513 [==============================] - 3s 4ms/step - loss: 1.0778 - accuracy: 0.5215 - val_loss: 0.9711 - val_accuracy: 0.5645\n",
      "Epoch 2/100\n",
      "513/513 [==============================] - 2s 3ms/step - loss: 0.9815 - accuracy: 0.5640 - val_loss: 0.9428 - val_accuracy: 0.5894\n",
      "Epoch 3/100\n",
      "513/513 [==============================] - 2s 3ms/step - loss: 0.9621 - accuracy: 0.5701 - val_loss: 0.9289 - val_accuracy: 0.5897\n",
      "Epoch 4/100\n",
      "513/513 [==============================] - 2s 3ms/step - loss: 0.9501 - accuracy: 0.5760 - val_loss: 0.9301 - val_accuracy: 0.5948\n",
      "Epoch 5/100\n",
      "513/513 [==============================] - 2s 3ms/step - loss: 0.9416 - accuracy: 0.5819 - val_loss: 0.9367 - val_accuracy: 0.5853\n",
      "Epoch 6/100\n",
      "513/513 [==============================] - 2s 3ms/step - loss: 0.9320 - accuracy: 0.5841 - val_loss: 0.9282 - val_accuracy: 0.5919\n",
      "Epoch 7/100\n",
      "513/513 [==============================] - 2s 3ms/step - loss: 0.9186 - accuracy: 0.5933 - val_loss: 0.9320 - val_accuracy: 0.5909\n",
      "Epoch 8/100\n",
      "513/513 [==============================] - 2s 3ms/step - loss: 0.9137 - accuracy: 0.5949 - val_loss: 0.9339 - val_accuracy: 0.5901\n",
      "Epoch 9/100\n",
      "513/513 [==============================] - 2s 3ms/step - loss: 0.8988 - accuracy: 0.6012 - val_loss: 0.9306 - val_accuracy: 0.5965\n",
      "Epoch 10/100\n",
      "513/513 [==============================] - 3s 6ms/step - loss: 0.8898 - accuracy: 0.6043 - val_loss: 0.9585 - val_accuracy: 0.5745\n",
      "Epoch 11/100\n",
      "513/513 [==============================] - 1s 3ms/step - loss: 0.8777 - accuracy: 0.6058 - val_loss: 0.9500 - val_accuracy: 0.5772\n",
      "Epoch 12/100\n",
      "513/513 [==============================] - 2s 3ms/step - loss: 0.8638 - accuracy: 0.6173 - val_loss: 0.9557 - val_accuracy: 0.5826\n",
      "Epoch 13/100\n",
      "513/513 [==============================] - 2s 3ms/step - loss: 0.8487 - accuracy: 0.6243 - val_loss: 0.9705 - val_accuracy: 0.5772\n",
      "Epoch 14/100\n",
      "513/513 [==============================] - 2s 3ms/step - loss: 0.8358 - accuracy: 0.6275 - val_loss: 0.9933 - val_accuracy: 0.5587\n",
      "Epoch 15/100\n",
      "513/513 [==============================] - 2s 3ms/step - loss: 0.8240 - accuracy: 0.6334 - val_loss: 0.9833 - val_accuracy: 0.5833\n",
      "Epoch 16/100\n",
      "513/513 [==============================] - 2s 3ms/step - loss: 0.8078 - accuracy: 0.6405 - val_loss: 1.0092 - val_accuracy: 0.5743\n",
      "Epoch 17/100\n",
      "513/513 [==============================] - 2s 3ms/step - loss: 0.7905 - accuracy: 0.6496 - val_loss: 1.0292 - val_accuracy: 0.5726\n",
      "Epoch 18/100\n",
      "513/513 [==============================] - 1s 3ms/step - loss: 0.7786 - accuracy: 0.6543 - val_loss: 1.0394 - val_accuracy: 0.5745\n",
      "Epoch 19/100\n",
      "513/513 [==============================] - 2s 3ms/step - loss: 0.7611 - accuracy: 0.6645 - val_loss: 1.0676 - val_accuracy: 0.5596\n",
      "Epoch 20/100\n",
      "513/513 [==============================] - 2s 3ms/step - loss: 0.7436 - accuracy: 0.6694 - val_loss: 1.1060 - val_accuracy: 0.5582\n",
      "Epoch 21/100\n",
      "513/513 [==============================] - 2s 3ms/step - loss: 0.7290 - accuracy: 0.6760 - val_loss: 1.1323 - val_accuracy: 0.5555\n",
      "Epoch 22/100\n",
      "513/513 [==============================] - 1s 3ms/step - loss: 0.7177 - accuracy: 0.6798 - val_loss: 1.1419 - val_accuracy: 0.5565\n",
      "Epoch 23/100\n",
      "513/513 [==============================] - 2s 3ms/step - loss: 0.7012 - accuracy: 0.6911 - val_loss: 1.2343 - val_accuracy: 0.5496\n",
      "Epoch 24/100\n",
      "513/513 [==============================] - 2s 3ms/step - loss: 0.6823 - accuracy: 0.6988 - val_loss: 1.1972 - val_accuracy: 0.5533\n",
      "Epoch 25/100\n",
      "513/513 [==============================] - 2s 3ms/step - loss: 0.6708 - accuracy: 0.7062 - val_loss: 1.2326 - val_accuracy: 0.5418\n",
      "Epoch 26/100\n",
      "513/513 [==============================] - 2s 3ms/step - loss: 0.6559 - accuracy: 0.7128 - val_loss: 1.2574 - val_accuracy: 0.5577\n",
      "Epoch 27/100\n",
      "513/513 [==============================] - 2s 3ms/step - loss: 0.6378 - accuracy: 0.7231 - val_loss: 1.2573 - val_accuracy: 0.5438\n",
      "Epoch 28/100\n",
      "513/513 [==============================] - 1s 3ms/step - loss: 0.6291 - accuracy: 0.7266 - val_loss: 1.2820 - val_accuracy: 0.5301\n",
      "Epoch 29/100\n",
      "513/513 [==============================] - 1s 3ms/step - loss: 0.6161 - accuracy: 0.7285 - val_loss: 1.4134 - val_accuracy: 0.5372\n",
      "Epoch 30/100\n",
      "513/513 [==============================] - 2s 3ms/step - loss: 0.6056 - accuracy: 0.7357 - val_loss: 1.3601 - val_accuracy: 0.5313\n",
      "Epoch 31/100\n",
      "513/513 [==============================] - 2s 5ms/step - loss: 0.5900 - accuracy: 0.7465 - val_loss: 1.4262 - val_accuracy: 0.5338\n",
      "Epoch 32/100\n",
      "513/513 [==============================] - 3s 6ms/step - loss: 0.5773 - accuracy: 0.7472 - val_loss: 1.4123 - val_accuracy: 0.5392\n",
      "Epoch 33/100\n",
      "513/513 [==============================] - 2s 4ms/step - loss: 0.5667 - accuracy: 0.7545 - val_loss: 1.4843 - val_accuracy: 0.5389\n",
      "Epoch 34/100\n",
      "513/513 [==============================] - 2s 3ms/step - loss: 0.5556 - accuracy: 0.7602 - val_loss: 1.4605 - val_accuracy: 0.5318\n",
      "Epoch 35/100\n",
      "513/513 [==============================] - 2s 3ms/step - loss: 0.5476 - accuracy: 0.7615 - val_loss: 1.4760 - val_accuracy: 0.5450\n",
      "Epoch 36/100\n",
      "513/513 [==============================] - 2s 3ms/step - loss: 0.5322 - accuracy: 0.7717 - val_loss: 1.4899 - val_accuracy: 0.5389\n",
      "Epoch 37/100\n",
      "513/513 [==============================] - 2s 3ms/step - loss: 0.5242 - accuracy: 0.7750 - val_loss: 1.5692 - val_accuracy: 0.5382\n",
      "Epoch 38/100\n",
      "513/513 [==============================] - 2s 3ms/step - loss: 0.5138 - accuracy: 0.7793 - val_loss: 1.6427 - val_accuracy: 0.5331\n",
      "Epoch 39/100\n",
      "513/513 [==============================] - 2s 3ms/step - loss: 0.5145 - accuracy: 0.7787 - val_loss: 1.5645 - val_accuracy: 0.5331\n",
      "Epoch 40/100\n",
      "513/513 [==============================] - 2s 3ms/step - loss: 0.4901 - accuracy: 0.7882 - val_loss: 1.6981 - val_accuracy: 0.5160\n",
      "Epoch 41/100\n",
      "513/513 [==============================] - 2s 3ms/step - loss: 0.4752 - accuracy: 0.7964 - val_loss: 1.6882 - val_accuracy: 0.5313\n",
      "Epoch 42/100\n",
      "513/513 [==============================] - 2s 3ms/step - loss: 0.4657 - accuracy: 0.7992 - val_loss: 1.7125 - val_accuracy: 0.5211\n",
      "Epoch 43/100\n",
      "513/513 [==============================] - 2s 3ms/step - loss: 0.4687 - accuracy: 0.8003 - val_loss: 1.7231 - val_accuracy: 0.5355\n",
      "Epoch 44/100\n",
      "513/513 [==============================] - 2s 3ms/step - loss: 0.4570 - accuracy: 0.8043 - val_loss: 1.8667 - val_accuracy: 0.5316\n",
      "Epoch 45/100\n",
      "513/513 [==============================] - 2s 3ms/step - loss: 0.4514 - accuracy: 0.8096 - val_loss: 1.8945 - val_accuracy: 0.5172\n",
      "Epoch 46/100\n",
      "513/513 [==============================] - 1s 3ms/step - loss: 0.4334 - accuracy: 0.8164 - val_loss: 1.9109 - val_accuracy: 0.5343\n",
      "Epoch 47/100\n",
      "513/513 [==============================] - 2s 3ms/step - loss: 0.4356 - accuracy: 0.8130 - val_loss: 1.9483 - val_accuracy: 0.5209\n",
      "Epoch 48/100\n",
      "513/513 [==============================] - 2s 3ms/step - loss: 0.4208 - accuracy: 0.8239 - val_loss: 1.8722 - val_accuracy: 0.5235\n",
      "Epoch 49/100\n",
      "513/513 [==============================] - 2s 3ms/step - loss: 0.4191 - accuracy: 0.8274 - val_loss: 1.9456 - val_accuracy: 0.5377\n",
      "Epoch 50/100\n",
      "513/513 [==============================] - 2s 3ms/step - loss: 0.4163 - accuracy: 0.8233 - val_loss: 1.9935 - val_accuracy: 0.5399\n",
      "Epoch 51/100\n",
      "513/513 [==============================] - 2s 3ms/step - loss: 0.4034 - accuracy: 0.8272 - val_loss: 2.0355 - val_accuracy: 0.5272\n",
      "Epoch 52/100\n",
      "513/513 [==============================] - 2s 3ms/step - loss: 0.4052 - accuracy: 0.8305 - val_loss: 2.1670 - val_accuracy: 0.5350\n",
      "Epoch 53/100\n",
      "513/513 [==============================] - 2s 3ms/step - loss: 0.3933 - accuracy: 0.8363 - val_loss: 2.0918 - val_accuracy: 0.5270\n",
      "Epoch 54/100\n",
      "513/513 [==============================] - 2s 3ms/step - loss: 0.4008 - accuracy: 0.8306 - val_loss: 2.0808 - val_accuracy: 0.5226\n",
      "Epoch 55/100\n",
      "513/513 [==============================] - 2s 3ms/step - loss: 0.3841 - accuracy: 0.8371 - val_loss: 2.1846 - val_accuracy: 0.5196\n",
      "Epoch 56/100\n",
      "513/513 [==============================] - 2s 3ms/step - loss: 0.3790 - accuracy: 0.8400 - val_loss: 2.0772 - val_accuracy: 0.5231\n",
      "Epoch 57/100\n",
      "513/513 [==============================] - 2s 3ms/step - loss: 0.3756 - accuracy: 0.8418 - val_loss: 2.1946 - val_accuracy: 0.5257\n",
      "Epoch 58/100\n",
      "513/513 [==============================] - 2s 3ms/step - loss: 0.3698 - accuracy: 0.8427 - val_loss: 2.1815 - val_accuracy: 0.5165\n",
      "Epoch 59/100\n",
      "513/513 [==============================] - 2s 3ms/step - loss: 0.3654 - accuracy: 0.8471 - val_loss: 2.2836 - val_accuracy: 0.5265\n",
      "Epoch 60/100\n",
      "513/513 [==============================] - 2s 3ms/step - loss: 0.3498 - accuracy: 0.8532 - val_loss: 2.1948 - val_accuracy: 0.5231\n",
      "Epoch 61/100\n",
      "513/513 [==============================] - 2s 3ms/step - loss: 0.3539 - accuracy: 0.8519 - val_loss: 2.2354 - val_accuracy: 0.5211\n",
      "Epoch 62/100\n",
      "513/513 [==============================] - 2s 3ms/step - loss: 0.3564 - accuracy: 0.8510 - val_loss: 2.2997 - val_accuracy: 0.5121\n",
      "Epoch 63/100\n",
      "513/513 [==============================] - 2s 3ms/step - loss: 0.3481 - accuracy: 0.8550 - val_loss: 2.2420 - val_accuracy: 0.5243\n",
      "Epoch 64/100\n",
      "513/513 [==============================] - 2s 3ms/step - loss: 0.3436 - accuracy: 0.8555 - val_loss: 2.3255 - val_accuracy: 0.5118\n",
      "Epoch 65/100\n",
      "513/513 [==============================] - 2s 3ms/step - loss: 0.3366 - accuracy: 0.8595 - val_loss: 2.3899 - val_accuracy: 0.5238\n",
      "Epoch 66/100\n",
      "513/513 [==============================] - 2s 3ms/step - loss: 0.3227 - accuracy: 0.8670 - val_loss: 2.4660 - val_accuracy: 0.5155\n",
      "Epoch 67/100\n",
      "513/513 [==============================] - 2s 3ms/step - loss: 0.3332 - accuracy: 0.8634 - val_loss: 2.3541 - val_accuracy: 0.5243\n",
      "Epoch 68/100\n",
      "513/513 [==============================] - 2s 3ms/step - loss: 0.3116 - accuracy: 0.8701 - val_loss: 2.3540 - val_accuracy: 0.5140\n",
      "Epoch 69/100\n",
      "513/513 [==============================] - 2s 3ms/step - loss: 0.3237 - accuracy: 0.8653 - val_loss: 2.3688 - val_accuracy: 0.5099\n",
      "Epoch 70/100\n",
      "513/513 [==============================] - 2s 3ms/step - loss: 0.3216 - accuracy: 0.8654 - val_loss: 2.3523 - val_accuracy: 0.5077\n",
      "Epoch 71/100\n",
      "513/513 [==============================] - 2s 4ms/step - loss: 0.3048 - accuracy: 0.8739 - val_loss: 2.5155 - val_accuracy: 0.5150\n",
      "Epoch 72/100\n",
      "513/513 [==============================] - 2s 3ms/step - loss: 0.3033 - accuracy: 0.8739 - val_loss: 2.5918 - val_accuracy: 0.5089\n",
      "Epoch 73/100\n",
      "513/513 [==============================] - 2s 3ms/step - loss: 0.3101 - accuracy: 0.8718 - val_loss: 2.6403 - val_accuracy: 0.5201\n",
      "Epoch 74/100\n",
      "513/513 [==============================] - 2s 3ms/step - loss: 0.3061 - accuracy: 0.8755 - val_loss: 2.5010 - val_accuracy: 0.5145\n",
      "Epoch 75/100\n",
      "513/513 [==============================] - 2s 3ms/step - loss: 0.3001 - accuracy: 0.8770 - val_loss: 2.4962 - val_accuracy: 0.5121\n",
      "Epoch 76/100\n",
      "513/513 [==============================] - 2s 3ms/step - loss: 0.2865 - accuracy: 0.8835 - val_loss: 2.5879 - val_accuracy: 0.5174\n",
      "Epoch 77/100\n",
      "513/513 [==============================] - 2s 3ms/step - loss: 0.2963 - accuracy: 0.8798 - val_loss: 2.6248 - val_accuracy: 0.5140\n",
      "Epoch 78/100\n",
      "513/513 [==============================] - 2s 4ms/step - loss: 0.2924 - accuracy: 0.8819 - val_loss: 2.4904 - val_accuracy: 0.5091\n",
      "Epoch 79/100\n",
      "513/513 [==============================] - 3s 6ms/step - loss: 0.2851 - accuracy: 0.8857 - val_loss: 2.6079 - val_accuracy: 0.5065\n",
      "Epoch 80/100\n",
      "513/513 [==============================] - 3s 6ms/step - loss: 0.2846 - accuracy: 0.8824 - val_loss: 2.6799 - val_accuracy: 0.5089\n",
      "Epoch 81/100\n",
      "513/513 [==============================] - 3s 6ms/step - loss: 0.2875 - accuracy: 0.8838 - val_loss: 2.5799 - val_accuracy: 0.5028\n",
      "Epoch 82/100\n",
      "513/513 [==============================] - 3s 6ms/step - loss: 0.2736 - accuracy: 0.8882 - val_loss: 2.7102 - val_accuracy: 0.5118\n",
      "Epoch 83/100\n",
      "513/513 [==============================] - 2s 4ms/step - loss: 0.2693 - accuracy: 0.8899 - val_loss: 2.6971 - val_accuracy: 0.5218\n",
      "Epoch 84/100\n",
      "513/513 [==============================] - 2s 3ms/step - loss: 0.2763 - accuracy: 0.8887 - val_loss: 2.6727 - val_accuracy: 0.5155\n",
      "Epoch 85/100\n",
      "513/513 [==============================] - 2s 4ms/step - loss: 0.2725 - accuracy: 0.8912 - val_loss: 2.7387 - val_accuracy: 0.5170\n",
      "Epoch 86/100\n",
      "513/513 [==============================] - 2s 3ms/step - loss: 0.2622 - accuracy: 0.8931 - val_loss: 2.8775 - val_accuracy: 0.5135\n",
      "Epoch 87/100\n",
      "513/513 [==============================] - 2s 3ms/step - loss: 0.2716 - accuracy: 0.8880 - val_loss: 2.7527 - val_accuracy: 0.5099\n",
      "Epoch 88/100\n",
      "513/513 [==============================] - 2s 4ms/step - loss: 0.2606 - accuracy: 0.8946 - val_loss: 2.6978 - val_accuracy: 0.5116\n",
      "Epoch 89/100\n",
      "513/513 [==============================] - 3s 5ms/step - loss: 0.2682 - accuracy: 0.8917 - val_loss: 2.6880 - val_accuracy: 0.5138\n",
      "Epoch 90/100\n",
      "513/513 [==============================] - 2s 4ms/step - loss: 0.2530 - accuracy: 0.8983 - val_loss: 2.8790 - val_accuracy: 0.5087\n",
      "Epoch 91/100\n",
      "513/513 [==============================] - 2s 3ms/step - loss: 0.2475 - accuracy: 0.9001 - val_loss: 2.8485 - val_accuracy: 0.5116\n",
      "Epoch 92/100\n",
      "513/513 [==============================] - 2s 3ms/step - loss: 0.2554 - accuracy: 0.8972 - val_loss: 2.9957 - val_accuracy: 0.5133\n",
      "Epoch 93/100\n",
      "513/513 [==============================] - 2s 3ms/step - loss: 0.2576 - accuracy: 0.8947 - val_loss: 2.8880 - val_accuracy: 0.5223\n",
      "Epoch 94/100\n",
      "513/513 [==============================] - 2s 3ms/step - loss: 0.2475 - accuracy: 0.9003 - val_loss: 2.9316 - val_accuracy: 0.5082\n",
      "Epoch 95/100\n",
      "513/513 [==============================] - 2s 3ms/step - loss: 0.2490 - accuracy: 0.9014 - val_loss: 2.8597 - val_accuracy: 0.5148\n",
      "Epoch 96/100\n",
      "513/513 [==============================] - 2s 3ms/step - loss: 0.2531 - accuracy: 0.8968 - val_loss: 2.8298 - val_accuracy: 0.5084\n",
      "Epoch 97/100\n",
      "513/513 [==============================] - 2s 3ms/step - loss: 0.2300 - accuracy: 0.9072 - val_loss: 3.0503 - val_accuracy: 0.5160\n",
      "Epoch 98/100\n",
      "513/513 [==============================] - 2s 3ms/step - loss: 0.2473 - accuracy: 0.9018 - val_loss: 2.9235 - val_accuracy: 0.5174\n",
      "Epoch 99/100\n",
      "513/513 [==============================] - 2s 3ms/step - loss: 0.2448 - accuracy: 0.9019 - val_loss: 2.7969 - val_accuracy: 0.5072\n",
      "Epoch 100/100\n",
      "513/513 [==============================] - 2s 3ms/step - loss: 0.2418 - accuracy: 0.9025 - val_loss: 2.7952 - val_accuracy: 0.5170\n"
     ]
    }
   ],
   "source": [
    "model_nl2.compile(optimizer=Adam(lr=0.001),loss='categorical_crossentropy' ,\n",
    "              metrics=['accuracy'] )\n",
    "NN_model_nl2 = model_nl2.fit(X_train, ytrain, epochs=100, \n",
    "                     validation_data=(X_test,ytest),batch_size=32, \n",
    "                     verbose=1)"
   ]
  },
  {
   "cell_type": "code",
   "execution_count": null,
   "metadata": {
    "colab": {
     "base_uri": "https://localhost:8080/",
     "height": 350
    },
    "id": "dAodqe-WaF0L",
    "outputId": "30b8d3c3-5817-4676-93e3-558b14f6a191"
   },
   "outputs": [
    {
     "data": {
      "image/png": "[encoded data removed]",
      "text/plain": [
       "<Figure size 1080x360 with 2 Axes>"
      ]
     },
     "metadata": {
      "needs_background": "light"
     },
     "output_type": "display_data"
    }
   ],
   "source": [
    "plt.rcParams[\"figure.figsize\"] = (15,5)\n",
    "plt.subplot(1, 2, 1)\n",
    "plt.plot(NN_model_nl2.history['accuracy'], label='train')\n",
    "plt.plot(NN_model_nl2.history['val_accuracy'], label='test')\n",
    "plt.legend(loc=\"lower right\")\n",
    "#plt.ylim(0.51, 0.54)\n",
    "plt.xlabel(\"Epoch\")\n",
    "plt.ylabel(\"Accuracy\")\n",
    "plt.title(\"Accuracy History Without l2 regularization\")\n",
    "\n",
    "plt.subplot(1, 2, 2)\n",
    "plt.plot(NN_model_nl2.history['loss'], label='train')\n",
    "plt.plot(NN_model_nl2.history['val_loss'], label='test')\n",
    "#plt.ylim(1.14, 1.18)\n",
    "plt.xlabel(\"Epoch\")\n",
    "plt.ylabel(\"Loss\")\n",
    "plt.title(\"Accuracy History Without l2 regularization\")\n",
    "plt.legend(loc=\"lower right\")\n",
    "\n",
    "plt.show()"
   ]
  },
  {
   "cell_type": "code",
   "execution_count": null,
   "metadata": {
    "colab": {
     "base_uri": "https://localhost:8080/"
    },
    "id": "iBT2hBLqIdCY",
    "outputId": "912f6051-872f-43e6-cf5e-286ec6c44aad"
   },
   "outputs": [
    {
     "name": "stdout",
     "output_type": "stream",
     "text": [
      "Accuracy of Model with Regularization:  52.745 %\n",
      "Accuracy of Model without Regularization:  51.696 %\n"
     ]
    }
   ],
   "source": [
    "score_nl2 = model_nl2.evaluate(X_test,ytest,verbose=0)\n",
    "score_l2 = model_l2.evaluate(X_test,ytest,verbose=0)\n",
    "print(\"Accuracy of Model with Regularization: \",round(score_l2[1]*100,3),\"%\")\n",
    "print(\"Accuracy of Model without Regularization: \",round(score_nl2[1]*100,3),\"%\")"
   ]
  },
  {
   "cell_type": "code",
   "execution_count": null,
   "metadata": {
    "id": "Qe5GYcm7JdZ3"
   },
   "outputs": [],
   "source": []
  },
  {
   "cell_type": "markdown",
   "metadata": {
    "id": "1MES6q3PJfuL"
   },
   "source": [
    " **Drop Out Tuning**\n",
    " >1. Swaping Dropout position after First, Third & Fourth layer.\n",
    " >2. Increase the Dropout value to 0.5 from 0.2 after second position."
   ]
  },
  {
   "cell_type": "code",
   "execution_count": null,
   "metadata": {
    "colab": {
     "base_uri": "https://localhost:8080/"
    },
    "id": "ELNKRYGlJMpJ",
    "outputId": "7e7dff80-e749-4469-f90f-b288a26bddf6"
   },
   "outputs": [
    {
     "name": "stdout",
     "output_type": "stream",
     "text": [
      "Model: \"sequential_30\"\n",
      "_________________________________________________________________\n",
      " Layer (type)                Output Shape              Param #   \n",
      "=================================================================\n",
      " layer_1 (Dense)             (None, 128)               16512     \n",
      "                                                                 \n",
      " dropout_19 (Dropout)        (None, 128)               0         \n",
      "                                                                 \n",
      " layer_2 (Dense)             (None, 96)                12384     \n",
      "                                                                 \n",
      " layer_3 (Dense)             (None, 64)                6208      \n",
      "                                                                 \n",
      " layer_4 (Dense)             (None, 32)                2080      \n",
      "                                                                 \n",
      " output (Dense)              (None, 6)                 198       \n",
      "                                                                 \n",
      "=================================================================\n",
      "Total params: 37,382\n",
      "Trainable params: 37,382\n",
      "Non-trainable params: 0\n",
      "_________________________________________________________________\n"
     ]
    }
   ],
   "source": [
    "model_dp1 = models.Sequential()\n",
    "model_dp1.add(keras.layers.Dense(128, activation='relu',kernel_regularizer='l2',name ='layer_1',input_shape=(128,)))\n",
    "model_dp1.add(Dropout(0.2))\n",
    "model_dp1.add(keras.layers.Dense(96, activation='relu',kernel_regularizer='l2', name = 'layer_2'))\n",
    "model_dp1.add(keras.layers.Dense(64, activation='relu',kernel_regularizer='l2', name = 'layer_3'))\n",
    "model_dp1.add(keras.layers.Dense(32, activation='relu',kernel_regularizer='l2', name = 'layer_4'))\n",
    "model_dp1.add(keras.layers.Dense(6, activation='softmax',kernel_regularizer='l2',name='output'))\n",
    "model_dp1.summary()"
   ]
  },
  {
   "cell_type": "code",
   "execution_count": null,
   "metadata": {
    "colab": {
     "base_uri": "https://localhost:8080/"
    },
    "collapsed": true,
    "id": "aAaSGU15a5ll",
    "outputId": "87a71caf-f08e-457e-b1da-d45464bb5e2f"
   },
   "outputs": [
    {
     "name": "stdout",
     "output_type": "stream",
     "text": [
      "Epoch 1/100\n",
      "513/513 [==============================] - 3s 4ms/step - loss: 1.8557 - accuracy: 0.4853 - val_loss: 1.2780 - val_accuracy: 0.5182\n",
      "Epoch 2/100\n",
      "513/513 [==============================] - 2s 3ms/step - loss: 1.2744 - accuracy: 0.5168 - val_loss: 1.2529 - val_accuracy: 0.5038\n",
      "Epoch 3/100\n",
      "513/513 [==============================] - 2s 3ms/step - loss: 1.2447 - accuracy: 0.5157 - val_loss: 1.2088 - val_accuracy: 0.5206\n",
      "Epoch 4/100\n",
      "513/513 [==============================] - 2s 3ms/step - loss: 1.2307 - accuracy: 0.5180 - val_loss: 1.2331 - val_accuracy: 0.4994\n",
      "Epoch 5/100\n",
      "513/513 [==============================] - 2s 3ms/step - loss: 1.2216 - accuracy: 0.5145 - val_loss: 1.1967 - val_accuracy: 0.5226\n",
      "Epoch 6/100\n",
      "513/513 [==============================] - 1s 3ms/step - loss: 1.2150 - accuracy: 0.5199 - val_loss: 1.2222 - val_accuracy: 0.5150\n",
      "Epoch 7/100\n",
      "513/513 [==============================] - 3s 6ms/step - loss: 1.2073 - accuracy: 0.5188 - val_loss: 1.1844 - val_accuracy: 0.5313\n",
      "Epoch 8/100\n",
      "513/513 [==============================] - 2s 3ms/step - loss: 1.2053 - accuracy: 0.5210 - val_loss: 1.1917 - val_accuracy: 0.5174\n",
      "Epoch 9/100\n",
      "513/513 [==============================] - 2s 3ms/step - loss: 1.2020 - accuracy: 0.5240 - val_loss: 1.1729 - val_accuracy: 0.5135\n",
      "Epoch 10/100\n",
      "513/513 [==============================] - 2s 3ms/step - loss: 1.1967 - accuracy: 0.5225 - val_loss: 1.1722 - val_accuracy: 0.5255\n",
      "Epoch 11/100\n",
      "513/513 [==============================] - 2s 3ms/step - loss: 1.1963 - accuracy: 0.5228 - val_loss: 1.1888 - val_accuracy: 0.5223\n",
      "Epoch 12/100\n",
      "513/513 [==============================] - 2s 3ms/step - loss: 1.1944 - accuracy: 0.5224 - val_loss: 1.1665 - val_accuracy: 0.5199\n",
      "Epoch 13/100\n",
      "513/513 [==============================] - 2s 3ms/step - loss: 1.1930 - accuracy: 0.5232 - val_loss: 1.1662 - val_accuracy: 0.5248\n",
      "Epoch 14/100\n",
      "513/513 [==============================] - 2s 3ms/step - loss: 1.1918 - accuracy: 0.5224 - val_loss: 1.1656 - val_accuracy: 0.5223\n",
      "Epoch 15/100\n",
      "513/513 [==============================] - 2s 3ms/step - loss: 1.1932 - accuracy: 0.5239 - val_loss: 1.1618 - val_accuracy: 0.5226\n",
      "Epoch 16/100\n",
      "513/513 [==============================] - 2s 3ms/step - loss: 1.1906 - accuracy: 0.5243 - val_loss: 1.1645 - val_accuracy: 0.5267\n",
      "Epoch 17/100\n",
      "513/513 [==============================] - 2s 3ms/step - loss: 1.1896 - accuracy: 0.5246 - val_loss: 1.1630 - val_accuracy: 0.5221\n",
      "Epoch 18/100\n",
      "513/513 [==============================] - 2s 3ms/step - loss: 1.1908 - accuracy: 0.5231 - val_loss: 1.1622 - val_accuracy: 0.5201\n",
      "Epoch 19/100\n",
      "513/513 [==============================] - 2s 3ms/step - loss: 1.1885 - accuracy: 0.5191 - val_loss: 1.1646 - val_accuracy: 0.5223\n",
      "Epoch 20/100\n",
      "513/513 [==============================] - 2s 3ms/step - loss: 1.1888 - accuracy: 0.5215 - val_loss: 1.1641 - val_accuracy: 0.5228\n",
      "Epoch 21/100\n",
      "513/513 [==============================] - 2s 3ms/step - loss: 1.1920 - accuracy: 0.5214 - val_loss: 1.2022 - val_accuracy: 0.5050\n",
      "Epoch 22/100\n",
      "513/513 [==============================] - 2s 3ms/step - loss: 1.1921 - accuracy: 0.5196 - val_loss: 1.1732 - val_accuracy: 0.5243\n",
      "Epoch 23/100\n",
      "513/513 [==============================] - 2s 3ms/step - loss: 1.1859 - accuracy: 0.5239 - val_loss: 1.1611 - val_accuracy: 0.5238\n",
      "Epoch 24/100\n",
      "513/513 [==============================] - 2s 3ms/step - loss: 1.1878 - accuracy: 0.5218 - val_loss: 1.1601 - val_accuracy: 0.5265\n",
      "Epoch 25/100\n",
      "513/513 [==============================] - 2s 3ms/step - loss: 1.1891 - accuracy: 0.5221 - val_loss: 1.1708 - val_accuracy: 0.5201\n",
      "Epoch 26/100\n",
      "513/513 [==============================] - 2s 3ms/step - loss: 1.1889 - accuracy: 0.5227 - val_loss: 1.1607 - val_accuracy: 0.5296\n",
      "Epoch 27/100\n",
      "513/513 [==============================] - 2s 3ms/step - loss: 1.1863 - accuracy: 0.5236 - val_loss: 1.1593 - val_accuracy: 0.5267\n",
      "Epoch 28/100\n",
      "513/513 [==============================] - 2s 3ms/step - loss: 1.1886 - accuracy: 0.5250 - val_loss: 1.1600 - val_accuracy: 0.5238\n",
      "Epoch 29/100\n",
      "513/513 [==============================] - 2s 3ms/step - loss: 1.1872 - accuracy: 0.5206 - val_loss: 1.1742 - val_accuracy: 0.5091\n",
      "Epoch 30/100\n",
      "513/513 [==============================] - 2s 3ms/step - loss: 1.1863 - accuracy: 0.5266 - val_loss: 1.1789 - val_accuracy: 0.5140\n",
      "Epoch 31/100\n",
      "513/513 [==============================] - 2s 3ms/step - loss: 1.1865 - accuracy: 0.5212 - val_loss: 1.1631 - val_accuracy: 0.5296\n",
      "Epoch 32/100\n",
      "513/513 [==============================] - 2s 3ms/step - loss: 1.1878 - accuracy: 0.5234 - val_loss: 1.1638 - val_accuracy: 0.5204\n",
      "Epoch 33/100\n",
      "513/513 [==============================] - 2s 3ms/step - loss: 1.1885 - accuracy: 0.5225 - val_loss: 1.1586 - val_accuracy: 0.5265\n",
      "Epoch 34/100\n",
      "513/513 [==============================] - 2s 3ms/step - loss: 1.1884 - accuracy: 0.5231 - val_loss: 1.1577 - val_accuracy: 0.5274\n",
      "Epoch 35/100\n",
      "513/513 [==============================] - 2s 3ms/step - loss: 1.1861 - accuracy: 0.5226 - val_loss: 1.1630 - val_accuracy: 0.5223\n",
      "Epoch 36/100\n",
      "513/513 [==============================] - 2s 3ms/step - loss: 1.1858 - accuracy: 0.5220 - val_loss: 1.1611 - val_accuracy: 0.5226\n",
      "Epoch 37/100\n",
      "513/513 [==============================] - 2s 3ms/step - loss: 1.1831 - accuracy: 0.5230 - val_loss: 1.1645 - val_accuracy: 0.5196\n",
      "Epoch 38/100\n",
      "513/513 [==============================] - 2s 3ms/step - loss: 1.1906 - accuracy: 0.5214 - val_loss: 1.1708 - val_accuracy: 0.5313\n",
      "Epoch 39/100\n",
      "513/513 [==============================] - 2s 3ms/step - loss: 1.1865 - accuracy: 0.5213 - val_loss: 1.1576 - val_accuracy: 0.5233\n",
      "Epoch 40/100\n",
      "513/513 [==============================] - 2s 3ms/step - loss: 1.1885 - accuracy: 0.5199 - val_loss: 1.1724 - val_accuracy: 0.5145\n",
      "Epoch 41/100\n",
      "513/513 [==============================] - 2s 3ms/step - loss: 1.1861 - accuracy: 0.5228 - val_loss: 1.1844 - val_accuracy: 0.5248\n",
      "Epoch 42/100\n",
      "513/513 [==============================] - 2s 3ms/step - loss: 1.1864 - accuracy: 0.5207 - val_loss: 1.2054 - val_accuracy: 0.4982\n",
      "Epoch 43/100\n",
      "513/513 [==============================] - 2s 3ms/step - loss: 1.1875 - accuracy: 0.5197 - val_loss: 1.1757 - val_accuracy: 0.5279\n",
      "Epoch 44/100\n",
      "513/513 [==============================] - 2s 3ms/step - loss: 1.1866 - accuracy: 0.5198 - val_loss: 1.1620 - val_accuracy: 0.5304\n",
      "Epoch 45/100\n",
      "513/513 [==============================] - 2s 3ms/step - loss: 1.1858 - accuracy: 0.5218 - val_loss: 1.1681 - val_accuracy: 0.5250\n",
      "Epoch 46/100\n",
      "513/513 [==============================] - 2s 3ms/step - loss: 1.1874 - accuracy: 0.5246 - val_loss: 1.1620 - val_accuracy: 0.5245\n",
      "Epoch 47/100\n",
      "513/513 [==============================] - 2s 3ms/step - loss: 1.1859 - accuracy: 0.5240 - val_loss: 1.1913 - val_accuracy: 0.5189\n",
      "Epoch 48/100\n",
      "513/513 [==============================] - 4s 8ms/step - loss: 1.1849 - accuracy: 0.5227 - val_loss: 1.1587 - val_accuracy: 0.5165\n",
      "Epoch 49/100\n",
      "513/513 [==============================] - 2s 3ms/step - loss: 1.1865 - accuracy: 0.5248 - val_loss: 1.1588 - val_accuracy: 0.5187\n",
      "Epoch 50/100\n",
      "513/513 [==============================] - 2s 3ms/step - loss: 1.1866 - accuracy: 0.5233 - val_loss: 1.1635 - val_accuracy: 0.5179\n",
      "Epoch 51/100\n",
      "513/513 [==============================] - 2s 3ms/step - loss: 1.1839 - accuracy: 0.5235 - val_loss: 1.2081 - val_accuracy: 0.5001\n",
      "Epoch 52/100\n",
      "513/513 [==============================] - 3s 5ms/step - loss: 1.1842 - accuracy: 0.5235 - val_loss: 1.1655 - val_accuracy: 0.5248\n",
      "Epoch 53/100\n",
      "513/513 [==============================] - 3s 6ms/step - loss: 1.1859 - accuracy: 0.5187 - val_loss: 1.1598 - val_accuracy: 0.5267\n",
      "Epoch 54/100\n",
      "513/513 [==============================] - 3s 6ms/step - loss: 1.1881 - accuracy: 0.5193 - val_loss: 1.1689 - val_accuracy: 0.5177\n",
      "Epoch 55/100\n",
      "513/513 [==============================] - 2s 3ms/step - loss: 1.1837 - accuracy: 0.5248 - val_loss: 1.1607 - val_accuracy: 0.5221\n",
      "Epoch 56/100\n",
      "513/513 [==============================] - 2s 3ms/step - loss: 1.1854 - accuracy: 0.5211 - val_loss: 1.1925 - val_accuracy: 0.5287\n",
      "Epoch 57/100\n",
      "513/513 [==============================] - 2s 3ms/step - loss: 1.1878 - accuracy: 0.5235 - val_loss: 1.1812 - val_accuracy: 0.5152\n",
      "Epoch 58/100\n",
      "513/513 [==============================] - 2s 3ms/step - loss: 1.1875 - accuracy: 0.5231 - val_loss: 1.1606 - val_accuracy: 0.5255\n",
      "Epoch 59/100\n",
      "513/513 [==============================] - 2s 3ms/step - loss: 1.1840 - accuracy: 0.5221 - val_loss: 1.1597 - val_accuracy: 0.5299\n",
      "Epoch 60/100\n",
      "513/513 [==============================] - 2s 3ms/step - loss: 1.1825 - accuracy: 0.5263 - val_loss: 1.2281 - val_accuracy: 0.4962\n",
      "Epoch 61/100\n",
      "513/513 [==============================] - 2s 3ms/step - loss: 1.1875 - accuracy: 0.5228 - val_loss: 1.1724 - val_accuracy: 0.5328\n",
      "Epoch 62/100\n",
      "513/513 [==============================] - 2s 3ms/step - loss: 1.1832 - accuracy: 0.5250 - val_loss: 1.1660 - val_accuracy: 0.5253\n",
      "Epoch 63/100\n",
      "513/513 [==============================] - 2s 3ms/step - loss: 1.1861 - accuracy: 0.5203 - val_loss: 1.1574 - val_accuracy: 0.5282\n",
      "Epoch 64/100\n",
      "513/513 [==============================] - 2s 4ms/step - loss: 1.1855 - accuracy: 0.5250 - val_loss: 1.1592 - val_accuracy: 0.5213\n",
      "Epoch 65/100\n",
      "513/513 [==============================] - 2s 3ms/step - loss: 1.1871 - accuracy: 0.5203 - val_loss: 1.1559 - val_accuracy: 0.5270\n",
      "Epoch 66/100\n",
      "513/513 [==============================] - 2s 3ms/step - loss: 1.1861 - accuracy: 0.5262 - val_loss: 1.1685 - val_accuracy: 0.5101\n",
      "Epoch 67/100\n",
      "513/513 [==============================] - 2s 3ms/step - loss: 1.1845 - accuracy: 0.5251 - val_loss: 1.1598 - val_accuracy: 0.5294\n",
      "Epoch 68/100\n",
      "513/513 [==============================] - 2s 4ms/step - loss: 1.1843 - accuracy: 0.5231 - val_loss: 1.1573 - val_accuracy: 0.5265\n",
      "Epoch 69/100\n",
      "513/513 [==============================] - 2s 3ms/step - loss: 1.1838 - accuracy: 0.5239 - val_loss: 1.1654 - val_accuracy: 0.5287\n",
      "Epoch 70/100\n",
      "513/513 [==============================] - 2s 3ms/step - loss: 1.1832 - accuracy: 0.5246 - val_loss: 1.1736 - val_accuracy: 0.5101\n",
      "Epoch 71/100\n",
      "513/513 [==============================] - 2s 3ms/step - loss: 1.1860 - accuracy: 0.5214 - val_loss: 1.1594 - val_accuracy: 0.5274\n",
      "Epoch 72/100\n",
      "513/513 [==============================] - 2s 3ms/step - loss: 1.1851 - accuracy: 0.5239 - val_loss: 1.1562 - val_accuracy: 0.5231\n",
      "Epoch 73/100\n",
      "513/513 [==============================] - 2s 3ms/step - loss: 1.1869 - accuracy: 0.5226 - val_loss: 1.1568 - val_accuracy: 0.5301\n",
      "Epoch 74/100\n",
      "513/513 [==============================] - 2s 3ms/step - loss: 1.1855 - accuracy: 0.5220 - val_loss: 1.1630 - val_accuracy: 0.5304\n",
      "Epoch 75/100\n",
      "513/513 [==============================] - 2s 5ms/step - loss: 1.1832 - accuracy: 0.5242 - val_loss: 1.1591 - val_accuracy: 0.5221\n",
      "Epoch 76/100\n",
      "513/513 [==============================] - 3s 5ms/step - loss: 1.1829 - accuracy: 0.5187 - val_loss: 1.1680 - val_accuracy: 0.5194\n",
      "Epoch 77/100\n",
      "513/513 [==============================] - 3s 6ms/step - loss: 1.1838 - accuracy: 0.5232 - val_loss: 1.1573 - val_accuracy: 0.5262\n",
      "Epoch 78/100\n",
      "513/513 [==============================] - 3s 6ms/step - loss: 1.1850 - accuracy: 0.5229 - val_loss: 1.1783 - val_accuracy: 0.5131\n",
      "Epoch 79/100\n",
      "513/513 [==============================] - 2s 5ms/step - loss: 1.1839 - accuracy: 0.5259 - val_loss: 1.1616 - val_accuracy: 0.5309\n",
      "Epoch 80/100\n",
      "513/513 [==============================] - 4s 8ms/step - loss: 1.1854 - accuracy: 0.5235 - val_loss: 1.1684 - val_accuracy: 0.5306\n",
      "Epoch 81/100\n",
      "513/513 [==============================] - 4s 8ms/step - loss: 1.1856 - accuracy: 0.5210 - val_loss: 1.1622 - val_accuracy: 0.5213\n",
      "Epoch 82/100\n",
      "513/513 [==============================] - 4s 8ms/step - loss: 1.1837 - accuracy: 0.5262 - val_loss: 1.1660 - val_accuracy: 0.5140\n",
      "Epoch 83/100\n",
      "513/513 [==============================] - 3s 6ms/step - loss: 1.1824 - accuracy: 0.5228 - val_loss: 1.1626 - val_accuracy: 0.5233\n",
      "Epoch 84/100\n",
      "513/513 [==============================] - 2s 4ms/step - loss: 1.1842 - accuracy: 0.5267 - val_loss: 1.1581 - val_accuracy: 0.5204\n",
      "Epoch 85/100\n",
      "513/513 [==============================] - 3s 5ms/step - loss: 1.1849 - accuracy: 0.5219 - val_loss: 1.1605 - val_accuracy: 0.5221\n",
      "Epoch 86/100\n",
      "513/513 [==============================] - 3s 6ms/step - loss: 1.1812 - accuracy: 0.5255 - val_loss: 1.1584 - val_accuracy: 0.5255\n",
      "Epoch 87/100\n",
      "513/513 [==============================] - 3s 6ms/step - loss: 1.1871 - accuracy: 0.5242 - val_loss: 1.1655 - val_accuracy: 0.5189\n",
      "Epoch 88/100\n",
      "513/513 [==============================] - 2s 5ms/step - loss: 1.1858 - accuracy: 0.5194 - val_loss: 1.1586 - val_accuracy: 0.5270\n",
      "Epoch 89/100\n",
      "513/513 [==============================] - 2s 4ms/step - loss: 1.1829 - accuracy: 0.5242 - val_loss: 1.1572 - val_accuracy: 0.5243\n",
      "Epoch 90/100\n",
      "513/513 [==============================] - 2s 4ms/step - loss: 1.1851 - accuracy: 0.5245 - val_loss: 1.1565 - val_accuracy: 0.5245\n",
      "Epoch 91/100\n",
      "513/513 [==============================] - 2s 5ms/step - loss: 1.1841 - accuracy: 0.5273 - val_loss: 1.1825 - val_accuracy: 0.5087\n",
      "Epoch 92/100\n",
      "513/513 [==============================] - 2s 4ms/step - loss: 1.1827 - accuracy: 0.5221 - val_loss: 1.1597 - val_accuracy: 0.5233\n",
      "Epoch 93/100\n",
      "513/513 [==============================] - 2s 5ms/step - loss: 1.1823 - accuracy: 0.5254 - val_loss: 1.1560 - val_accuracy: 0.5209\n",
      "Epoch 94/100\n",
      "513/513 [==============================] - 4s 7ms/step - loss: 1.1842 - accuracy: 0.5217 - val_loss: 1.1663 - val_accuracy: 0.5335\n",
      "Epoch 95/100\n",
      "513/513 [==============================] - 3s 5ms/step - loss: 1.1877 - accuracy: 0.5217 - val_loss: 1.1624 - val_accuracy: 0.5255\n",
      "Epoch 96/100\n",
      "513/513 [==============================] - 3s 5ms/step - loss: 1.1845 - accuracy: 0.5250 - val_loss: 1.1644 - val_accuracy: 0.5172\n",
      "Epoch 97/100\n",
      "513/513 [==============================] - 3s 5ms/step - loss: 1.1812 - accuracy: 0.5262 - val_loss: 1.1559 - val_accuracy: 0.5253\n",
      "Epoch 98/100\n",
      "513/513 [==============================] - 2s 4ms/step - loss: 1.1864 - accuracy: 0.5251 - val_loss: 1.1592 - val_accuracy: 0.5206\n",
      "Epoch 99/100\n",
      "513/513 [==============================] - 2s 5ms/step - loss: 1.1843 - accuracy: 0.5250 - val_loss: 1.1542 - val_accuracy: 0.5245\n",
      "Epoch 100/100\n",
      "513/513 [==============================] - 2s 5ms/step - loss: 1.1846 - accuracy: 0.5234 - val_loss: 1.1622 - val_accuracy: 0.5165\n"
     ]
    }
   ],
   "source": [
    "model_dp1.compile(optimizer=Adam(lr=0.001),loss='categorical_crossentropy' ,\n",
    "              metrics=['accuracy'] )\n",
    "NN_model_dp1 = model_dp1.fit(X_train, ytrain, epochs=100, \n",
    "                     validation_data=(X_test,ytest),batch_size=32, \n",
    "                     verbose=1)"
   ]
  },
  {
   "cell_type": "code",
   "execution_count": null,
   "metadata": {
    "colab": {
     "base_uri": "https://localhost:8080/",
     "height": 350
    },
    "id": "T9G0eqtCdFQS",
    "outputId": "a2cdfe2d-d7eb-4135-cd9b-42f6b03da62d"
   },
   "outputs": [
    {
     "data": {
      "image/png": "[encoded data removed]",
      "text/plain": [
       "<Figure size 1080x360 with 2 Axes>"
      ]
     },
     "metadata": {
      "needs_background": "light"
     },
     "output_type": "display_data"
    }
   ],
   "source": [
    "plt.rcParams[\"figure.figsize\"] = (15,5)\n",
    "plt.subplot(1, 2, 1)\n",
    "plt.plot(NN_model_dp1.history['accuracy'], label='train')\n",
    "plt.plot(NN_model_dp1.history['val_accuracy'], label='test')\n",
    "plt.legend(loc=\"lower right\")\n",
    "#plt.ylim(0.51, 0.54)\n",
    "plt.xlabel(\"Epoch\")\n",
    "plt.ylabel(\"Accuracy\")\n",
    "plt.title(\"Accuracy History \")\n",
    "plt.subplot(1, 2, 2)\n",
    "plt.plot(NN_model_dp1.history['loss'], label='train')\n",
    "plt.plot(NN_model_dp1.history['val_loss'], label='test')\n",
    "#plt.ylim(1.14, 1.18)\n",
    "plt.xlabel(\"Epoch\")\n",
    "plt.ylabel(\"Loss\")\n",
    "plt.title(\"Accuracy History \")\n",
    "plt.legend(loc=\"lower right\")\n",
    "plt.show()"
   ]
  },
  {
   "cell_type": "code",
   "execution_count": null,
   "metadata": {
    "colab": {
     "base_uri": "https://localhost:8080/"
    },
    "id": "5L6yXNcoehM0",
    "outputId": "deadc93c-7d72-4297-b3f6-9b1a6fdff9a4"
   },
   "outputs": [
    {
     "name": "stdout",
     "output_type": "stream",
     "text": [
      "Model: \"sequential_33\"\n",
      "_________________________________________________________________\n",
      " Layer (type)                Output Shape              Param #   \n",
      "=================================================================\n",
      " layer_1 (Dense)             (None, 128)               16512     \n",
      "                                                                 \n",
      " layer_2 (Dense)             (None, 96)                12384     \n",
      "                                                                 \n",
      " layer_3 (Dense)             (None, 64)                6208      \n",
      "                                                                 \n",
      " dropout_22 (Dropout)        (None, 64)                0         \n",
      "                                                                 \n",
      " layer_4 (Dense)             (None, 32)                2080      \n",
      "                                                                 \n",
      " output (Dense)              (None, 6)                 198       \n",
      "                                                                 \n",
      "=================================================================\n",
      "Total params: 37,382\n",
      "Trainable params: 37,382\n",
      "Non-trainable params: 0\n",
      "_________________________________________________________________\n"
     ]
    }
   ],
   "source": [
    "model_dp2 = models.Sequential()\n",
    "model_dp2.add(keras.layers.Dense(128, activation='relu',kernel_regularizer='l2',name ='layer_1',input_shape=(128,)))\n",
    "model_dp2.add(keras.layers.Dense(96, activation='relu',kernel_regularizer='l2', name = 'layer_2'))\n",
    "model_dp2.add(keras.layers.Dense(64, activation='relu',kernel_regularizer='l2', name = 'layer_3'))\n",
    "model_dp2.add(Dropout(0.2))\n",
    "model_dp2.add(keras.layers.Dense(32, activation='relu',kernel_regularizer='l2', name = 'layer_4'))\n",
    "model_dp2.add(keras.layers.Dense(6, activation='softmax',kernel_regularizer='l2',name='output'))\n",
    "model_dp2.summary()"
   ]
  },
  {
   "cell_type": "code",
   "execution_count": null,
   "metadata": {
    "colab": {
     "base_uri": "https://localhost:8080/"
    },
    "collapsed": true,
    "id": "r6XxEN4Weyg1",
    "outputId": "721481a1-d27d-467d-8bed-e937b2c90251"
   },
   "outputs": [
    {
     "name": "stdout",
     "output_type": "stream",
     "text": [
      "Epoch 1/100\n",
      "513/513 [==============================] - 4s 7ms/step - loss: 1.8054 - accuracy: 0.4716 - val_loss: 1.2526 - val_accuracy: 0.5065\n",
      "Epoch 2/100\n",
      "513/513 [==============================] - 3s 6ms/step - loss: 1.2547 - accuracy: 0.5126 - val_loss: 1.2098 - val_accuracy: 0.5196\n",
      "Epoch 3/100\n",
      "513/513 [==============================] - 2s 3ms/step - loss: 1.2296 - accuracy: 0.5151 - val_loss: 1.2050 - val_accuracy: 0.5035\n",
      "Epoch 4/100\n",
      "513/513 [==============================] - 2s 3ms/step - loss: 1.2158 - accuracy: 0.5185 - val_loss: 1.1913 - val_accuracy: 0.5113\n",
      "Epoch 5/100\n",
      "513/513 [==============================] - 2s 3ms/step - loss: 1.2131 - accuracy: 0.5171 - val_loss: 1.1979 - val_accuracy: 0.5045\n",
      "Epoch 6/100\n",
      "513/513 [==============================] - 2s 3ms/step - loss: 1.2084 - accuracy: 0.5196 - val_loss: 1.1755 - val_accuracy: 0.5209\n",
      "Epoch 7/100\n",
      "513/513 [==============================] - 1s 3ms/step - loss: 1.2013 - accuracy: 0.5181 - val_loss: 1.2269 - val_accuracy: 0.4982\n",
      "Epoch 8/100\n",
      "513/513 [==============================] - 2s 3ms/step - loss: 1.1979 - accuracy: 0.5219 - val_loss: 1.2136 - val_accuracy: 0.4994\n",
      "Epoch 9/100\n",
      "513/513 [==============================] - 2s 3ms/step - loss: 1.1968 - accuracy: 0.5196 - val_loss: 1.1674 - val_accuracy: 0.5148\n",
      "Epoch 10/100\n",
      "513/513 [==============================] - 2s 3ms/step - loss: 1.1928 - accuracy: 0.5242 - val_loss: 1.1659 - val_accuracy: 0.5182\n",
      "Epoch 11/100\n",
      "513/513 [==============================] - 2s 3ms/step - loss: 1.1925 - accuracy: 0.5197 - val_loss: 1.1687 - val_accuracy: 0.5277\n",
      "Epoch 12/100\n",
      "513/513 [==============================] - 1s 3ms/step - loss: 1.1922 - accuracy: 0.5178 - val_loss: 1.1678 - val_accuracy: 0.5248\n",
      "Epoch 13/100\n",
      "513/513 [==============================] - 2s 3ms/step - loss: 1.1909 - accuracy: 0.5171 - val_loss: 1.1738 - val_accuracy: 0.5272\n",
      "Epoch 14/100\n",
      "513/513 [==============================] - 2s 3ms/step - loss: 1.1908 - accuracy: 0.5240 - val_loss: 1.1624 - val_accuracy: 0.5221\n",
      "Epoch 15/100\n",
      "513/513 [==============================] - 2s 3ms/step - loss: 1.1859 - accuracy: 0.5190 - val_loss: 1.1640 - val_accuracy: 0.5245\n",
      "Epoch 16/100\n",
      "513/513 [==============================] - 2s 3ms/step - loss: 1.1886 - accuracy: 0.5226 - val_loss: 1.1681 - val_accuracy: 0.5238\n",
      "Epoch 17/100\n",
      "513/513 [==============================] - 2s 3ms/step - loss: 1.1872 - accuracy: 0.5217 - val_loss: 1.1711 - val_accuracy: 0.5277\n",
      "Epoch 18/100\n",
      "513/513 [==============================] - 2s 3ms/step - loss: 1.1871 - accuracy: 0.5223 - val_loss: 1.1590 - val_accuracy: 0.5226\n",
      "Epoch 19/100\n",
      "513/513 [==============================] - 2s 3ms/step - loss: 1.1862 - accuracy: 0.5212 - val_loss: 1.1842 - val_accuracy: 0.5089\n",
      "Epoch 20/100\n",
      "513/513 [==============================] - 2s 3ms/step - loss: 1.1850 - accuracy: 0.5208 - val_loss: 1.1822 - val_accuracy: 0.5245\n",
      "Epoch 21/100\n",
      "513/513 [==============================] - 2s 3ms/step - loss: 1.1840 - accuracy: 0.5228 - val_loss: 1.1591 - val_accuracy: 0.5223\n",
      "Epoch 22/100\n",
      "513/513 [==============================] - 2s 3ms/step - loss: 1.1845 - accuracy: 0.5197 - val_loss: 1.1562 - val_accuracy: 0.5235\n",
      "Epoch 23/100\n",
      "513/513 [==============================] - 1s 3ms/step - loss: 1.1832 - accuracy: 0.5218 - val_loss: 1.1696 - val_accuracy: 0.5155\n",
      "Epoch 24/100\n",
      "513/513 [==============================] - 2s 3ms/step - loss: 1.1861 - accuracy: 0.5232 - val_loss: 1.1589 - val_accuracy: 0.5204\n",
      "Epoch 25/100\n",
      "513/513 [==============================] - 1s 3ms/step - loss: 1.1834 - accuracy: 0.5245 - val_loss: 1.1608 - val_accuracy: 0.5255\n",
      "Epoch 26/100\n",
      "513/513 [==============================] - 2s 3ms/step - loss: 1.1851 - accuracy: 0.5213 - val_loss: 1.1582 - val_accuracy: 0.5209\n",
      "Epoch 27/100\n",
      "513/513 [==============================] - 2s 3ms/step - loss: 1.1825 - accuracy: 0.5214 - val_loss: 1.1580 - val_accuracy: 0.5204\n",
      "Epoch 28/100\n",
      "513/513 [==============================] - 1s 3ms/step - loss: 1.1824 - accuracy: 0.5243 - val_loss: 1.1596 - val_accuracy: 0.5284\n",
      "Epoch 29/100\n",
      "513/513 [==============================] - 2s 3ms/step - loss: 1.1819 - accuracy: 0.5235 - val_loss: 1.1632 - val_accuracy: 0.5179\n",
      "Epoch 30/100\n",
      "513/513 [==============================] - 2s 3ms/step - loss: 1.1824 - accuracy: 0.5232 - val_loss: 1.1575 - val_accuracy: 0.5216\n",
      "Epoch 31/100\n",
      "513/513 [==============================] - 2s 3ms/step - loss: 1.1804 - accuracy: 0.5243 - val_loss: 1.1618 - val_accuracy: 0.5152\n",
      "Epoch 32/100\n",
      "513/513 [==============================] - 1s 3ms/step - loss: 1.1804 - accuracy: 0.5234 - val_loss: 1.1576 - val_accuracy: 0.5255\n",
      "Epoch 33/100\n",
      "513/513 [==============================] - 2s 3ms/step - loss: 1.1832 - accuracy: 0.5203 - val_loss: 1.1588 - val_accuracy: 0.5192\n",
      "Epoch 34/100\n",
      "513/513 [==============================] - 2s 3ms/step - loss: 1.1806 - accuracy: 0.5224 - val_loss: 1.1591 - val_accuracy: 0.5279\n",
      "Epoch 35/100\n",
      "513/513 [==============================] - 2s 3ms/step - loss: 1.1819 - accuracy: 0.5229 - val_loss: 1.1560 - val_accuracy: 0.5194\n",
      "Epoch 36/100\n",
      "513/513 [==============================] - 1s 3ms/step - loss: 1.1797 - accuracy: 0.5234 - val_loss: 1.1553 - val_accuracy: 0.5204\n",
      "Epoch 37/100\n",
      "513/513 [==============================] - 2s 3ms/step - loss: 1.1806 - accuracy: 0.5240 - val_loss: 1.1553 - val_accuracy: 0.5245\n",
      "Epoch 38/100\n",
      "513/513 [==============================] - 2s 3ms/step - loss: 1.1823 - accuracy: 0.5237 - val_loss: 1.1624 - val_accuracy: 0.5284\n",
      "Epoch 39/100\n",
      "513/513 [==============================] - 2s 3ms/step - loss: 1.1835 - accuracy: 0.5209 - val_loss: 1.1557 - val_accuracy: 0.5223\n",
      "Epoch 40/100\n",
      "513/513 [==============================] - 2s 3ms/step - loss: 1.1792 - accuracy: 0.5248 - val_loss: 1.1654 - val_accuracy: 0.5155\n",
      "Epoch 41/100\n",
      "513/513 [==============================] - 2s 3ms/step - loss: 1.1817 - accuracy: 0.5245 - val_loss: 1.1584 - val_accuracy: 0.5206\n",
      "Epoch 42/100\n",
      "513/513 [==============================] - 2s 3ms/step - loss: 1.1789 - accuracy: 0.5249 - val_loss: 1.1602 - val_accuracy: 0.5238\n",
      "Epoch 43/100\n",
      "513/513 [==============================] - 2s 3ms/step - loss: 1.1806 - accuracy: 0.5239 - val_loss: 1.1545 - val_accuracy: 0.5211\n",
      "Epoch 44/100\n",
      "513/513 [==============================] - 2s 3ms/step - loss: 1.1809 - accuracy: 0.5245 - val_loss: 1.1539 - val_accuracy: 0.5216\n",
      "Epoch 45/100\n",
      "513/513 [==============================] - 2s 3ms/step - loss: 1.1804 - accuracy: 0.5253 - val_loss: 1.1544 - val_accuracy: 0.5245\n",
      "Epoch 46/100\n",
      "513/513 [==============================] - 2s 3ms/step - loss: 1.1799 - accuracy: 0.5272 - val_loss: 1.1671 - val_accuracy: 0.5243\n",
      "Epoch 47/100\n",
      "513/513 [==============================] - 2s 3ms/step - loss: 1.1813 - accuracy: 0.5229 - val_loss: 1.1613 - val_accuracy: 0.5174\n",
      "Epoch 48/100\n",
      "513/513 [==============================] - 2s 3ms/step - loss: 1.1785 - accuracy: 0.5258 - val_loss: 1.1546 - val_accuracy: 0.5255\n",
      "Epoch 49/100\n",
      "513/513 [==============================] - 2s 3ms/step - loss: 1.1789 - accuracy: 0.5252 - val_loss: 1.1628 - val_accuracy: 0.5277\n",
      "Epoch 50/100\n",
      "513/513 [==============================] - 2s 3ms/step - loss: 1.1788 - accuracy: 0.5252 - val_loss: 1.1552 - val_accuracy: 0.5296\n",
      "Epoch 51/100\n",
      "513/513 [==============================] - 2s 4ms/step - loss: 1.1808 - accuracy: 0.5246 - val_loss: 1.1539 - val_accuracy: 0.5218\n",
      "Epoch 52/100\n",
      "513/513 [==============================] - 2s 5ms/step - loss: 1.1816 - accuracy: 0.5223 - val_loss: 1.1568 - val_accuracy: 0.5218\n",
      "Epoch 53/100\n",
      "513/513 [==============================] - 3s 5ms/step - loss: 1.1793 - accuracy: 0.5241 - val_loss: 1.1675 - val_accuracy: 0.5194\n",
      "Epoch 54/100\n",
      "513/513 [==============================] - 3s 6ms/step - loss: 1.1805 - accuracy: 0.5260 - val_loss: 1.1572 - val_accuracy: 0.5253\n",
      "Epoch 55/100\n",
      "513/513 [==============================] - 2s 4ms/step - loss: 1.1786 - accuracy: 0.5253 - val_loss: 1.1524 - val_accuracy: 0.5228\n",
      "Epoch 56/100\n",
      "513/513 [==============================] - 2s 3ms/step - loss: 1.1793 - accuracy: 0.5231 - val_loss: 1.1544 - val_accuracy: 0.5272\n",
      "Epoch 57/100\n",
      "513/513 [==============================] - 2s 3ms/step - loss: 1.1803 - accuracy: 0.5261 - val_loss: 1.1640 - val_accuracy: 0.5152\n",
      "Epoch 58/100\n",
      "513/513 [==============================] - 2s 4ms/step - loss: 1.1777 - accuracy: 0.5278 - val_loss: 1.1644 - val_accuracy: 0.5162\n",
      "Epoch 59/100\n",
      "513/513 [==============================] - 2s 4ms/step - loss: 1.1796 - accuracy: 0.5237 - val_loss: 1.1575 - val_accuracy: 0.5189\n",
      "Epoch 60/100\n",
      "513/513 [==============================] - 2s 5ms/step - loss: 1.1791 - accuracy: 0.5245 - val_loss: 1.1749 - val_accuracy: 0.5143\n",
      "Epoch 61/100\n",
      "513/513 [==============================] - 3s 5ms/step - loss: 1.1777 - accuracy: 0.5260 - val_loss: 1.1651 - val_accuracy: 0.5313\n",
      "Epoch 62/100\n",
      "513/513 [==============================] - 3s 5ms/step - loss: 1.1804 - accuracy: 0.5281 - val_loss: 1.1556 - val_accuracy: 0.5196\n",
      "Epoch 63/100\n",
      "513/513 [==============================] - 2s 5ms/step - loss: 1.1808 - accuracy: 0.5250 - val_loss: 1.1595 - val_accuracy: 0.5226\n",
      "Epoch 64/100\n",
      "513/513 [==============================] - 2s 3ms/step - loss: 1.1803 - accuracy: 0.5236 - val_loss: 1.1548 - val_accuracy: 0.5270\n",
      "Epoch 65/100\n",
      "513/513 [==============================] - 2s 3ms/step - loss: 1.1782 - accuracy: 0.5239 - val_loss: 1.1555 - val_accuracy: 0.5218\n",
      "Epoch 66/100\n",
      "513/513 [==============================] - 2s 4ms/step - loss: 1.1773 - accuracy: 0.5251 - val_loss: 1.1539 - val_accuracy: 0.5250\n",
      "Epoch 67/100\n",
      "513/513 [==============================] - 4s 8ms/step - loss: 1.1798 - accuracy: 0.5218 - val_loss: 1.1608 - val_accuracy: 0.5196\n",
      "Epoch 68/100\n",
      "513/513 [==============================] - 3s 5ms/step - loss: 1.1803 - accuracy: 0.5243 - val_loss: 1.1536 - val_accuracy: 0.5235\n",
      "Epoch 69/100\n",
      "513/513 [==============================] - 3s 5ms/step - loss: 1.1774 - accuracy: 0.5234 - val_loss: 1.1521 - val_accuracy: 0.5265\n",
      "Epoch 70/100\n",
      "513/513 [==============================] - 3s 6ms/step - loss: 1.1781 - accuracy: 0.5249 - val_loss: 1.1562 - val_accuracy: 0.5213\n",
      "Epoch 71/100\n",
      "513/513 [==============================] - 2s 4ms/step - loss: 1.1783 - accuracy: 0.5245 - val_loss: 1.1551 - val_accuracy: 0.5223\n",
      "Epoch 72/100\n",
      "513/513 [==============================] - 2s 4ms/step - loss: 1.1800 - accuracy: 0.5248 - val_loss: 1.1647 - val_accuracy: 0.5192\n",
      "Epoch 73/100\n",
      "513/513 [==============================] - 3s 5ms/step - loss: 1.1777 - accuracy: 0.5261 - val_loss: 1.1557 - val_accuracy: 0.5240\n",
      "Epoch 74/100\n",
      "513/513 [==============================] - 3s 5ms/step - loss: 1.1779 - accuracy: 0.5242 - val_loss: 1.1543 - val_accuracy: 0.5206\n",
      "Epoch 75/100\n",
      "513/513 [==============================] - 2s 4ms/step - loss: 1.1782 - accuracy: 0.5260 - val_loss: 1.1536 - val_accuracy: 0.5228\n",
      "Epoch 76/100\n",
      "513/513 [==============================] - 2s 3ms/step - loss: 1.1765 - accuracy: 0.5270 - val_loss: 1.1577 - val_accuracy: 0.5284\n",
      "Epoch 77/100\n",
      "513/513 [==============================] - 2s 3ms/step - loss: 1.1783 - accuracy: 0.5262 - val_loss: 1.1508 - val_accuracy: 0.5284\n",
      "Epoch 78/100\n",
      "513/513 [==============================] - 2s 3ms/step - loss: 1.1780 - accuracy: 0.5239 - val_loss: 1.1515 - val_accuracy: 0.5233\n",
      "Epoch 79/100\n",
      "513/513 [==============================] - 2s 3ms/step - loss: 1.1779 - accuracy: 0.5254 - val_loss: 1.1616 - val_accuracy: 0.5174\n",
      "Epoch 80/100\n",
      "513/513 [==============================] - 2s 3ms/step - loss: 1.1772 - accuracy: 0.5272 - val_loss: 1.1713 - val_accuracy: 0.5231\n",
      "Epoch 81/100\n",
      "513/513 [==============================] - 2s 3ms/step - loss: 1.1779 - accuracy: 0.5259 - val_loss: 1.1530 - val_accuracy: 0.5260\n",
      "Epoch 82/100\n",
      "513/513 [==============================] - 2s 3ms/step - loss: 1.1766 - accuracy: 0.5270 - val_loss: 1.1513 - val_accuracy: 0.5253\n",
      "Epoch 83/100\n",
      "513/513 [==============================] - 2s 3ms/step - loss: 1.1777 - accuracy: 0.5265 - val_loss: 1.1661 - val_accuracy: 0.5187\n",
      "Epoch 84/100\n",
      "513/513 [==============================] - 2s 3ms/step - loss: 1.1785 - accuracy: 0.5243 - val_loss: 1.1530 - val_accuracy: 0.5294\n",
      "Epoch 85/100\n",
      "513/513 [==============================] - 2s 3ms/step - loss: 1.1787 - accuracy: 0.5268 - val_loss: 1.1542 - val_accuracy: 0.5204\n",
      "Epoch 86/100\n",
      "513/513 [==============================] - 2s 3ms/step - loss: 1.1767 - accuracy: 0.5275 - val_loss: 1.1543 - val_accuracy: 0.5299\n",
      "Epoch 87/100\n",
      "513/513 [==============================] - 2s 3ms/step - loss: 1.1761 - accuracy: 0.5286 - val_loss: 1.1530 - val_accuracy: 0.5272\n",
      "Epoch 88/100\n",
      "513/513 [==============================] - 2s 3ms/step - loss: 1.1771 - accuracy: 0.5237 - val_loss: 1.1539 - val_accuracy: 0.5248\n",
      "Epoch 89/100\n",
      "513/513 [==============================] - 2s 3ms/step - loss: 1.1773 - accuracy: 0.5237 - val_loss: 1.1610 - val_accuracy: 0.5204\n",
      "Epoch 90/100\n",
      "513/513 [==============================] - 2s 3ms/step - loss: 1.1794 - accuracy: 0.5261 - val_loss: 1.1594 - val_accuracy: 0.5228\n",
      "Epoch 91/100\n",
      "513/513 [==============================] - 2s 3ms/step - loss: 1.1761 - accuracy: 0.5289 - val_loss: 1.1567 - val_accuracy: 0.5233\n",
      "Epoch 92/100\n",
      "513/513 [==============================] - 1s 3ms/step - loss: 1.1763 - accuracy: 0.5251 - val_loss: 1.1624 - val_accuracy: 0.5165\n",
      "Epoch 93/100\n",
      "513/513 [==============================] - 2s 3ms/step - loss: 1.1761 - accuracy: 0.5276 - val_loss: 1.1553 - val_accuracy: 0.5267\n",
      "Epoch 94/100\n",
      "513/513 [==============================] - 2s 3ms/step - loss: 1.1772 - accuracy: 0.5279 - val_loss: 1.1547 - val_accuracy: 0.5250\n",
      "Epoch 95/100\n",
      "513/513 [==============================] - 2s 3ms/step - loss: 1.1790 - accuracy: 0.5253 - val_loss: 1.1548 - val_accuracy: 0.5311\n",
      "Epoch 96/100\n",
      "513/513 [==============================] - 2s 3ms/step - loss: 1.1772 - accuracy: 0.5260 - val_loss: 1.1553 - val_accuracy: 0.5262\n",
      "Epoch 97/100\n",
      "513/513 [==============================] - 2s 3ms/step - loss: 1.1766 - accuracy: 0.5290 - val_loss: 1.1583 - val_accuracy: 0.5294\n",
      "Epoch 98/100\n",
      "513/513 [==============================] - 2s 4ms/step - loss: 1.1780 - accuracy: 0.5274 - val_loss: 1.1533 - val_accuracy: 0.5192\n",
      "Epoch 99/100\n",
      "513/513 [==============================] - 3s 5ms/step - loss: 1.1773 - accuracy: 0.5254 - val_loss: 1.1598 - val_accuracy: 0.5292\n",
      "Epoch 100/100\n",
      "513/513 [==============================] - 3s 5ms/step - loss: 1.1762 - accuracy: 0.5235 - val_loss: 1.1534 - val_accuracy: 0.5323\n"
     ]
    }
   ],
   "source": [
    "model_dp2.compile(optimizer=Adam(lr=0.001),loss='categorical_crossentropy' ,\n",
    "              metrics=['accuracy'] )\n",
    "NN_model_dp2 = model_dp2.fit(X_train, ytrain, epochs=100, \n",
    "                     validation_data=(X_test,ytest),batch_size=32, \n",
    "                     verbose=1)"
   ]
  },
  {
   "cell_type": "code",
   "execution_count": null,
   "metadata": {
    "colab": {
     "base_uri": "https://localhost:8080/",
     "height": 350
    },
    "id": "ZqlfJnpBeyT3",
    "outputId": "5e1daf07-61e9-4347-b8c0-61386e763522"
   },
   "outputs": [
    {
     "data": {
      "image/png": "[encoded data removed]",
      "text/plain": [
       "<Figure size 1080x360 with 2 Axes>"
      ]
     },
     "metadata": {
      "needs_background": "light"
     },
     "output_type": "display_data"
    }
   ],
   "source": [
    "plt.rcParams[\"figure.figsize\"] = (15,5)\n",
    "plt.subplot(1, 2, 1)\n",
    "plt.plot(NN_model_dp2.history['accuracy'], label='train')\n",
    "plt.plot(NN_model_dp2.history['val_accuracy'], label='test')\n",
    "plt.legend(loc=\"lower right\")\n",
    "#plt.ylim(0.51, 0.54)\n",
    "plt.xlabel(\"Epoch\")\n",
    "plt.ylabel(\"Accuracy\")\n",
    "plt.title(\"Accuracy History \")\n",
    "plt.subplot(1, 2, 2)\n",
    "plt.plot(NN_model_dp2.history['loss'], label='train')\n",
    "plt.plot(NN_model_dp2.history['val_loss'], label='test')\n",
    "#plt.ylim(1.14, 1.18)\n",
    "plt.xlabel(\"Epoch\")\n",
    "plt.ylabel(\"Loss\")\n",
    "plt.title(\"Accuracy History \")\n",
    "plt.legend(loc=\"lower right\")\n",
    "plt.show()"
   ]
  },
  {
   "cell_type": "code",
   "execution_count": null,
   "metadata": {
    "colab": {
     "base_uri": "https://localhost:8080/"
    },
    "id": "kTI1DqdRg-oK",
    "outputId": "d6019c17-2201-4720-e710-d97dae9d529f"
   },
   "outputs": [
    {
     "name": "stdout",
     "output_type": "stream",
     "text": [
      "Model: \"sequential_34\"\n",
      "_________________________________________________________________\n",
      " Layer (type)                Output Shape              Param #   \n",
      "=================================================================\n",
      " layer_1 (Dense)             (None, 128)               16512     \n",
      "                                                                 \n",
      " layer_2 (Dense)             (None, 96)                12384     \n",
      "                                                                 \n",
      " layer_3 (Dense)             (None, 64)                6208      \n",
      "                                                                 \n",
      " layer_4 (Dense)             (None, 32)                2080      \n",
      "                                                                 \n",
      " dropout_23 (Dropout)        (None, 32)                0         \n",
      "                                                                 \n",
      " output (Dense)              (None, 6)                 198       \n",
      "                                                                 \n",
      "=================================================================\n",
      "Total params: 37,382\n",
      "Trainable params: 37,382\n",
      "Non-trainable params: 0\n",
      "_________________________________________________________________\n"
     ]
    }
   ],
   "source": [
    "model_dp3 = models.Sequential()\n",
    "model_dp3.add(keras.layers.Dense(128, activation='relu',kernel_regularizer='l2',name ='layer_1',input_shape=(128,)))\n",
    "model_dp3.add(keras.layers.Dense(96, activation='relu',kernel_regularizer='l2', name = 'layer_2'))\n",
    "model_dp3.add(keras.layers.Dense(64, activation='relu',kernel_regularizer='l2', name = 'layer_3'))\n",
    "model_dp3.add(keras.layers.Dense(32, activation='relu',kernel_regularizer='l2', name = 'layer_4'))\n",
    "model_dp3.add(Dropout(0.2))\n",
    "model_dp3.add(keras.layers.Dense(6, activation='softmax',kernel_regularizer='l2',name='output'))\n",
    "model_dp3.summary()"
   ]
  },
  {
   "cell_type": "code",
   "execution_count": null,
   "metadata": {
    "colab": {
     "base_uri": "https://localhost:8080/"
    },
    "collapsed": true,
    "id": "_D4OKDN7g_Qu",
    "outputId": "46a6ff5c-3a93-4510-d3ae-faacd765a325"
   },
   "outputs": [
    {
     "name": "stdout",
     "output_type": "stream",
     "text": [
      "Epoch 1/100\n",
      "513/513 [==============================] - 4s 6ms/step - loss: 1.8422 - accuracy: 0.4704 - val_loss: 1.2799 - val_accuracy: 0.4940\n",
      "Epoch 2/100\n",
      "513/513 [==============================] - 2s 3ms/step - loss: 1.2772 - accuracy: 0.5066 - val_loss: 1.2187 - val_accuracy: 0.5231\n",
      "Epoch 3/100\n",
      "513/513 [==============================] - 2s 3ms/step - loss: 1.2428 - accuracy: 0.5121 - val_loss: 1.2125 - val_accuracy: 0.5077\n",
      "Epoch 4/100\n",
      "513/513 [==============================] - 1s 3ms/step - loss: 1.2314 - accuracy: 0.5138 - val_loss: 1.1988 - val_accuracy: 0.5223\n",
      "Epoch 5/100\n",
      "513/513 [==============================] - 1s 3ms/step - loss: 1.2234 - accuracy: 0.5139 - val_loss: 1.1938 - val_accuracy: 0.5040\n",
      "Epoch 6/100\n",
      "513/513 [==============================] - 2s 3ms/step - loss: 1.2133 - accuracy: 0.5167 - val_loss: 1.1784 - val_accuracy: 0.5216\n",
      "Epoch 7/100\n",
      "513/513 [==============================] - 1s 3ms/step - loss: 1.2109 - accuracy: 0.5157 - val_loss: 1.1765 - val_accuracy: 0.5174\n",
      "Epoch 8/100\n",
      "513/513 [==============================] - 1s 3ms/step - loss: 1.2051 - accuracy: 0.5172 - val_loss: 1.1882 - val_accuracy: 0.5211\n",
      "Epoch 9/100\n",
      "513/513 [==============================] - 2s 3ms/step - loss: 1.2048 - accuracy: 0.5201 - val_loss: 1.1768 - val_accuracy: 0.5133\n",
      "Epoch 10/100\n",
      "513/513 [==============================] - 1s 3ms/step - loss: 1.2004 - accuracy: 0.5148 - val_loss: 1.1716 - val_accuracy: 0.5160\n",
      "Epoch 11/100\n",
      "513/513 [==============================] - 1s 3ms/step - loss: 1.1985 - accuracy: 0.5173 - val_loss: 1.1897 - val_accuracy: 0.5050\n",
      "Epoch 12/100\n",
      "513/513 [==============================] - 1s 3ms/step - loss: 1.1953 - accuracy: 0.5172 - val_loss: 1.1668 - val_accuracy: 0.5204\n",
      "Epoch 13/100\n",
      "513/513 [==============================] - 2s 3ms/step - loss: 1.1963 - accuracy: 0.5185 - val_loss: 1.1759 - val_accuracy: 0.5099\n",
      "Epoch 14/100\n",
      "513/513 [==============================] - 2s 3ms/step - loss: 1.1976 - accuracy: 0.5223 - val_loss: 1.1676 - val_accuracy: 0.5182\n",
      "Epoch 15/100\n",
      "513/513 [==============================] - 2s 5ms/step - loss: 1.1974 - accuracy: 0.5154 - val_loss: 1.1630 - val_accuracy: 0.5179\n",
      "Epoch 16/100\n",
      "513/513 [==============================] - 3s 5ms/step - loss: 1.1952 - accuracy: 0.5182 - val_loss: 1.1615 - val_accuracy: 0.5221\n",
      "Epoch 17/100\n",
      "513/513 [==============================] - 2s 5ms/step - loss: 1.1964 - accuracy: 0.5183 - val_loss: 1.1805 - val_accuracy: 0.5106\n",
      "Epoch 18/100\n",
      "513/513 [==============================] - 2s 3ms/step - loss: 1.1934 - accuracy: 0.5202 - val_loss: 1.1625 - val_accuracy: 0.5216\n",
      "Epoch 19/100\n",
      "513/513 [==============================] - 1s 3ms/step - loss: 1.1927 - accuracy: 0.5206 - val_loss: 1.1743 - val_accuracy: 0.5118\n",
      "Epoch 20/100\n",
      "513/513 [==============================] - 2s 3ms/step - loss: 1.1915 - accuracy: 0.5212 - val_loss: 1.1658 - val_accuracy: 0.5233\n",
      "Epoch 21/100\n",
      "513/513 [==============================] - 3s 6ms/step - loss: 1.1924 - accuracy: 0.5220 - val_loss: 1.1617 - val_accuracy: 0.5167\n",
      "Epoch 22/100\n",
      "513/513 [==============================] - 3s 5ms/step - loss: 1.1918 - accuracy: 0.5192 - val_loss: 1.1611 - val_accuracy: 0.5170\n",
      "Epoch 23/100\n",
      "513/513 [==============================] - 2s 3ms/step - loss: 1.1915 - accuracy: 0.5201 - val_loss: 1.1625 - val_accuracy: 0.5204\n",
      "Epoch 24/100\n",
      "513/513 [==============================] - 2s 3ms/step - loss: 1.1931 - accuracy: 0.5177 - val_loss: 1.1603 - val_accuracy: 0.5204\n",
      "Epoch 25/100\n",
      "513/513 [==============================] - 1s 3ms/step - loss: 1.1931 - accuracy: 0.5185 - val_loss: 1.1609 - val_accuracy: 0.5157\n",
      "Epoch 26/100\n",
      "513/513 [==============================] - 2s 3ms/step - loss: 1.1912 - accuracy: 0.5203 - val_loss: 1.1621 - val_accuracy: 0.5216\n",
      "Epoch 27/100\n",
      "513/513 [==============================] - 2s 3ms/step - loss: 1.1928 - accuracy: 0.5190 - val_loss: 1.1604 - val_accuracy: 0.5235\n",
      "Epoch 28/100\n",
      "513/513 [==============================] - 2s 3ms/step - loss: 1.1890 - accuracy: 0.5210 - val_loss: 1.1653 - val_accuracy: 0.5170\n",
      "Epoch 29/100\n",
      "513/513 [==============================] - 1s 3ms/step - loss: 1.1903 - accuracy: 0.5195 - val_loss: 1.1596 - val_accuracy: 0.5216\n",
      "Epoch 30/100\n",
      "513/513 [==============================] - 2s 3ms/step - loss: 1.1908 - accuracy: 0.5200 - val_loss: 1.1621 - val_accuracy: 0.5209\n",
      "Epoch 31/100\n",
      "513/513 [==============================] - 1s 3ms/step - loss: 1.1896 - accuracy: 0.5193 - val_loss: 1.1598 - val_accuracy: 0.5279\n",
      "Epoch 32/100\n",
      "513/513 [==============================] - 2s 3ms/step - loss: 1.1926 - accuracy: 0.5207 - val_loss: 1.1594 - val_accuracy: 0.5204\n",
      "Epoch 33/100\n",
      "513/513 [==============================] - 1s 3ms/step - loss: 1.1910 - accuracy: 0.5187 - val_loss: 1.1614 - val_accuracy: 0.5287\n",
      "Epoch 34/100\n",
      "513/513 [==============================] - 2s 3ms/step - loss: 1.1903 - accuracy: 0.5228 - val_loss: 1.1607 - val_accuracy: 0.5187\n",
      "Epoch 35/100\n",
      "513/513 [==============================] - 1s 3ms/step - loss: 1.1874 - accuracy: 0.5238 - val_loss: 1.1600 - val_accuracy: 0.5223\n",
      "Epoch 36/100\n",
      "513/513 [==============================] - 2s 3ms/step - loss: 1.1885 - accuracy: 0.5192 - val_loss: 1.1592 - val_accuracy: 0.5211\n",
      "Epoch 37/100\n",
      "513/513 [==============================] - 2s 3ms/step - loss: 1.1865 - accuracy: 0.5242 - val_loss: 1.1575 - val_accuracy: 0.5221\n",
      "Epoch 38/100\n",
      "513/513 [==============================] - 2s 3ms/step - loss: 1.1905 - accuracy: 0.5223 - val_loss: 1.1613 - val_accuracy: 0.5211\n",
      "Epoch 39/100\n",
      "513/513 [==============================] - 2s 3ms/step - loss: 1.1890 - accuracy: 0.5219 - val_loss: 1.1587 - val_accuracy: 0.5206\n",
      "Epoch 40/100\n",
      "513/513 [==============================] - 2s 3ms/step - loss: 1.1906 - accuracy: 0.5200 - val_loss: 1.1644 - val_accuracy: 0.5165\n",
      "Epoch 41/100\n",
      "513/513 [==============================] - 1s 3ms/step - loss: 1.1892 - accuracy: 0.5250 - val_loss: 1.1591 - val_accuracy: 0.5250\n",
      "Epoch 42/100\n",
      "513/513 [==============================] - 2s 3ms/step - loss: 1.1898 - accuracy: 0.5189 - val_loss: 1.1597 - val_accuracy: 0.5211\n",
      "Epoch 43/100\n",
      "513/513 [==============================] - 2s 3ms/step - loss: 1.1896 - accuracy: 0.5187 - val_loss: 1.1623 - val_accuracy: 0.5231\n",
      "Epoch 44/100\n",
      "513/513 [==============================] - 1s 3ms/step - loss: 1.1890 - accuracy: 0.5242 - val_loss: 1.1604 - val_accuracy: 0.5182\n",
      "Epoch 45/100\n",
      "513/513 [==============================] - 2s 3ms/step - loss: 1.1878 - accuracy: 0.5234 - val_loss: 1.1578 - val_accuracy: 0.5196\n",
      "Epoch 46/100\n",
      "513/513 [==============================] - 2s 3ms/step - loss: 1.1901 - accuracy: 0.5218 - val_loss: 1.1586 - val_accuracy: 0.5262\n",
      "Epoch 47/100\n",
      "513/513 [==============================] - 2s 3ms/step - loss: 1.1898 - accuracy: 0.5232 - val_loss: 1.1641 - val_accuracy: 0.5248\n",
      "Epoch 48/100\n",
      "513/513 [==============================] - 2s 3ms/step - loss: 1.1881 - accuracy: 0.5217 - val_loss: 1.1690 - val_accuracy: 0.5277\n",
      "Epoch 49/100\n",
      "513/513 [==============================] - 2s 3ms/step - loss: 1.1887 - accuracy: 0.5193 - val_loss: 1.1589 - val_accuracy: 0.5218\n",
      "Epoch 50/100\n",
      "513/513 [==============================] - 1s 3ms/step - loss: 1.1874 - accuracy: 0.5232 - val_loss: 1.1566 - val_accuracy: 0.5250\n",
      "Epoch 51/100\n",
      "513/513 [==============================] - 2s 3ms/step - loss: 1.1879 - accuracy: 0.5191 - val_loss: 1.1588 - val_accuracy: 0.5221\n",
      "Epoch 52/100\n",
      "513/513 [==============================] - 1s 3ms/step - loss: 1.1878 - accuracy: 0.5204 - val_loss: 1.1595 - val_accuracy: 0.5245\n",
      "Epoch 53/100\n",
      "513/513 [==============================] - 2s 3ms/step - loss: 1.1882 - accuracy: 0.5220 - val_loss: 1.1576 - val_accuracy: 0.5223\n",
      "Epoch 54/100\n",
      "513/513 [==============================] - 2s 3ms/step - loss: 1.1883 - accuracy: 0.5196 - val_loss: 1.1575 - val_accuracy: 0.5228\n",
      "Epoch 55/100\n",
      "513/513 [==============================] - 1s 3ms/step - loss: 1.1870 - accuracy: 0.5200 - val_loss: 1.1558 - val_accuracy: 0.5213\n",
      "Epoch 56/100\n",
      "513/513 [==============================] - 2s 3ms/step - loss: 1.1876 - accuracy: 0.5202 - val_loss: 1.1572 - val_accuracy: 0.5218\n",
      "Epoch 57/100\n",
      "513/513 [==============================] - 2s 3ms/step - loss: 1.1885 - accuracy: 0.5224 - val_loss: 1.1635 - val_accuracy: 0.5270\n",
      "Epoch 58/100\n",
      "513/513 [==============================] - 2s 3ms/step - loss: 1.1896 - accuracy: 0.5225 - val_loss: 1.1604 - val_accuracy: 0.5201\n",
      "Epoch 59/100\n",
      "513/513 [==============================] - 2s 3ms/step - loss: 1.1877 - accuracy: 0.5227 - val_loss: 1.1584 - val_accuracy: 0.5209\n",
      "Epoch 60/100\n",
      "513/513 [==============================] - 2s 3ms/step - loss: 1.1905 - accuracy: 0.5193 - val_loss: 1.1569 - val_accuracy: 0.5221\n",
      "Epoch 61/100\n",
      "513/513 [==============================] - 2s 3ms/step - loss: 1.1872 - accuracy: 0.5230 - val_loss: 1.1568 - val_accuracy: 0.5216\n",
      "Epoch 62/100\n",
      "513/513 [==============================] - 2s 3ms/step - loss: 1.1875 - accuracy: 0.5235 - val_loss: 1.1598 - val_accuracy: 0.5216\n",
      "Epoch 63/100\n",
      "513/513 [==============================] - 2s 3ms/step - loss: 1.1880 - accuracy: 0.5254 - val_loss: 1.1587 - val_accuracy: 0.5243\n",
      "Epoch 64/100\n",
      "513/513 [==============================] - 2s 3ms/step - loss: 1.1888 - accuracy: 0.5211 - val_loss: 1.1630 - val_accuracy: 0.5253\n",
      "Epoch 65/100\n",
      "513/513 [==============================] - 2s 3ms/step - loss: 1.1867 - accuracy: 0.5217 - val_loss: 1.1564 - val_accuracy: 0.5223\n",
      "Epoch 66/100\n",
      "513/513 [==============================] - 2s 3ms/step - loss: 1.1898 - accuracy: 0.5192 - val_loss: 1.1578 - val_accuracy: 0.5231\n",
      "Epoch 67/100\n",
      "513/513 [==============================] - 2s 4ms/step - loss: 1.1883 - accuracy: 0.5207 - val_loss: 1.1604 - val_accuracy: 0.5199\n",
      "Epoch 68/100\n",
      "513/513 [==============================] - 3s 5ms/step - loss: 1.1874 - accuracy: 0.5203 - val_loss: 1.1580 - val_accuracy: 0.5231\n",
      "Epoch 69/100\n",
      "513/513 [==============================] - 3s 5ms/step - loss: 1.1858 - accuracy: 0.5228 - val_loss: 1.1640 - val_accuracy: 0.5233\n",
      "Epoch 70/100\n",
      "513/513 [==============================] - 4s 9ms/step - loss: 1.1885 - accuracy: 0.5214 - val_loss: 1.1577 - val_accuracy: 0.5226\n",
      "Epoch 71/100\n",
      "513/513 [==============================] - 2s 5ms/step - loss: 1.1879 - accuracy: 0.5190 - val_loss: 1.1571 - val_accuracy: 0.5221\n",
      "Epoch 72/100\n",
      "513/513 [==============================] - 3s 6ms/step - loss: 1.1866 - accuracy: 0.5212 - val_loss: 1.1602 - val_accuracy: 0.5245\n",
      "Epoch 73/100\n",
      "513/513 [==============================] - 3s 5ms/step - loss: 1.1858 - accuracy: 0.5225 - val_loss: 1.1558 - val_accuracy: 0.5209\n",
      "Epoch 74/100\n",
      "513/513 [==============================] - 2s 5ms/step - loss: 1.1889 - accuracy: 0.5212 - val_loss: 1.1572 - val_accuracy: 0.5243\n",
      "Epoch 75/100\n",
      "513/513 [==============================] - 2s 4ms/step - loss: 1.1887 - accuracy: 0.5228 - val_loss: 1.1570 - val_accuracy: 0.5211\n",
      "Epoch 76/100\n",
      "513/513 [==============================] - 2s 5ms/step - loss: 1.1879 - accuracy: 0.5207 - val_loss: 1.1567 - val_accuracy: 0.5240\n",
      "Epoch 77/100\n",
      "513/513 [==============================] - 2s 5ms/step - loss: 1.1886 - accuracy: 0.5234 - val_loss: 1.1560 - val_accuracy: 0.5213\n",
      "Epoch 78/100\n",
      "513/513 [==============================] - 2s 3ms/step - loss: 1.1870 - accuracy: 0.5223 - val_loss: 1.1558 - val_accuracy: 0.5209\n",
      "Epoch 79/100\n",
      "513/513 [==============================] - 2s 4ms/step - loss: 1.1900 - accuracy: 0.5151 - val_loss: 1.1629 - val_accuracy: 0.5143\n",
      "Epoch 80/100\n",
      "513/513 [==============================] - 3s 7ms/step - loss: 1.1881 - accuracy: 0.5187 - val_loss: 1.1571 - val_accuracy: 0.5206\n",
      "Epoch 81/100\n",
      "513/513 [==============================] - 4s 7ms/step - loss: 1.1871 - accuracy: 0.5185 - val_loss: 1.1567 - val_accuracy: 0.5211\n",
      "Epoch 82/100\n",
      "513/513 [==============================] - 2s 5ms/step - loss: 1.1876 - accuracy: 0.5201 - val_loss: 1.1572 - val_accuracy: 0.5157\n",
      "Epoch 83/100\n",
      "513/513 [==============================] - 3s 6ms/step - loss: 1.1877 - accuracy: 0.5245 - val_loss: 1.1588 - val_accuracy: 0.5204\n",
      "Epoch 84/100\n",
      "513/513 [==============================] - 4s 8ms/step - loss: 1.1895 - accuracy: 0.5206 - val_loss: 1.1624 - val_accuracy: 0.5253\n",
      "Epoch 85/100\n",
      "513/513 [==============================] - 3s 6ms/step - loss: 1.1868 - accuracy: 0.5209 - val_loss: 1.1589 - val_accuracy: 0.5192\n",
      "Epoch 86/100\n",
      "513/513 [==============================] - 2s 4ms/step - loss: 1.1847 - accuracy: 0.5250 - val_loss: 1.1722 - val_accuracy: 0.5243\n",
      "Epoch 87/100\n",
      "513/513 [==============================] - 2s 3ms/step - loss: 1.1875 - accuracy: 0.5224 - val_loss: 1.1614 - val_accuracy: 0.5177\n",
      "Epoch 88/100\n",
      "513/513 [==============================] - 2s 3ms/step - loss: 1.1870 - accuracy: 0.5182 - val_loss: 1.1613 - val_accuracy: 0.5199\n",
      "Epoch 89/100\n",
      "513/513 [==============================] - 2s 3ms/step - loss: 1.1852 - accuracy: 0.5225 - val_loss: 1.1576 - val_accuracy: 0.5257\n",
      "Epoch 90/100\n",
      "513/513 [==============================] - 2s 3ms/step - loss: 1.1879 - accuracy: 0.5215 - val_loss: 1.1626 - val_accuracy: 0.5240\n",
      "Epoch 91/100\n",
      "513/513 [==============================] - 2s 4ms/step - loss: 1.1849 - accuracy: 0.5218 - val_loss: 1.1583 - val_accuracy: 0.5201\n",
      "Epoch 92/100\n",
      "513/513 [==============================] - 3s 6ms/step - loss: 1.1890 - accuracy: 0.5218 - val_loss: 1.1596 - val_accuracy: 0.5192\n",
      "Epoch 93/100\n",
      "513/513 [==============================] - 2s 5ms/step - loss: 1.1874 - accuracy: 0.5220 - val_loss: 1.1701 - val_accuracy: 0.5240\n",
      "Epoch 94/100\n",
      "513/513 [==============================] - 3s 5ms/step - loss: 1.1859 - accuracy: 0.5179 - val_loss: 1.1573 - val_accuracy: 0.5213\n",
      "Epoch 95/100\n",
      "513/513 [==============================] - 3s 5ms/step - loss: 1.1886 - accuracy: 0.5244 - val_loss: 1.1609 - val_accuracy: 0.5138\n",
      "Epoch 96/100\n",
      "513/513 [==============================] - 2s 4ms/step - loss: 1.1893 - accuracy: 0.5209 - val_loss: 1.1612 - val_accuracy: 0.5231\n",
      "Epoch 97/100\n",
      "513/513 [==============================] - 2s 5ms/step - loss: 1.1855 - accuracy: 0.5212 - val_loss: 1.1625 - val_accuracy: 0.5211\n",
      "Epoch 98/100\n",
      "513/513 [==============================] - 3s 5ms/step - loss: 1.1888 - accuracy: 0.5223 - val_loss: 1.1577 - val_accuracy: 0.5223\n",
      "Epoch 99/100\n",
      "513/513 [==============================] - 2s 4ms/step - loss: 1.1863 - accuracy: 0.5198 - val_loss: 1.1589 - val_accuracy: 0.5245\n",
      "Epoch 100/100\n",
      "513/513 [==============================] - 3s 5ms/step - loss: 1.1863 - accuracy: 0.5244 - val_loss: 1.1613 - val_accuracy: 0.5162\n"
     ]
    }
   ],
   "source": [
    "model_dp3.compile(optimizer=Adam(lr=0.001),loss='categorical_crossentropy' ,\n",
    "              metrics=['accuracy'] )\n",
    "NN_model_dp3 = model_dp3.fit(X_train, ytrain, epochs=100, \n",
    "                     validation_data=(X_test,ytest),batch_size=32, \n",
    "                     verbose=1)"
   ]
  },
  {
   "cell_type": "code",
   "execution_count": null,
   "metadata": {
    "colab": {
     "base_uri": "https://localhost:8080/",
     "height": 350
    },
    "id": "lia6eKmrhIiz",
    "outputId": "4ecbfc9b-11ba-4700-8796-ebebed062eb7"
   },
   "outputs": [
    {
     "data": {
      "image/png": "[encoded data removed]",
      "text/plain": [
       "<Figure size 1080x360 with 2 Axes>"
      ]
     },
     "metadata": {
      "needs_background": "light"
     },
     "output_type": "display_data"
    }
   ],
   "source": [
    "plt.rcParams[\"figure.figsize\"] = (15,5)\n",
    "plt.subplot(1, 2, 1)\n",
    "plt.plot(NN_model_dp3.history['accuracy'], label='train')\n",
    "plt.plot(NN_model_dp3.history['val_accuracy'], label='test')\n",
    "plt.legend(loc=\"lower right\")\n",
    "#plt.ylim(0.51, 0.54)\n",
    "plt.xlabel(\"Epoch\")\n",
    "plt.ylabel(\"Accuracy\")\n",
    "plt.title(\"Accuracy History \")\n",
    "plt.subplot(1, 2, 2)\n",
    "plt.plot(NN_model_dp3.history['loss'], label='train')\n",
    "plt.plot(NN_model_dp3.history['val_loss'], label='test')\n",
    "#plt.ylim(1.14, 1.18)\n",
    "plt.xlabel(\"Epoch\")\n",
    "plt.ylabel(\"Loss\")\n",
    "plt.title(\"Accuracy History \")\n",
    "plt.legend(loc=\"lower right\")\n",
    "plt.show()"
   ]
  },
  {
   "cell_type": "code",
   "execution_count": null,
   "metadata": {
    "colab": {
     "base_uri": "https://localhost:8080/"
    },
    "id": "GArnqPufhIgD",
    "outputId": "a89f13bb-5f3f-45b6-eda2-8b21f1d9df3e"
   },
   "outputs": [
    {
     "name": "stdout",
     "output_type": "stream",
     "text": [
      "Model: \"sequential_35\"\n",
      "_________________________________________________________________\n",
      " Layer (type)                Output Shape              Param #   \n",
      "=================================================================\n",
      " layer_1 (Dense)             (None, 128)               16512     \n",
      "                                                                 \n",
      " layer_2 (Dense)             (None, 96)                12384     \n",
      "                                                                 \n",
      " dropout_24 (Dropout)        (None, 96)                0         \n",
      "                                                                 \n",
      " layer_3 (Dense)             (None, 64)                6208      \n",
      "                                                                 \n",
      " layer_4 (Dense)             (None, 32)                2080      \n",
      "                                                                 \n",
      " output (Dense)              (None, 6)                 198       \n",
      "                                                                 \n",
      "=================================================================\n",
      "Total params: 37,382\n",
      "Trainable params: 37,382\n",
      "Non-trainable params: 0\n",
      "_________________________________________________________________\n"
     ]
    }
   ],
   "source": [
    "model_dp5 = models.Sequential()\n",
    "model_dp5.add(keras.layers.Dense(128, activation='relu',kernel_regularizer='l2',name ='layer_1',input_shape=(128,)))\n",
    "model_dp5.add(keras.layers.Dense(96, activation='relu',kernel_regularizer='l2', name = 'layer_2'))\n",
    "model_dp5.add(Dropout(0.5))\n",
    "model_dp5.add(keras.layers.Dense(64, activation='relu',kernel_regularizer='l2', name = 'layer_3'))\n",
    "model_dp5.add(keras.layers.Dense(32, activation='relu',kernel_regularizer='l2', name = 'layer_4'))\n",
    "model_dp5.add(keras.layers.Dense(6, activation='softmax',kernel_regularizer='l2',name='output'))\n",
    "model_dp5.summary()"
   ]
  },
  {
   "cell_type": "code",
   "execution_count": null,
   "metadata": {
    "colab": {
     "base_uri": "https://localhost:8080/"
    },
    "collapsed": true,
    "id": "oRs1Z3_phnYf",
    "outputId": "a468dcf3-0f54-4ca1-9f0e-9c962cfe9a63"
   },
   "outputs": [
    {
     "name": "stdout",
     "output_type": "stream",
     "text": [
      "Epoch 1/100\n",
      "513/513 [==============================] - 3s 4ms/step - loss: 1.8933 - accuracy: 0.4757 - val_loss: 1.3104 - val_accuracy: 0.5177\n",
      "Epoch 2/100\n",
      "513/513 [==============================] - 2s 3ms/step - loss: 1.2730 - accuracy: 0.5125 - val_loss: 1.2214 - val_accuracy: 0.5030\n",
      "Epoch 3/100\n",
      "513/513 [==============================] - 2s 3ms/step - loss: 1.2425 - accuracy: 0.5105 - val_loss: 1.1950 - val_accuracy: 0.5138\n",
      "Epoch 4/100\n",
      "513/513 [==============================] - 2s 3ms/step - loss: 1.2248 - accuracy: 0.5113 - val_loss: 1.1873 - val_accuracy: 0.5128\n",
      "Epoch 5/100\n",
      "513/513 [==============================] - 2s 3ms/step - loss: 1.2180 - accuracy: 0.5149 - val_loss: 1.1893 - val_accuracy: 0.5116\n",
      "Epoch 6/100\n",
      "513/513 [==============================] - 2s 3ms/step - loss: 1.2159 - accuracy: 0.5150 - val_loss: 1.1861 - val_accuracy: 0.5082\n",
      "Epoch 7/100\n",
      "513/513 [==============================] - 2s 3ms/step - loss: 1.2102 - accuracy: 0.5137 - val_loss: 1.1785 - val_accuracy: 0.5113\n",
      "Epoch 8/100\n",
      "513/513 [==============================] - 2s 3ms/step - loss: 1.2101 - accuracy: 0.5145 - val_loss: 1.1722 - val_accuracy: 0.5206\n",
      "Epoch 9/100\n",
      "513/513 [==============================] - 2s 4ms/step - loss: 1.2071 - accuracy: 0.5143 - val_loss: 1.1711 - val_accuracy: 0.5131\n",
      "Epoch 10/100\n",
      "513/513 [==============================] - 2s 4ms/step - loss: 1.2040 - accuracy: 0.5134 - val_loss: 1.1883 - val_accuracy: 0.5035\n",
      "Epoch 11/100\n",
      "513/513 [==============================] - 3s 6ms/step - loss: 1.1989 - accuracy: 0.5182 - val_loss: 1.1679 - val_accuracy: 0.5204\n",
      "Epoch 12/100\n",
      "513/513 [==============================] - 3s 6ms/step - loss: 1.2022 - accuracy: 0.5168 - val_loss: 1.1671 - val_accuracy: 0.5189\n",
      "Epoch 13/100\n",
      "513/513 [==============================] - 3s 6ms/step - loss: 1.1974 - accuracy: 0.5187 - val_loss: 1.1921 - val_accuracy: 0.4996\n",
      "Epoch 14/100\n",
      "513/513 [==============================] - 3s 6ms/step - loss: 1.1983 - accuracy: 0.5174 - val_loss: 1.1638 - val_accuracy: 0.5221\n",
      "Epoch 15/100\n",
      "513/513 [==============================] - 2s 3ms/step - loss: 1.1966 - accuracy: 0.5169 - val_loss: 1.1661 - val_accuracy: 0.5174\n",
      "Epoch 16/100\n",
      "513/513 [==============================] - 2s 3ms/step - loss: 1.1980 - accuracy: 0.5173 - val_loss: 1.1633 - val_accuracy: 0.5192\n",
      "Epoch 17/100\n",
      "513/513 [==============================] - 2s 3ms/step - loss: 1.1984 - accuracy: 0.5156 - val_loss: 1.1648 - val_accuracy: 0.5211\n",
      "Epoch 18/100\n",
      "513/513 [==============================] - 2s 4ms/step - loss: 1.1948 - accuracy: 0.5211 - val_loss: 1.1622 - val_accuracy: 0.5160\n",
      "Epoch 19/100\n",
      "513/513 [==============================] - 4s 7ms/step - loss: 1.1962 - accuracy: 0.5162 - val_loss: 1.1671 - val_accuracy: 0.5206\n",
      "Epoch 20/100\n",
      "513/513 [==============================] - 2s 4ms/step - loss: 1.1956 - accuracy: 0.5156 - val_loss: 1.1705 - val_accuracy: 0.5170\n",
      "Epoch 21/100\n",
      "513/513 [==============================] - 3s 5ms/step - loss: 1.1977 - accuracy: 0.5187 - val_loss: 1.1642 - val_accuracy: 0.5189\n",
      "Epoch 22/100\n",
      "513/513 [==============================] - 3s 6ms/step - loss: 1.1950 - accuracy: 0.5132 - val_loss: 1.1684 - val_accuracy: 0.5172\n",
      "Epoch 23/100\n",
      "513/513 [==============================] - 2s 4ms/step - loss: 1.1924 - accuracy: 0.5213 - val_loss: 1.1614 - val_accuracy: 0.5174\n",
      "Epoch 24/100\n",
      "513/513 [==============================] - 2s 4ms/step - loss: 1.1929 - accuracy: 0.5182 - val_loss: 1.1637 - val_accuracy: 0.5138\n",
      "Epoch 25/100\n",
      "513/513 [==============================] - 3s 5ms/step - loss: 1.1923 - accuracy: 0.5196 - val_loss: 1.1626 - val_accuracy: 0.5162\n",
      "Epoch 26/100\n",
      "513/513 [==============================] - 2s 4ms/step - loss: 1.1932 - accuracy: 0.5189 - val_loss: 1.1633 - val_accuracy: 0.5179\n",
      "Epoch 27/100\n",
      "513/513 [==============================] - 2s 4ms/step - loss: 1.1943 - accuracy: 0.5148 - val_loss: 1.1757 - val_accuracy: 0.5121\n",
      "Epoch 28/100\n",
      "513/513 [==============================] - 2s 5ms/step - loss: 1.1937 - accuracy: 0.5189 - val_loss: 1.1604 - val_accuracy: 0.5231\n",
      "Epoch 29/100\n",
      "513/513 [==============================] - 3s 5ms/step - loss: 1.1916 - accuracy: 0.5179 - val_loss: 1.1631 - val_accuracy: 0.5245\n",
      "Epoch 30/100\n",
      "513/513 [==============================] - 3s 6ms/step - loss: 1.1907 - accuracy: 0.5174 - val_loss: 1.1893 - val_accuracy: 0.5228\n",
      "Epoch 31/100\n",
      "513/513 [==============================] - 2s 3ms/step - loss: 1.1915 - accuracy: 0.5201 - val_loss: 1.1681 - val_accuracy: 0.5101\n",
      "Epoch 32/100\n",
      "513/513 [==============================] - 1s 3ms/step - loss: 1.1903 - accuracy: 0.5176 - val_loss: 1.1897 - val_accuracy: 0.5157\n",
      "Epoch 33/100\n",
      "513/513 [==============================] - 2s 3ms/step - loss: 1.1930 - accuracy: 0.5203 - val_loss: 1.1609 - val_accuracy: 0.5216\n",
      "Epoch 34/100\n",
      "513/513 [==============================] - 2s 3ms/step - loss: 1.1897 - accuracy: 0.5227 - val_loss: 1.1644 - val_accuracy: 0.5126\n",
      "Epoch 35/100\n",
      "513/513 [==============================] - 2s 3ms/step - loss: 1.1897 - accuracy: 0.5163 - val_loss: 1.1596 - val_accuracy: 0.5255\n",
      "Epoch 36/100\n",
      "513/513 [==============================] - 2s 3ms/step - loss: 1.1913 - accuracy: 0.5155 - val_loss: 1.1618 - val_accuracy: 0.5250\n",
      "Epoch 37/100\n",
      "513/513 [==============================] - 2s 3ms/step - loss: 1.1920 - accuracy: 0.5167 - val_loss: 1.1623 - val_accuracy: 0.5143\n",
      "Epoch 38/100\n",
      "513/513 [==============================] - 2s 3ms/step - loss: 1.1923 - accuracy: 0.5179 - val_loss: 1.1588 - val_accuracy: 0.5179\n",
      "Epoch 39/100\n",
      "513/513 [==============================] - 2s 3ms/step - loss: 1.1903 - accuracy: 0.5182 - val_loss: 1.1601 - val_accuracy: 0.5223\n",
      "Epoch 40/100\n",
      "513/513 [==============================] - 2s 3ms/step - loss: 1.1912 - accuracy: 0.5162 - val_loss: 1.1656 - val_accuracy: 0.5223\n",
      "Epoch 41/100\n",
      "513/513 [==============================] - 2s 3ms/step - loss: 1.1903 - accuracy: 0.5162 - val_loss: 1.1611 - val_accuracy: 0.5165\n",
      "Epoch 42/100\n",
      "513/513 [==============================] - 2s 3ms/step - loss: 1.1869 - accuracy: 0.5207 - val_loss: 1.1596 - val_accuracy: 0.5248\n",
      "Epoch 43/100\n",
      "513/513 [==============================] - 2s 3ms/step - loss: 1.1924 - accuracy: 0.5202 - val_loss: 1.1604 - val_accuracy: 0.5172\n",
      "Epoch 44/100\n",
      "513/513 [==============================] - 2s 4ms/step - loss: 1.1873 - accuracy: 0.5196 - val_loss: 1.1698 - val_accuracy: 0.5084\n",
      "Epoch 45/100\n",
      "513/513 [==============================] - 2s 5ms/step - loss: 1.1923 - accuracy: 0.5205 - val_loss: 1.1621 - val_accuracy: 0.5216\n",
      "Epoch 46/100\n",
      "513/513 [==============================] - 2s 5ms/step - loss: 1.1911 - accuracy: 0.5207 - val_loss: 1.1688 - val_accuracy: 0.5150\n",
      "Epoch 47/100\n",
      "513/513 [==============================] - 2s 4ms/step - loss: 1.1921 - accuracy: 0.5173 - val_loss: 1.1836 - val_accuracy: 0.5270\n",
      "Epoch 48/100\n",
      "513/513 [==============================] - 2s 5ms/step - loss: 1.1922 - accuracy: 0.5157 - val_loss: 1.1665 - val_accuracy: 0.5143\n",
      "Epoch 49/100\n",
      "513/513 [==============================] - 2s 4ms/step - loss: 1.1904 - accuracy: 0.5179 - val_loss: 1.1602 - val_accuracy: 0.5184\n",
      "Epoch 50/100\n",
      "513/513 [==============================] - 3s 7ms/step - loss: 1.1893 - accuracy: 0.5193 - val_loss: 1.1603 - val_accuracy: 0.5199\n",
      "Epoch 51/100\n",
      "513/513 [==============================] - 3s 6ms/step - loss: 1.1907 - accuracy: 0.5156 - val_loss: 1.1590 - val_accuracy: 0.5211\n",
      "Epoch 52/100\n",
      "513/513 [==============================] - 3s 6ms/step - loss: 1.1899 - accuracy: 0.5124 - val_loss: 1.1651 - val_accuracy: 0.5245\n",
      "Epoch 53/100\n",
      "513/513 [==============================] - 4s 8ms/step - loss: 1.1902 - accuracy: 0.5201 - val_loss: 1.1610 - val_accuracy: 0.5240\n",
      "Epoch 54/100\n",
      "513/513 [==============================] - 5s 9ms/step - loss: 1.1903 - accuracy: 0.5198 - val_loss: 1.1672 - val_accuracy: 0.5223\n",
      "Epoch 55/100\n",
      "513/513 [==============================] - 2s 3ms/step - loss: 1.1901 - accuracy: 0.5187 - val_loss: 1.1592 - val_accuracy: 0.5228\n",
      "Epoch 56/100\n",
      "513/513 [==============================] - 2s 3ms/step - loss: 1.1888 - accuracy: 0.5212 - val_loss: 1.1587 - val_accuracy: 0.5245\n",
      "Epoch 57/100\n",
      "513/513 [==============================] - 2s 3ms/step - loss: 1.1881 - accuracy: 0.5185 - val_loss: 1.1652 - val_accuracy: 0.5245\n",
      "Epoch 58/100\n",
      "513/513 [==============================] - 3s 5ms/step - loss: 1.1906 - accuracy: 0.5170 - val_loss: 1.1606 - val_accuracy: 0.5211\n",
      "Epoch 59/100\n",
      "513/513 [==============================] - 4s 7ms/step - loss: 1.1887 - accuracy: 0.5212 - val_loss: 1.1791 - val_accuracy: 0.5016\n",
      "Epoch 60/100\n",
      "513/513 [==============================] - 3s 5ms/step - loss: 1.1890 - accuracy: 0.5201 - val_loss: 1.1686 - val_accuracy: 0.5226\n",
      "Epoch 61/100\n",
      "513/513 [==============================] - 3s 5ms/step - loss: 1.1914 - accuracy: 0.5164 - val_loss: 1.1619 - val_accuracy: 0.5218\n",
      "Epoch 62/100\n",
      "513/513 [==============================] - 2s 3ms/step - loss: 1.1881 - accuracy: 0.5208 - val_loss: 1.1597 - val_accuracy: 0.5196\n",
      "Epoch 63/100\n",
      "513/513 [==============================] - 2s 3ms/step - loss: 1.1892 - accuracy: 0.5178 - val_loss: 1.1658 - val_accuracy: 0.5091\n",
      "Epoch 64/100\n",
      "513/513 [==============================] - 2s 3ms/step - loss: 1.1896 - accuracy: 0.5188 - val_loss: 1.1581 - val_accuracy: 0.5192\n",
      "Epoch 65/100\n",
      "513/513 [==============================] - 2s 3ms/step - loss: 1.1882 - accuracy: 0.5177 - val_loss: 1.1633 - val_accuracy: 0.5133\n",
      "Epoch 66/100\n",
      "513/513 [==============================] - 2s 3ms/step - loss: 1.1882 - accuracy: 0.5185 - val_loss: 1.1603 - val_accuracy: 0.5199\n",
      "Epoch 67/100\n",
      "513/513 [==============================] - 2s 4ms/step - loss: 1.1890 - accuracy: 0.5163 - val_loss: 1.1586 - val_accuracy: 0.5177\n",
      "Epoch 68/100\n",
      "513/513 [==============================] - 2s 3ms/step - loss: 1.1898 - accuracy: 0.5166 - val_loss: 1.1716 - val_accuracy: 0.5128\n",
      "Epoch 69/100\n",
      "513/513 [==============================] - 2s 3ms/step - loss: 1.1910 - accuracy: 0.5174 - val_loss: 1.1725 - val_accuracy: 0.5121\n",
      "Epoch 70/100\n",
      "513/513 [==============================] - 2s 3ms/step - loss: 1.1913 - accuracy: 0.5196 - val_loss: 1.1578 - val_accuracy: 0.5235\n",
      "Epoch 71/100\n",
      "513/513 [==============================] - 2s 3ms/step - loss: 1.1903 - accuracy: 0.5174 - val_loss: 1.1603 - val_accuracy: 0.5235\n",
      "Epoch 72/100\n",
      "513/513 [==============================] - 2s 3ms/step - loss: 1.1888 - accuracy: 0.5174 - val_loss: 1.1565 - val_accuracy: 0.5206\n",
      "Epoch 73/100\n",
      "513/513 [==============================] - 2s 3ms/step - loss: 1.1889 - accuracy: 0.5204 - val_loss: 1.1621 - val_accuracy: 0.5235\n",
      "Epoch 74/100\n",
      "513/513 [==============================] - 2s 3ms/step - loss: 1.1891 - accuracy: 0.5185 - val_loss: 1.1650 - val_accuracy: 0.5170\n",
      "Epoch 75/100\n",
      "513/513 [==============================] - 2s 3ms/step - loss: 1.1861 - accuracy: 0.5196 - val_loss: 1.1609 - val_accuracy: 0.5248\n",
      "Epoch 76/100\n",
      "513/513 [==============================] - 2s 3ms/step - loss: 1.1909 - accuracy: 0.5147 - val_loss: 1.1571 - val_accuracy: 0.5218\n",
      "Epoch 77/100\n",
      "513/513 [==============================] - 2s 3ms/step - loss: 1.1885 - accuracy: 0.5142 - val_loss: 1.1612 - val_accuracy: 0.5174\n",
      "Epoch 78/100\n",
      "513/513 [==============================] - 2s 3ms/step - loss: 1.1912 - accuracy: 0.5183 - val_loss: 1.1618 - val_accuracy: 0.5162\n",
      "Epoch 79/100\n",
      "513/513 [==============================] - 2s 3ms/step - loss: 1.1887 - accuracy: 0.5168 - val_loss: 1.1581 - val_accuracy: 0.5233\n",
      "Epoch 80/100\n",
      "513/513 [==============================] - 2s 3ms/step - loss: 1.1905 - accuracy: 0.5171 - val_loss: 1.1631 - val_accuracy: 0.5155\n",
      "Epoch 81/100\n",
      "513/513 [==============================] - 2s 3ms/step - loss: 1.1868 - accuracy: 0.5199 - val_loss: 1.1666 - val_accuracy: 0.5126\n",
      "Epoch 82/100\n",
      "513/513 [==============================] - 2s 3ms/step - loss: 1.1858 - accuracy: 0.5210 - val_loss: 1.1589 - val_accuracy: 0.5199\n",
      "Epoch 83/100\n",
      "513/513 [==============================] - 2s 4ms/step - loss: 1.1901 - accuracy: 0.5179 - val_loss: 1.1600 - val_accuracy: 0.5262\n",
      "Epoch 84/100\n",
      "513/513 [==============================] - 2s 3ms/step - loss: 1.1888 - accuracy: 0.5170 - val_loss: 1.1607 - val_accuracy: 0.5245\n",
      "Epoch 85/100\n",
      "513/513 [==============================] - 2s 3ms/step - loss: 1.1890 - accuracy: 0.5206 - val_loss: 1.1660 - val_accuracy: 0.5138\n",
      "Epoch 86/100\n",
      "513/513 [==============================] - 2s 3ms/step - loss: 1.1874 - accuracy: 0.5203 - val_loss: 1.1653 - val_accuracy: 0.5262\n",
      "Epoch 87/100\n",
      "513/513 [==============================] - 2s 3ms/step - loss: 1.1878 - accuracy: 0.5228 - val_loss: 1.1557 - val_accuracy: 0.5243\n",
      "Epoch 88/100\n",
      "513/513 [==============================] - 2s 3ms/step - loss: 1.1877 - accuracy: 0.5195 - val_loss: 1.1722 - val_accuracy: 0.5265\n",
      "Epoch 89/100\n",
      "513/513 [==============================] - 2s 3ms/step - loss: 1.1876 - accuracy: 0.5180 - val_loss: 1.1605 - val_accuracy: 0.5240\n",
      "Epoch 90/100\n",
      "513/513 [==============================] - 2s 3ms/step - loss: 1.1895 - accuracy: 0.5212 - val_loss: 1.1617 - val_accuracy: 0.5233\n",
      "Epoch 91/100\n",
      "513/513 [==============================] - 2s 3ms/step - loss: 1.1892 - accuracy: 0.5223 - val_loss: 1.1648 - val_accuracy: 0.5289\n",
      "Epoch 92/100\n",
      "513/513 [==============================] - 2s 3ms/step - loss: 1.1910 - accuracy: 0.5199 - val_loss: 1.1565 - val_accuracy: 0.5260\n",
      "Epoch 93/100\n",
      "513/513 [==============================] - 2s 3ms/step - loss: 1.1879 - accuracy: 0.5217 - val_loss: 1.1583 - val_accuracy: 0.5218\n",
      "Epoch 94/100\n",
      "513/513 [==============================] - 2s 3ms/step - loss: 1.1890 - accuracy: 0.5172 - val_loss: 1.1745 - val_accuracy: 0.5255\n",
      "Epoch 95/100\n",
      "513/513 [==============================] - 2s 3ms/step - loss: 1.1888 - accuracy: 0.5181 - val_loss: 1.1574 - val_accuracy: 0.5211\n",
      "Epoch 96/100\n",
      "513/513 [==============================] - 2s 3ms/step - loss: 1.1902 - accuracy: 0.5204 - val_loss: 1.1578 - val_accuracy: 0.5209\n",
      "Epoch 97/100\n",
      "513/513 [==============================] - 2s 3ms/step - loss: 1.1891 - accuracy: 0.5180 - val_loss: 1.1554 - val_accuracy: 0.5233\n",
      "Epoch 98/100\n",
      "513/513 [==============================] - 2s 3ms/step - loss: 1.1877 - accuracy: 0.5199 - val_loss: 1.1590 - val_accuracy: 0.5221\n",
      "Epoch 99/100\n",
      "513/513 [==============================] - 2s 3ms/step - loss: 1.1889 - accuracy: 0.5190 - val_loss: 1.1614 - val_accuracy: 0.5192\n",
      "Epoch 100/100\n",
      "513/513 [==============================] - 2s 3ms/step - loss: 1.1882 - accuracy: 0.5217 - val_loss: 1.1602 - val_accuracy: 0.5318\n"
     ]
    }
   ],
   "source": [
    "model_dp5.compile(optimizer=Adam(lr=0.001),loss='categorical_crossentropy' ,\n",
    "              metrics=['accuracy'] )\n",
    "NN_model_dp5 = model_dp5.fit(X_train, ytrain, epochs=100, \n",
    "                     validation_data=(X_test,ytest),batch_size=32, \n",
    "                     verbose=1)"
   ]
  },
  {
   "cell_type": "code",
   "execution_count": null,
   "metadata": {
    "colab": {
     "base_uri": "https://localhost:8080/",
     "height": 350
    },
    "id": "m_Cv3T2FhIdL",
    "outputId": "ed45fadf-dde2-493e-e1d5-303a7d12d98a"
   },
   "outputs": [
    {
     "data": {
      "image/png": "[encoded data removed]",
      "text/plain": [
       "<Figure size 1080x360 with 2 Axes>"
      ]
     },
     "metadata": {
      "needs_background": "light"
     },
     "output_type": "display_data"
    }
   ],
   "source": [
    "plt.rcParams[\"figure.figsize\"] = (15,5)\n",
    "plt.subplot(1, 2, 1)\n",
    "plt.plot(NN_model_dp5.history['accuracy'], label='train')\n",
    "plt.plot(NN_model_dp5.history['val_accuracy'], label='test')\n",
    "plt.legend(loc=\"lower right\")\n",
    "#plt.ylim(0.51, 0.54)\n",
    "plt.xlabel(\"Epoch\")\n",
    "plt.ylabel(\"Accuracy\")\n",
    "plt.title(\"Accuracy History \")\n",
    "plt.subplot(1, 2, 2)\n",
    "plt.plot(NN_model_dp5.history['loss'], label='train')\n",
    "plt.plot(NN_model_dp5.history['val_loss'], label='test')\n",
    "#plt.ylim(1.14, 1.18)\n",
    "plt.xlabel(\"Epoch\")\n",
    "plt.ylabel(\"Loss\")\n",
    "plt.title(\"Accuracy History \")\n",
    "plt.legend(loc=\"lower right\")\n",
    "plt.show()"
   ]
  },
  {
   "cell_type": "code",
   "execution_count": null,
   "metadata": {
    "colab": {
     "base_uri": "https://localhost:8080/"
    },
    "id": "QqMTamxkM5Om",
    "outputId": "c61938f3-6bfd-476d-e64a-499f299f0a0a"
   },
   "outputs": [
    {
     "name": "stdout",
     "output_type": "stream",
     "text": [
      "Dropout with 0.2 Value After First Hidden layer:  51.65 %\n",
      "Dropout with 0.2 Value After Second Hidden layer:  52.745 %\n",
      "Dropout with 0.5 Value After Second Hidden layer:  53.184 %\n",
      "Dropout with 0.2 Value After Third Hidden layer:  53.232 %\n",
      "Dropout with 0.2 Value After Fourth Hidden layer:  51.622 %\n"
     ]
    }
   ],
   "source": [
    "score_dp1 = model_dp1.evaluate(X_test,ytest,verbose=0)\n",
    "score_dp2 = model_dp2.evaluate(X_test,ytest,verbose=0)\n",
    "score_dp3 = model_dp3.evaluate(X_test,ytest,verbose=0)\n",
    "score_dp5 = model_dp5.evaluate(X_test,ytest,verbose=0)\n",
    "print(\"Dropout with 0.2 Value After First Hidden layer: \",round(score_dp1[1]*100,2),\"%\")\n",
    "print(\"Dropout with 0.2 Value After Second Hidden layer: \",round(score_l2[1]*100,3),\"%\")\n",
    "print(\"Dropout with 0.5 Value After Second Hidden layer: \",round(score_dp5[1]*100,3),\"%\")\n",
    "print(\"Dropout with 0.2 Value After Third Hidden layer: \",round(score_dp2[1]*100,3),\"%\")\n",
    "print(\"Dropout with 0.2 Value After Fourth Hidden layer: \",round(score_dp3[1]*100,3),\"%\")"
   ]
  },
  {
   "cell_type": "markdown",
   "metadata": {
    "id": "yhIm1uYyj93_"
   },
   "source": [
    "# **Reason:**\n",
    ">1. Training a model without L2 Regularization leads to Overfitting data which is visible from test & train accuracy plot with respect to epoch.\n",
    ">2. Increase in Dropout Value or Moving Droput Position is improving the accuracy of the model marginally."
   ]
  },
  {
   "cell_type": "code",
   "execution_count": null,
   "metadata": {
    "id": "GoDeEgTCM5KY"
   },
   "outputs": [],
   "source": []
  },
  {
   "cell_type": "markdown",
   "metadata": {
    "id": "oXfsSCpJllH1"
   },
   "source": [
    "## **Appendix:**\n",
    "\n",
    "Hyperparameter Tuning using RandomSearch"
   ]
  },
  {
   "cell_type": "code",
   "execution_count": null,
   "metadata": {},
   "outputs": [],
   "source": [
    "#Using SMOT to balance the imbalance\n",
    "X = data['Review'].copy()\n",
    "y = data['Rating'].copy()\n",
    "sm = SMOTE(random_state=2)\n",
    "Xt_train, Xt_test, yttrain, yttest = train_test_split(X, y, test_size=0.2)\n",
    "embed = hub.load(\"https://tfhub.dev/google/nnlm-en-dim128/2\")\n",
    "Xt_train = embed(Xt_train)\n",
    "Xt_test = embed(Xt_test)\n",
    "X_resample, y_resample = sm.fit_resample(Xt_train, yttrain)\n",
    "model = models.Sequential()\n",
    "model.add(keras.layers.Dense(128, activation='relu', kernel_regularizer='l2',name ='layer_1',input_shape=(128,)))\n",
    "model.add(keras.layers.Dense(96, activation='relu',kernel_regularizer='l2', name = 'layer_2'))\n",
    "model.add(Dropout(0.2))\n",
    "model.add(keras.layers.Dense(64, activation='relu',kernel_regularizer='l2', name = 'layer_3'))\n",
    "model.add(keras.layers.Dense(32, activation='relu',kernel_regularizer='l2', name = 'layer_4'))\n",
    "model.add(keras.layers.Dense(6, activation='softmax', kernel_regularizer='l2',name='output'))\n",
    "model.summary()\n",
    "y_resample = tf.keras.utils.to_categorical(y_resample, num_classes = 6)\n",
    "yttest = tf.keras.utils.to_categorical(yttest, num_classes = 6)\n",
    "model.compile(optimizer=Adam(lr=0.001),loss='categorical_crossentropy' ,\n",
    "              metrics=['accuracy'] )\n",
    "NN_model_sm = model.fit(X_resample, y_resample, epochs=100, \n",
    "                     validation_data=(Xt_test,yttest),batch_size=32,verbose=1)"
   ]
  },
  {
   "cell_type": "code",
   "execution_count": null,
   "metadata": {
    "id": "fzoP63HJpG7V"
   },
   "outputs": [],
   "source": [
    "def build_model(hp):\n",
    "    model = keras.Sequential()\n",
    "    for i in range(hp.Int('num_layers', 1, 5)):\n",
    "        model.add(layers.Dense(units=hp.Int('units_' + str(i),\n",
    "                                            min_value=32,\n",
    "                                            max_value=128,\n",
    "                                            step=32),\n",
    "                               activation='relu'))\n",
    "    model.add(layers.Dense(6, activation='softmax',kernel_regularizer='l2'))\n",
    "    model.compile(\n",
    "        optimizer=keras.optimizers.Adam(\n",
    "            hp.Choice('learning_rate', [1e-2, 1e-3, 1e-4])),\n",
    "        loss='categorical_crossentropy',\n",
    "        metrics=['accuracy'])\n",
    "    return model"
   ]
  },
  {
   "cell_type": "code",
   "execution_count": null,
   "metadata": {
    "id": "Y5CWeTCfpG43"
   },
   "outputs": [],
   "source": [
    "tuner = ktt.RandomSearch(\n",
    "    build_model,\n",
    "    objective='val_accuracy',\n",
    "    max_trials=5,\n",
    "    executions_per_trial=3,\n",
    "    directory='proje',\n",
    "    project_name='DL_Assignment')"
   ]
  },
  {
   "cell_type": "code",
   "execution_count": null,
   "metadata": {
    "colab": {
     "base_uri": "https://localhost:8080/"
    },
    "id": "pYCaUeZ3pG2T",
    "outputId": "74de15e2-00e4-4899-e987-6a9a68467c5f"
   },
   "outputs": [
    {
     "name": "stdout",
     "output_type": "stream",
     "text": [
      "Search space summary\n",
      "Default search space size: 3\n",
      "num_layers (Int)\n",
      "{'default': None, 'conditions': [], 'min_value': 1, 'max_value': 8, 'step': 1, 'sampling': None}\n",
      "units_0 (Int)\n",
      "{'default': None, 'conditions': [], 'min_value': 32, 'max_value': 512, 'step': 32, 'sampling': None}\n",
      "learning_rate (Choice)\n",
      "{'default': 0.01, 'conditions': [], 'values': [0.01, 0.001, 0.0001], 'ordered': True}\n"
     ]
    }
   ],
   "source": [
    "tuner.search_space_summary()"
   ]
  },
  {
   "cell_type": "code",
   "execution_count": null,
   "metadata": {
    "colab": {
     "base_uri": "https://localhost:8080/"
    },
    "id": "TadrbiuvpGzf",
    "outputId": "1cbacc44-ceeb-4c3e-b824-97577b24df45"
   },
   "outputs": [
    {
     "name": "stdout",
     "output_type": "stream",
     "text": [
      "Trial 5 Complete [00h 13m 53s]\n",
      "val_accuracy: 0.5892493923505148\n",
      "\n",
      "Best val_accuracy So Far: 0.5892493923505148\n",
      "Total elapsed time: 01h 25m 00s\n",
      "INFO:tensorflow:Oracle triggered exit\n"
     ]
    },
    {
     "name": "stderr",
     "output_type": "stream",
     "text": [
      "INFO:tensorflow:Oracle triggered exit\n"
     ]
    }
   ],
   "source": [
    "tuner.search(X_train, ytrain,\n",
    "             epochs=100,\n",
    "             validation_data=(X_test, ytest))"
   ]
  },
  {
   "cell_type": "code",
   "execution_count": null,
   "metadata": {
    "colab": {
     "base_uri": "https://localhost:8080/"
    },
    "id": "2e7VC9wbpGww",
    "outputId": "d3a1b300-41c5-437a-9b63-bb9424b93d05"
   },
   "outputs": [
    {
     "name": "stdout",
     "output_type": "stream",
     "text": [
      "Results summary\n",
      "Results in proje/DL_Assignment\n",
      "Showing 10 best trials\n",
      "Objective(name='val_accuracy', direction='max')\n",
      "Trial summary\n",
      "Hyperparameters:\n",
      "num_layers: 1\n",
      "units_0: 256\n",
      "learning_rate: 0.001\n",
      "units_1: 352\n",
      "units_2: 448\n",
      "units_3: 480\n",
      "units_4: 320\n",
      "units_5: 64\n",
      "units_6: 512\n",
      "units_7: 320\n",
      "Score: 0.5892493923505148\n",
      "Trial summary\n",
      "Hyperparameters:\n",
      "num_layers: 8\n",
      "units_0: 96\n",
      "learning_rate: 0.001\n",
      "units_1: 32\n",
      "units_2: 32\n",
      "units_3: 32\n",
      "units_4: 32\n",
      "units_5: 32\n",
      "units_6: 32\n",
      "units_7: 32\n",
      "Score: 0.5885175069173177\n",
      "Trial summary\n",
      "Hyperparameters:\n",
      "num_layers: 7\n",
      "units_0: 160\n",
      "learning_rate: 0.0001\n",
      "units_1: 320\n",
      "units_2: 320\n",
      "units_3: 512\n",
      "units_4: 416\n",
      "units_5: 416\n",
      "units_6: 96\n",
      "units_7: 128\n",
      "Score: 0.5877043008804321\n",
      "Trial summary\n",
      "Hyperparameters:\n",
      "num_layers: 3\n",
      "units_0: 512\n",
      "learning_rate: 0.001\n",
      "units_1: 288\n",
      "units_2: 64\n",
      "units_3: 352\n",
      "units_4: 480\n",
      "units_5: 128\n",
      "units_6: 160\n",
      "units_7: 224\n",
      "Score: 0.5876229802767435\n",
      "Trial summary\n",
      "Hyperparameters:\n",
      "num_layers: 8\n",
      "units_0: 224\n",
      "learning_rate: 0.0001\n",
      "units_1: 32\n",
      "units_2: 64\n",
      "units_3: 448\n",
      "units_4: 64\n",
      "units_5: 512\n",
      "units_6: 96\n",
      "units_7: 256\n",
      "Score: 0.5872163772583008\n"
     ]
    }
   ],
   "source": [
    "tuner.results_summary()"
   ]
  },
  {
   "cell_type": "code",
   "execution_count": null,
   "metadata": {
    "id": "d-SNjwYjMX2i"
   },
   "outputs": [],
   "source": []
  },
  {
   "cell_type": "code",
   "execution_count": null,
   "metadata": {
    "id": "mAyZC9FQMXzr"
   },
   "outputs": [],
   "source": []
  },
  {
   "cell_type": "code",
   "execution_count": null,
   "metadata": {
    "id": "-hPnggCtMXxG"
   },
   "outputs": [],
   "source": []
  },
  {
   "cell_type": "code",
   "execution_count": null,
   "metadata": {
    "id": "amsiekkJMXun"
   },
   "outputs": [],
   "source": []
  },
  {
   "cell_type": "code",
   "execution_count": null,
   "metadata": {
    "id": "K3Yt9ma2MXsL"
   },
   "outputs": [],
   "source": []
  },
  {
   "cell_type": "code",
   "execution_count": null,
   "metadata": {
    "id": "5vxcPogoMXpe"
   },
   "outputs": [],
   "source": []
  },
  {
   "cell_type": "code",
   "execution_count": null,
   "metadata": {
    "id": "Qa9KMaIMMXmv"
   },
   "outputs": [],
   "source": []
  },
  {
   "cell_type": "code",
   "execution_count": null,
   "metadata": {
    "id": "I9fu3wkfMXkK"
   },
   "outputs": [],
   "source": []
  },
  {
   "cell_type": "code",
   "execution_count": null,
   "metadata": {
    "id": "atKSdKguMXhg"
   },
   "outputs": [],
   "source": []
  },
  {
   "cell_type": "code",
   "execution_count": null,
   "metadata": {
    "id": "TSlZtoXPMXej"
   },
   "outputs": [],
   "source": []
  },
  {
   "cell_type": "code",
   "execution_count": null,
   "metadata": {
    "id": "shVlHeycIyBO"
   },
   "outputs": [],
   "source": []
  },
  {
   "cell_type": "code",
   "execution_count": null,
   "metadata": {
    "id": "XwDvyGI0Ix93"
   },
   "outputs": [],
   "source": []
  },
  {
   "cell_type": "code",
   "execution_count": null,
   "metadata": {
    "id": "T7GzvXrXIx6Y"
   },
   "outputs": [],
   "source": []
  },
  {
   "cell_type": "code",
   "execution_count": null,
   "metadata": {
    "id": "4UnKsSB9Ix4F"
   },
   "outputs": [],
   "source": []
  },
  {
   "cell_type": "code",
   "execution_count": null,
   "metadata": {
    "id": "JV_Kj_1YIx1H"
   },
   "outputs": [],
   "source": []
  },
  {
   "cell_type": "code",
   "execution_count": null,
   "metadata": {
    "id": "pDeVa-w_IxyQ"
   },
   "outputs": [],
   "source": []
  },
  {
   "cell_type": "code",
   "execution_count": null,
   "metadata": {
    "id": "WM_PfB7iIxvt"
   },
   "outputs": [],
   "source": []
  },
  {
   "cell_type": "code",
   "execution_count": null,
   "metadata": {
    "id": "UMbVUohFIxtS"
   },
   "outputs": [],
   "source": []
  },
  {
   "cell_type": "code",
   "execution_count": null,
   "metadata": {
    "id": "tzjz8VQSIxqV"
   },
   "outputs": [],
   "source": []
  },
  {
   "cell_type": "code",
   "execution_count": null,
   "metadata": {
    "id": "ij2Yw_CbIxna"
   },
   "outputs": [],
   "source": []
  },
  {
   "cell_type": "code",
   "execution_count": null,
   "metadata": {
    "id": "PrLXOjZlIxk2"
   },
   "outputs": [],
   "source": []
  },
  {
   "cell_type": "code",
   "execution_count": null,
   "metadata": {
    "id": "48ywAFE-IxiX"
   },
   "outputs": [],
   "source": []
  },
  {
   "cell_type": "code",
   "execution_count": null,
   "metadata": {
    "id": "KxLk85IgIxfb"
   },
   "outputs": [],
   "source": []
  },
  {
   "cell_type": "code",
   "execution_count": null,
   "metadata": {
    "id": "WrZpLWuTIxcd"
   },
   "outputs": [],
   "source": []
  }
 ],
 "metadata": {
  "accelerator": "GPU",
  "colab": {
   "collapsed_sections": [],
   "name": "DL_Assnmnt_1.ipynb",
   "provenance": []
  },
  "kernelspec": {
   "display_name": "Python 3",
   "language": "python",
   "name": "python3"
  },
  "language_info": {
   "codemirror_mode": {
    "name": "ipython",
    "version": 3
   },
   "file_extension": ".py",
   "mimetype": "text/x-python",
   "name": "python",
   "nbconvert_exporter": "python",
   "pygments_lexer": "ipython3",
   "version": "3.7.6"
  }
 },
 "nbformat": 4,
 "nbformat_minor": 1
}
